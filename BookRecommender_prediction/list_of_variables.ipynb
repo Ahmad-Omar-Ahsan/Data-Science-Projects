{
 "cells": [
  {
   "cell_type": "markdown",
   "metadata": {},
   "source": [
    "## LIst of variables"
   ]
  },
  {
   "cell_type": "markdown",
   "metadata": {},
   "source": [
    "**Variables for initial weight and bias for visible and hidden layers**\n",
    "- w: Weight matrix\n",
    "- hb: bias for hidden layer\n",
    "- vb: bias for visible layer\n",
    "\n",
    "**Variables to hold previous values for weight and bias for visible and hidden layers**\n",
    "- prv_w \n",
    "- prv_hb\n",
    "- prv_vb\n",
    "\n",
    "**Variables to hold current values for weight and bias for visible and hidden layers**\n",
    "- cur_w\n",
    "- cur_hb\n",
    "- cur_vb\n",
    "\n",
    "**Variables to hold updated values for weight and bias for visible and hidden layers**\n",
    "- update_w\n",
    "- update_vb\n",
    "- update_hb\n",
    "\n",
    "\n",
    "**Variables for forward and backward passes**\n",
    "- v0: Input (it will be multiplied by its respective weight)\n",
    "- h0: Output from activation function (prob_h_given_v) after Gibbs sampling\n",
    "\n",
    "- v1: Output from activation function (prob_v_given_h) after Gibbs sampling\n",
    "- h1: Output from activation function (prob_h_given_v)\n",
    "\n",
    "**Gradients and error**\n",
    "- positive_grad: The outer product of transpose(v0) and h0\n",
    "- negative_grad: The outer product of transpose(v1) and h1\n",
    "- error: error MSE\n",
    "\n",
    "\n",
    "\n",
    "**Variables for a single user**\n",
    "\n",
    "- hh0: Outer product of v0 and _w, adding _hb\n",
    "- vv1: Outer product of hh0 and  transpose_w, adding _vb\n",
    "\n",
    "\n",
    "----------------------------------\n",
    "By: Wendy Navarrete\n",
    "November 2017\n"
   ]
  }
 ],
 "metadata": {
  "kernelspec": {
   "display_name": "Python 3",
   "language": "python",
   "name": "python3"
  },
  "language_info": {
   "codemirror_mode": {
    "name": "ipython",
    "version": 3
   },
   "file_extension": ".py",
   "mimetype": "text/x-python",
   "name": "python",
   "nbconvert_exporter": "python",
   "pygments_lexer": "ipython3",
   "version": "3.7.5"
  }
 },
 "nbformat": 4,
 "nbformat_minor": 2
}
