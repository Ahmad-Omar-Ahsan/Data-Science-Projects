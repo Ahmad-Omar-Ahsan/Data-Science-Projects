{
 "cells": [
  {
   "cell_type": "markdown",
   "metadata": {},
   "source": [
    "## Project: Books Recommender System"
   ]
  },
  {
   "cell_type": "markdown",
   "metadata": {},
   "source": [
    "Nowadays, in this global world there is a vast number of things to select, where people might be lost. That is the case at the moment of choosing the next book to read. That’s why this project proposal is a book recommender system to help people choose better among a huge set of options.\n",
    "\n",
    "What you'll find in this notebook is:\n",
    "\n",
    "- Getting and loading data from this github [Repository](https://github.com/zygmuntz/goodbooks-10k)\n",
    "- Data Exploration\n",
    "- Cost function definition\n",
    "- 2 approaches:\n",
    "    - Matrix Factorization or Embedding Model\n",
    "    - Restricted Boltzmann Machines\n",
    "- Model Execution\n",
    "- Results"
   ]
  },
  {
   "cell_type": "code",
   "execution_count": 1,
   "metadata": {},
   "outputs": [
    {
     "name": "stderr",
     "output_type": "stream",
     "text": [
      "Using TensorFlow backend.\n"
     ]
    }
   ],
   "source": [
    "import pandas as pd\n",
    "import numpy as np\n",
    "\n",
    "import matplotlib.pyplot as plt\n",
    "import seaborn as sns\n",
    "import random\n",
    "\n",
    "%matplotlib inline\n",
    "\n",
    "'''Data Prep and Model Evaluation'''\n",
    "from sklearn import preprocessing as pp\n",
    "from sklearn.model_selection import train_test_split\n",
    "from sklearn.metrics import log_loss\n",
    "from sklearn.metrics import mean_squared_error\n",
    "\n",
    "\n",
    "'''Keras and TensorFlow'''\n",
    "import tensorflow as tf\n",
    "import keras\n",
    "from keras import backend as K\n",
    "from keras.models import Sequential, Model\n",
    "from keras.layers import Activation, Dense, Dropout, Embedding, Flatten\n",
    "from keras.layers import dot\n",
    "from keras.layers import BatchNormalization, Input, Lambda\n",
    "from keras.losses import mse\n",
    "\n"
   ]
  },
  {
   "cell_type": "markdown",
   "metadata": {},
   "source": [
    "### Loading Data\n",
    "\n",
    "The dataset is composed by 3 .csv files provided by this guthub [repository](https://github.com/zygmuntz/goodbooks-10k)\n",
    "\n",
    "- books.csv: contains metadata for each book. It includes book id, title, author, number of editions, publication year, language, average rating and others\n",
    "\n",
    "- ratings.csv contains the most important variables for this project, user id, book id and book ratings\n",
    "\n",
    "- To_read.csv, is the file that provides user IDs and the book IDs that the user has already read"
   ]
  },
  {
   "cell_type": "code",
   "execution_count": 2,
   "metadata": {},
   "outputs": [],
   "source": [
    "# Loading data for book,csv file\n",
    "\n",
    "books = pd.read_csv('books.csv')\n",
    "ratings = pd.read_csv('ratings.csv')\n",
    "toread = pd.read_csv('to_read.csv')"
   ]
  },
  {
   "cell_type": "markdown",
   "metadata": {},
   "source": [
    "### Data Exploration"
   ]
  },
  {
   "cell_type": "markdown",
   "metadata": {},
   "source": [
    "**books.csv**"
   ]
  },
  {
   "cell_type": "code",
   "execution_count": 3,
   "metadata": {},
   "outputs": [
    {
     "data": {
      "text/html": [
       "<div>\n",
       "<style scoped>\n",
       "    .dataframe tbody tr th:only-of-type {\n",
       "        vertical-align: middle;\n",
       "    }\n",
       "\n",
       "    .dataframe tbody tr th {\n",
       "        vertical-align: top;\n",
       "    }\n",
       "\n",
       "    .dataframe thead th {\n",
       "        text-align: right;\n",
       "    }\n",
       "</style>\n",
       "<table border=\"1\" class=\"dataframe\">\n",
       "  <thead>\n",
       "    <tr style=\"text-align: right;\">\n",
       "      <th></th>\n",
       "      <th>book_id</th>\n",
       "      <th>goodreads_book_id</th>\n",
       "      <th>best_book_id</th>\n",
       "      <th>work_id</th>\n",
       "      <th>books_count</th>\n",
       "      <th>isbn</th>\n",
       "      <th>isbn13</th>\n",
       "      <th>authors</th>\n",
       "      <th>original_publication_year</th>\n",
       "      <th>original_title</th>\n",
       "      <th>...</th>\n",
       "      <th>ratings_count</th>\n",
       "      <th>work_ratings_count</th>\n",
       "      <th>work_text_reviews_count</th>\n",
       "      <th>ratings_1</th>\n",
       "      <th>ratings_2</th>\n",
       "      <th>ratings_3</th>\n",
       "      <th>ratings_4</th>\n",
       "      <th>ratings_5</th>\n",
       "      <th>image_url</th>\n",
       "      <th>small_image_url</th>\n",
       "    </tr>\n",
       "  </thead>\n",
       "  <tbody>\n",
       "    <tr>\n",
       "      <th>0</th>\n",
       "      <td>1</td>\n",
       "      <td>2767052</td>\n",
       "      <td>2767052</td>\n",
       "      <td>2792775</td>\n",
       "      <td>272</td>\n",
       "      <td>439023483</td>\n",
       "      <td>9.780439e+12</td>\n",
       "      <td>Suzanne Collins</td>\n",
       "      <td>2008.0</td>\n",
       "      <td>The Hunger Games</td>\n",
       "      <td>...</td>\n",
       "      <td>4780653</td>\n",
       "      <td>4942365</td>\n",
       "      <td>155254</td>\n",
       "      <td>66715</td>\n",
       "      <td>127936</td>\n",
       "      <td>560092</td>\n",
       "      <td>1481305</td>\n",
       "      <td>2706317</td>\n",
       "      <td>https://images.gr-assets.com/books/1447303603m...</td>\n",
       "      <td>https://images.gr-assets.com/books/1447303603s...</td>\n",
       "    </tr>\n",
       "    <tr>\n",
       "      <th>1</th>\n",
       "      <td>2</td>\n",
       "      <td>3</td>\n",
       "      <td>3</td>\n",
       "      <td>4640799</td>\n",
       "      <td>491</td>\n",
       "      <td>439554934</td>\n",
       "      <td>9.780440e+12</td>\n",
       "      <td>J.K. Rowling, Mary GrandPré</td>\n",
       "      <td>1997.0</td>\n",
       "      <td>Harry Potter and the Philosopher's Stone</td>\n",
       "      <td>...</td>\n",
       "      <td>4602479</td>\n",
       "      <td>4800065</td>\n",
       "      <td>75867</td>\n",
       "      <td>75504</td>\n",
       "      <td>101676</td>\n",
       "      <td>455024</td>\n",
       "      <td>1156318</td>\n",
       "      <td>3011543</td>\n",
       "      <td>https://images.gr-assets.com/books/1474154022m...</td>\n",
       "      <td>https://images.gr-assets.com/books/1474154022s...</td>\n",
       "    </tr>\n",
       "    <tr>\n",
       "      <th>2</th>\n",
       "      <td>3</td>\n",
       "      <td>41865</td>\n",
       "      <td>41865</td>\n",
       "      <td>3212258</td>\n",
       "      <td>226</td>\n",
       "      <td>316015849</td>\n",
       "      <td>9.780316e+12</td>\n",
       "      <td>Stephenie Meyer</td>\n",
       "      <td>2005.0</td>\n",
       "      <td>Twilight</td>\n",
       "      <td>...</td>\n",
       "      <td>3866839</td>\n",
       "      <td>3916824</td>\n",
       "      <td>95009</td>\n",
       "      <td>456191</td>\n",
       "      <td>436802</td>\n",
       "      <td>793319</td>\n",
       "      <td>875073</td>\n",
       "      <td>1355439</td>\n",
       "      <td>https://images.gr-assets.com/books/1361039443m...</td>\n",
       "      <td>https://images.gr-assets.com/books/1361039443s...</td>\n",
       "    </tr>\n",
       "    <tr>\n",
       "      <th>3</th>\n",
       "      <td>4</td>\n",
       "      <td>2657</td>\n",
       "      <td>2657</td>\n",
       "      <td>3275794</td>\n",
       "      <td>487</td>\n",
       "      <td>61120081</td>\n",
       "      <td>9.780061e+12</td>\n",
       "      <td>Harper Lee</td>\n",
       "      <td>1960.0</td>\n",
       "      <td>To Kill a Mockingbird</td>\n",
       "      <td>...</td>\n",
       "      <td>3198671</td>\n",
       "      <td>3340896</td>\n",
       "      <td>72586</td>\n",
       "      <td>60427</td>\n",
       "      <td>117415</td>\n",
       "      <td>446835</td>\n",
       "      <td>1001952</td>\n",
       "      <td>1714267</td>\n",
       "      <td>https://images.gr-assets.com/books/1361975680m...</td>\n",
       "      <td>https://images.gr-assets.com/books/1361975680s...</td>\n",
       "    </tr>\n",
       "    <tr>\n",
       "      <th>4</th>\n",
       "      <td>5</td>\n",
       "      <td>4671</td>\n",
       "      <td>4671</td>\n",
       "      <td>245494</td>\n",
       "      <td>1356</td>\n",
       "      <td>743273567</td>\n",
       "      <td>9.780743e+12</td>\n",
       "      <td>F. Scott Fitzgerald</td>\n",
       "      <td>1925.0</td>\n",
       "      <td>The Great Gatsby</td>\n",
       "      <td>...</td>\n",
       "      <td>2683664</td>\n",
       "      <td>2773745</td>\n",
       "      <td>51992</td>\n",
       "      <td>86236</td>\n",
       "      <td>197621</td>\n",
       "      <td>606158</td>\n",
       "      <td>936012</td>\n",
       "      <td>947718</td>\n",
       "      <td>https://images.gr-assets.com/books/1490528560m...</td>\n",
       "      <td>https://images.gr-assets.com/books/1490528560s...</td>\n",
       "    </tr>\n",
       "    <tr>\n",
       "      <th>5</th>\n",
       "      <td>6</td>\n",
       "      <td>11870085</td>\n",
       "      <td>11870085</td>\n",
       "      <td>16827462</td>\n",
       "      <td>226</td>\n",
       "      <td>525478817</td>\n",
       "      <td>9.780525e+12</td>\n",
       "      <td>John Green</td>\n",
       "      <td>2012.0</td>\n",
       "      <td>The Fault in Our Stars</td>\n",
       "      <td>...</td>\n",
       "      <td>2346404</td>\n",
       "      <td>2478609</td>\n",
       "      <td>140739</td>\n",
       "      <td>47994</td>\n",
       "      <td>92723</td>\n",
       "      <td>327550</td>\n",
       "      <td>698471</td>\n",
       "      <td>1311871</td>\n",
       "      <td>https://images.gr-assets.com/books/1360206420m...</td>\n",
       "      <td>https://images.gr-assets.com/books/1360206420s...</td>\n",
       "    </tr>\n",
       "    <tr>\n",
       "      <th>6</th>\n",
       "      <td>7</td>\n",
       "      <td>5907</td>\n",
       "      <td>5907</td>\n",
       "      <td>1540236</td>\n",
       "      <td>969</td>\n",
       "      <td>618260307</td>\n",
       "      <td>9.780618e+12</td>\n",
       "      <td>J.R.R. Tolkien</td>\n",
       "      <td>1937.0</td>\n",
       "      <td>The Hobbit or There and Back Again</td>\n",
       "      <td>...</td>\n",
       "      <td>2071616</td>\n",
       "      <td>2196809</td>\n",
       "      <td>37653</td>\n",
       "      <td>46023</td>\n",
       "      <td>76784</td>\n",
       "      <td>288649</td>\n",
       "      <td>665635</td>\n",
       "      <td>1119718</td>\n",
       "      <td>https://images.gr-assets.com/books/1372847500m...</td>\n",
       "      <td>https://images.gr-assets.com/books/1372847500s...</td>\n",
       "    </tr>\n",
       "    <tr>\n",
       "      <th>7</th>\n",
       "      <td>8</td>\n",
       "      <td>5107</td>\n",
       "      <td>5107</td>\n",
       "      <td>3036731</td>\n",
       "      <td>360</td>\n",
       "      <td>316769177</td>\n",
       "      <td>9.780317e+12</td>\n",
       "      <td>J.D. Salinger</td>\n",
       "      <td>1951.0</td>\n",
       "      <td>The Catcher in the Rye</td>\n",
       "      <td>...</td>\n",
       "      <td>2044241</td>\n",
       "      <td>2120637</td>\n",
       "      <td>44920</td>\n",
       "      <td>109383</td>\n",
       "      <td>185520</td>\n",
       "      <td>455042</td>\n",
       "      <td>661516</td>\n",
       "      <td>709176</td>\n",
       "      <td>https://images.gr-assets.com/books/1398034300m...</td>\n",
       "      <td>https://images.gr-assets.com/books/1398034300s...</td>\n",
       "    </tr>\n",
       "  </tbody>\n",
       "</table>\n",
       "<p>8 rows × 23 columns</p>\n",
       "</div>"
      ],
      "text/plain": [
       "   book_id  goodreads_book_id  best_book_id   work_id  books_count       isbn  \\\n",
       "0        1            2767052       2767052   2792775          272  439023483   \n",
       "1        2                  3             3   4640799          491  439554934   \n",
       "2        3              41865         41865   3212258          226  316015849   \n",
       "3        4               2657          2657   3275794          487   61120081   \n",
       "4        5               4671          4671    245494         1356  743273567   \n",
       "5        6           11870085      11870085  16827462          226  525478817   \n",
       "6        7               5907          5907   1540236          969  618260307   \n",
       "7        8               5107          5107   3036731          360  316769177   \n",
       "\n",
       "         isbn13                      authors  original_publication_year  \\\n",
       "0  9.780439e+12              Suzanne Collins                     2008.0   \n",
       "1  9.780440e+12  J.K. Rowling, Mary GrandPré                     1997.0   \n",
       "2  9.780316e+12              Stephenie Meyer                     2005.0   \n",
       "3  9.780061e+12                   Harper Lee                     1960.0   \n",
       "4  9.780743e+12          F. Scott Fitzgerald                     1925.0   \n",
       "5  9.780525e+12                   John Green                     2012.0   \n",
       "6  9.780618e+12               J.R.R. Tolkien                     1937.0   \n",
       "7  9.780317e+12                J.D. Salinger                     1951.0   \n",
       "\n",
       "                             original_title  ... ratings_count  \\\n",
       "0                          The Hunger Games  ...       4780653   \n",
       "1  Harry Potter and the Philosopher's Stone  ...       4602479   \n",
       "2                                  Twilight  ...       3866839   \n",
       "3                     To Kill a Mockingbird  ...       3198671   \n",
       "4                          The Great Gatsby  ...       2683664   \n",
       "5                    The Fault in Our Stars  ...       2346404   \n",
       "6        The Hobbit or There and Back Again  ...       2071616   \n",
       "7                    The Catcher in the Rye  ...       2044241   \n",
       "\n",
       "  work_ratings_count  work_text_reviews_count  ratings_1  ratings_2  \\\n",
       "0            4942365                   155254      66715     127936   \n",
       "1            4800065                    75867      75504     101676   \n",
       "2            3916824                    95009     456191     436802   \n",
       "3            3340896                    72586      60427     117415   \n",
       "4            2773745                    51992      86236     197621   \n",
       "5            2478609                   140739      47994      92723   \n",
       "6            2196809                    37653      46023      76784   \n",
       "7            2120637                    44920     109383     185520   \n",
       "\n",
       "   ratings_3  ratings_4  ratings_5  \\\n",
       "0     560092    1481305    2706317   \n",
       "1     455024    1156318    3011543   \n",
       "2     793319     875073    1355439   \n",
       "3     446835    1001952    1714267   \n",
       "4     606158     936012     947718   \n",
       "5     327550     698471    1311871   \n",
       "6     288649     665635    1119718   \n",
       "7     455042     661516     709176   \n",
       "\n",
       "                                           image_url  \\\n",
       "0  https://images.gr-assets.com/books/1447303603m...   \n",
       "1  https://images.gr-assets.com/books/1474154022m...   \n",
       "2  https://images.gr-assets.com/books/1361039443m...   \n",
       "3  https://images.gr-assets.com/books/1361975680m...   \n",
       "4  https://images.gr-assets.com/books/1490528560m...   \n",
       "5  https://images.gr-assets.com/books/1360206420m...   \n",
       "6  https://images.gr-assets.com/books/1372847500m...   \n",
       "7  https://images.gr-assets.com/books/1398034300m...   \n",
       "\n",
       "                                     small_image_url  \n",
       "0  https://images.gr-assets.com/books/1447303603s...  \n",
       "1  https://images.gr-assets.com/books/1474154022s...  \n",
       "2  https://images.gr-assets.com/books/1361039443s...  \n",
       "3  https://images.gr-assets.com/books/1361975680s...  \n",
       "4  https://images.gr-assets.com/books/1490528560s...  \n",
       "5  https://images.gr-assets.com/books/1360206420s...  \n",
       "6  https://images.gr-assets.com/books/1372847500s...  \n",
       "7  https://images.gr-assets.com/books/1398034300s...  \n",
       "\n",
       "[8 rows x 23 columns]"
      ]
     },
     "execution_count": 3,
     "metadata": {},
     "output_type": "execute_result"
    }
   ],
   "source": [
    "books.head(8)"
   ]
  },
  {
   "cell_type": "code",
   "execution_count": 4,
   "metadata": {},
   "outputs": [
    {
     "name": "stdout",
     "output_type": "stream",
     "text": [
      "<class 'pandas.core.frame.DataFrame'>\n",
      "RangeIndex: 10000 entries, 0 to 9999\n",
      "Data columns (total 23 columns):\n",
      "book_id                      10000 non-null int64\n",
      "goodreads_book_id            10000 non-null int64\n",
      "best_book_id                 10000 non-null int64\n",
      "work_id                      10000 non-null int64\n",
      "books_count                  10000 non-null int64\n",
      "isbn                         9300 non-null object\n",
      "isbn13                       9415 non-null float64\n",
      "authors                      10000 non-null object\n",
      "original_publication_year    9979 non-null float64\n",
      "original_title               9415 non-null object\n",
      "title                        10000 non-null object\n",
      "language_code                8916 non-null object\n",
      "average_rating               10000 non-null float64\n",
      "ratings_count                10000 non-null int64\n",
      "work_ratings_count           10000 non-null int64\n",
      "work_text_reviews_count      10000 non-null int64\n",
      "ratings_1                    10000 non-null int64\n",
      "ratings_2                    10000 non-null int64\n",
      "ratings_3                    10000 non-null int64\n",
      "ratings_4                    10000 non-null int64\n",
      "ratings_5                    10000 non-null int64\n",
      "image_url                    10000 non-null object\n",
      "small_image_url              10000 non-null object\n",
      "dtypes: float64(3), int64(13), object(7)\n",
      "memory usage: 1.8+ MB\n"
     ]
    }
   ],
   "source": [
    "# Columns and data types\n",
    "\n",
    "books.info()"
   ]
  },
  {
   "cell_type": "code",
   "execution_count": 5,
   "metadata": {
    "scrolled": true
   },
   "outputs": [
    {
     "name": "stdout",
     "output_type": "stream",
     "text": [
      "Number of rows: 10000 \n",
      "Number of unique books: 10000 \n",
      "Number of instances: 230000\n"
     ]
    }
   ],
   "source": [
    "# How many unique books and instances there are into this file\n",
    "\n",
    "# Number of rows\n",
    "print('Number of rows: {} '.format( books.book_id.count()))\n",
    "\n",
    "# Unique books\n",
    "print('Number of unique books: {} '.format(books.book_id.nunique()))\n",
    "\n",
    "# Number of instances on books file\n",
    "print('Number of instances: {}'. format(books.book_id.count()*len(books.columns)))"
   ]
  },
  {
   "cell_type": "markdown",
   "metadata": {},
   "source": [
    "**To read file**"
   ]
  },
  {
   "cell_type": "code",
   "execution_count": 6,
   "metadata": {},
   "outputs": [
    {
     "data": {
      "text/html": [
       "<div>\n",
       "<style scoped>\n",
       "    .dataframe tbody tr th:only-of-type {\n",
       "        vertical-align: middle;\n",
       "    }\n",
       "\n",
       "    .dataframe tbody tr th {\n",
       "        vertical-align: top;\n",
       "    }\n",
       "\n",
       "    .dataframe thead th {\n",
       "        text-align: right;\n",
       "    }\n",
       "</style>\n",
       "<table border=\"1\" class=\"dataframe\">\n",
       "  <thead>\n",
       "    <tr style=\"text-align: right;\">\n",
       "      <th></th>\n",
       "      <th>user_id</th>\n",
       "      <th>book_id</th>\n",
       "    </tr>\n",
       "  </thead>\n",
       "  <tbody>\n",
       "    <tr>\n",
       "      <th>0</th>\n",
       "      <td>9</td>\n",
       "      <td>8</td>\n",
       "    </tr>\n",
       "    <tr>\n",
       "      <th>1</th>\n",
       "      <td>15</td>\n",
       "      <td>398</td>\n",
       "    </tr>\n",
       "    <tr>\n",
       "      <th>2</th>\n",
       "      <td>15</td>\n",
       "      <td>275</td>\n",
       "    </tr>\n",
       "    <tr>\n",
       "      <th>3</th>\n",
       "      <td>37</td>\n",
       "      <td>7173</td>\n",
       "    </tr>\n",
       "    <tr>\n",
       "      <th>4</th>\n",
       "      <td>34</td>\n",
       "      <td>380</td>\n",
       "    </tr>\n",
       "    <tr>\n",
       "      <th>5</th>\n",
       "      <td>34</td>\n",
       "      <td>483</td>\n",
       "    </tr>\n",
       "    <tr>\n",
       "      <th>6</th>\n",
       "      <td>34</td>\n",
       "      <td>8598</td>\n",
       "    </tr>\n",
       "    <tr>\n",
       "      <th>7</th>\n",
       "      <td>34</td>\n",
       "      <td>3581</td>\n",
       "    </tr>\n",
       "  </tbody>\n",
       "</table>\n",
       "</div>"
      ],
      "text/plain": [
       "   user_id  book_id\n",
       "0        9        8\n",
       "1       15      398\n",
       "2       15      275\n",
       "3       37     7173\n",
       "4       34      380\n",
       "5       34      483\n",
       "6       34     8598\n",
       "7       34     3581"
      ]
     },
     "execution_count": 6,
     "metadata": {},
     "output_type": "execute_result"
    }
   ],
   "source": [
    "toread.head(8)"
   ]
  },
  {
   "cell_type": "code",
   "execution_count": 7,
   "metadata": {
    "scrolled": true
   },
   "outputs": [
    {
     "name": "stdout",
     "output_type": "stream",
     "text": [
      "<class 'pandas.core.frame.DataFrame'>\n",
      "RangeIndex: 912705 entries, 0 to 912704\n",
      "Data columns (total 2 columns):\n",
      "user_id    912705 non-null int64\n",
      "book_id    912705 non-null int64\n",
      "dtypes: int64(2)\n",
      "memory usage: 13.9 MB\n"
     ]
    }
   ],
   "source": [
    "toread.info()"
   ]
  },
  {
   "cell_type": "code",
   "execution_count": 8,
   "metadata": {
    "scrolled": true
   },
   "outputs": [
    {
     "name": "stdout",
     "output_type": "stream",
     "text": [
      "Number of rows: 912705\n",
      "Number of instances: 1825410\n",
      "Number of unique users: 48871 \n",
      "Number of unique books: 9986 \n"
     ]
    }
   ],
   "source": [
    "# Printing number of rows, instances and unique books and unique users\n",
    "\n",
    "tr_users = toread.user_id.nunique()\n",
    "tr_books = toread.book_id.nunique()\n",
    "\n",
    "print('Number of rows: {}'.format(toread.user_id.count()))\n",
    "print('Number of instances: {}'.format(toread.user_id.count() * len(toread.columns)))\n",
    "print('Number of unique users: {} '.format(tr_users))\n",
    "print('Number of unique books: {} '.format(tr_books))"
   ]
  },
  {
   "cell_type": "markdown",
   "metadata": {},
   "source": [
    "**ratings.csv**"
   ]
  },
  {
   "cell_type": "code",
   "execution_count": 9,
   "metadata": {},
   "outputs": [
    {
     "data": {
      "text/html": [
       "<div>\n",
       "<style scoped>\n",
       "    .dataframe tbody tr th:only-of-type {\n",
       "        vertical-align: middle;\n",
       "    }\n",
       "\n",
       "    .dataframe tbody tr th {\n",
       "        vertical-align: top;\n",
       "    }\n",
       "\n",
       "    .dataframe thead th {\n",
       "        text-align: right;\n",
       "    }\n",
       "</style>\n",
       "<table border=\"1\" class=\"dataframe\">\n",
       "  <thead>\n",
       "    <tr style=\"text-align: right;\">\n",
       "      <th></th>\n",
       "      <th>user_id</th>\n",
       "      <th>book_id</th>\n",
       "      <th>rating</th>\n",
       "    </tr>\n",
       "  </thead>\n",
       "  <tbody>\n",
       "    <tr>\n",
       "      <th>0</th>\n",
       "      <td>1</td>\n",
       "      <td>258</td>\n",
       "      <td>5</td>\n",
       "    </tr>\n",
       "    <tr>\n",
       "      <th>1</th>\n",
       "      <td>2</td>\n",
       "      <td>4081</td>\n",
       "      <td>4</td>\n",
       "    </tr>\n",
       "    <tr>\n",
       "      <th>2</th>\n",
       "      <td>2</td>\n",
       "      <td>260</td>\n",
       "      <td>5</td>\n",
       "    </tr>\n",
       "    <tr>\n",
       "      <th>3</th>\n",
       "      <td>2</td>\n",
       "      <td>9296</td>\n",
       "      <td>5</td>\n",
       "    </tr>\n",
       "    <tr>\n",
       "      <th>4</th>\n",
       "      <td>2</td>\n",
       "      <td>2318</td>\n",
       "      <td>3</td>\n",
       "    </tr>\n",
       "    <tr>\n",
       "      <th>5</th>\n",
       "      <td>2</td>\n",
       "      <td>26</td>\n",
       "      <td>4</td>\n",
       "    </tr>\n",
       "    <tr>\n",
       "      <th>6</th>\n",
       "      <td>2</td>\n",
       "      <td>315</td>\n",
       "      <td>3</td>\n",
       "    </tr>\n",
       "    <tr>\n",
       "      <th>7</th>\n",
       "      <td>2</td>\n",
       "      <td>33</td>\n",
       "      <td>4</td>\n",
       "    </tr>\n",
       "  </tbody>\n",
       "</table>\n",
       "</div>"
      ],
      "text/plain": [
       "   user_id  book_id  rating\n",
       "0        1      258       5\n",
       "1        2     4081       4\n",
       "2        2      260       5\n",
       "3        2     9296       5\n",
       "4        2     2318       3\n",
       "5        2       26       4\n",
       "6        2      315       3\n",
       "7        2       33       4"
      ]
     },
     "execution_count": 9,
     "metadata": {},
     "output_type": "execute_result"
    }
   ],
   "source": [
    "ratings.head(8)"
   ]
  },
  {
   "cell_type": "code",
   "execution_count": 10,
   "metadata": {},
   "outputs": [
    {
     "name": "stdout",
     "output_type": "stream",
     "text": [
      "<class 'pandas.core.frame.DataFrame'>\n",
      "RangeIndex: 5976479 entries, 0 to 5976478\n",
      "Data columns (total 3 columns):\n",
      "user_id    int64\n",
      "book_id    int64\n",
      "rating     int64\n",
      "dtypes: int64(3)\n",
      "memory usage: 136.8 MB\n"
     ]
    }
   ],
   "source": [
    "# Getting info from dataset ratings (columns and data types)\n",
    "\n",
    "ratings.info()"
   ]
  },
  {
   "cell_type": "code",
   "execution_count": 11,
   "metadata": {},
   "outputs": [
    {
     "name": "stdout",
     "output_type": "stream",
     "text": [
      "Number of rows: 5976479\n",
      "Number of instances: 17929437\n",
      "Number of unique users: 53424 \n",
      "Number of unique books: 10000 \n"
     ]
    }
   ],
   "source": [
    "#Let's verify number of instances and number of unique books and users have rated books there are into this file\n",
    "\n",
    "n_users = ratings.user_id.nunique()\n",
    "n_books = ratings.book_id.nunique()\n",
    "\n",
    "print('Number of rows: {}'.format(ratings.user_id.count()))\n",
    "print('Number of instances: {}'.format(ratings.book_id.count() * len(ratings.columns)))\n",
    "print('Number of unique users: {} '.format(n_users))\n",
    "print('Number of unique books: {} '.format(n_books))"
   ]
  },
  {
   "cell_type": "markdown",
   "metadata": {},
   "source": [
    "**Ratings file is the most important file for this project. The recommender system is based on items ratings, let's see it in details. 1 is the lowest rate and 5 is the highest rate given a book**"
   ]
  },
  {
   "cell_type": "code",
   "execution_count": 12,
   "metadata": {},
   "outputs": [
    {
     "data": {
      "image/png": "[encoded data removed]",
      "text/plain": [
       "<Figure size 576x360 with 1 Axes>"
      ]
     },
     "metadata": {
      "needs_background": "light"
     },
     "output_type": "display_data"
    }
   ],
   "source": [
    "# Plotting the ratings counting\n",
    "\n",
    "plt.figure(figsize=(8,5))\n",
    "sns.countplot(x=\"rating\", data=ratings)\n",
    "plt.title('Ratings counting')\n",
    "plt.show()"
   ]
  },
  {
   "cell_type": "markdown",
   "metadata": {},
   "source": [
    "**Let's visualize the average rating per user**"
   ]
  },
  {
   "cell_type": "code",
   "execution_count": 13,
   "metadata": {},
   "outputs": [
    {
     "data": {
      "text/plain": [
       "count    5.976479e+06\n",
       "mean     3.919866e+00\n",
       "std      9.910868e-01\n",
       "min      1.000000e+00\n",
       "25%      3.000000e+00\n",
       "50%      4.000000e+00\n",
       "75%      5.000000e+00\n",
       "max      5.000000e+00\n",
       "Name: rating, dtype: float64"
      ]
     },
     "execution_count": 13,
     "metadata": {},
     "output_type": "execute_result"
    }
   ],
   "source": [
    "ratings.rating.describe()"
   ]
  },
  {
   "cell_type": "code",
   "execution_count": 14,
   "metadata": {},
   "outputs": [
    {
     "data": {
      "image/png": "[encoded data removed]",
      "text/plain": [
       "<Figure size 576x360 with 1 Axes>"
      ]
     },
     "metadata": {
      "needs_background": "light"
     },
     "output_type": "display_data"
    }
   ],
   "source": [
    "plt.figure(figsize=(8,5))\n",
    "rating_avg_per_user = ratings[['user_id','rating']].groupby('user_id').mean().sort_values(by=['rating'], ascending=False)\n",
    "sns.boxplot(x='rating', data=rating_avg_per_user)\n",
    "plt.title('Average Rating per User')\n",
    "plt.show()"
   ]
  },
  {
   "cell_type": "markdown",
   "metadata": {},
   "source": [
    "### Data Cleaning"
   ]
  },
  {
   "cell_type": "code",
   "execution_count": 15,
   "metadata": {},
   "outputs": [
    {
     "name": "stdout",
     "output_type": "stream",
     "text": [
      "Null values in dataset should be seen in yellow\n"
     ]
    },
    {
     "data": {
      "image/png": "[encoded data removed]",
      "text/plain": [
       "<Figure size 576x360 with 1 Axes>"
      ]
     },
     "metadata": {
      "needs_background": "light"
     },
     "output_type": "display_data"
    }
   ],
   "source": [
    "plt.figure(figsize=(8,5))\n",
    "print('Null values in dataset should be seen in yellow')\n",
    "sns.heatmap(ratings.isnull(),yticklabels=False,cbar=False,cmap='viridis')\n",
    "plt.show()"
   ]
  },
  {
   "cell_type": "markdown",
   "metadata": {},
   "source": [
    "_As we can see in the graphic above, cleaning is not needed since there are not null values_"
   ]
  },
  {
   "cell_type": "markdown",
   "metadata": {},
   "source": [
    "### Data Size Reducing"
   ]
  },
  {
   "cell_type": "code",
   "execution_count": 16,
   "metadata": {},
   "outputs": [
    {
     "name": "stdout",
     "output_type": "stream",
     "text": [
      "Number of unique users: 53424 \n",
      "Number of unique books: 10000 \n"
     ]
    }
   ],
   "source": [
    "print('Number of unique users: {} '.format(n_users))\n",
    "print('Number of unique books: {} '.format(n_books))"
   ]
  },
  {
   "cell_type": "markdown",
   "metadata": {},
   "source": [
    "#### Based on numbers above, let's reduce the complexity and size of this dataset and take the top one thousand most rated books. It represents the 10% of books the dataset contains"
   ]
  },
  {
   "cell_type": "code",
   "execution_count": 17,
   "metadata": {},
   "outputs": [
    {
     "name": "stdout",
     "output_type": "stream",
     "text": [
      "Number of unique books in dataset: 1000\n"
     ]
    }
   ],
   "source": [
    "#To reduce complexity and size of this dataset\n",
    "\n",
    "#variable with number of books and users there will be in the new dataset\n",
    "records = 1000\n",
    "\n",
    "bookIndex = ratings.groupby('book_id').count().sort_values(by='rating',ascending=False)[0:records].index\n",
    "ratings_2 = ratings[ratings.book_id.isin(bookIndex)]\n",
    "\n",
    "print('Number of unique books in dataset: {}'.format(ratings_2.book_id.nunique()))"
   ]
  },
  {
   "cell_type": "markdown",
   "metadata": {},
   "source": [
    "#### Let's take just 1000 of users\n"
   ]
  },
  {
   "cell_type": "code",
   "execution_count": 18,
   "metadata": {},
   "outputs": [
    {
     "name": "stdout",
     "output_type": "stream",
     "text": [
      "Number of unique users in dataset: 1000 \n",
      "\n",
      "<class 'pandas.core.frame.DataFrame'>\n",
      "Int64Index: 58851 entries, 846 to 5975819\n",
      "Data columns (total 3 columns):\n",
      "user_id    58851 non-null int64\n",
      "book_id    58851 non-null int64\n",
      "rating     58851 non-null int64\n",
      "dtypes: int64(3)\n",
      "memory usage: 1.8 MB\n"
     ]
    }
   ],
   "source": [
    "# Taking 1000 users\n",
    "userIndex = ratings_2.groupby('user_id').count().sort_values(by='rating',ascending=False).sample(n=records,random_state=2020).index\n",
    "\n",
    "# Creating the new dataset for working in this project\n",
    "reducedRatings = ratings_2[ratings_2.user_id.isin(userIndex)]\n",
    "\n",
    "print('Number of unique users in dataset: {} \\n'.format(reducedRatings.user_id.nunique()))\n",
    "\n",
    "reducedRatings.info()"
   ]
  },
  {
   "cell_type": "markdown",
   "metadata": {},
   "source": [
    "**Let's reindex book_id and user_id to a range from 1 to 1000**"
   ]
  },
  {
   "cell_type": "code",
   "execution_count": 19,
   "metadata": {},
   "outputs": [],
   "source": [
    "#Reindexing book_id and user_id to a range from 1 to 1000\n",
    "\n",
    "bookIDs = reducedRatings.book_id.unique()\n",
    "bookDF = pd.DataFrame(data=bookIDs,columns=['originalBookId'])\n",
    "bookDF['newBookId'] = bookDF.index+1\n",
    "\n",
    "\n",
    "userIDs = reducedRatings.user_id.unique()\n",
    "userDF = pd.DataFrame(data=userIDs, columns=['originalUserId'])\n",
    "userDF['newUserId'] = userDF.index+1\n",
    "\n",
    "reducedRatings = reducedRatings.merge(bookDF, left_on='book_id', right_on='originalBookId')\n",
    "reducedRatings.drop(labels='originalBookId', axis=1, inplace=True)\n",
    "\n",
    "reducedRatings = reducedRatings.merge(userDF, left_on='user_id',right_on='originalUserId')\n",
    "reducedRatings.drop(labels='originalUserId', axis=1, inplace=True)\n"
   ]
  },
  {
   "cell_type": "markdown",
   "metadata": {},
   "source": [
    "#### Exploring the reduced dataset"
   ]
  },
  {
   "cell_type": "code",
   "execution_count": 20,
   "metadata": {},
   "outputs": [
    {
     "data": {
      "text/html": [
       "<div>\n",
       "<style scoped>\n",
       "    .dataframe tbody tr th:only-of-type {\n",
       "        vertical-align: middle;\n",
       "    }\n",
       "\n",
       "    .dataframe tbody tr th {\n",
       "        vertical-align: top;\n",
       "    }\n",
       "\n",
       "    .dataframe thead th {\n",
       "        text-align: right;\n",
       "    }\n",
       "</style>\n",
       "<table border=\"1\" class=\"dataframe\">\n",
       "  <thead>\n",
       "    <tr style=\"text-align: right;\">\n",
       "      <th></th>\n",
       "      <th>user_id</th>\n",
       "      <th>book_id</th>\n",
       "      <th>rating</th>\n",
       "      <th>newBookId</th>\n",
       "      <th>newUserId</th>\n",
       "    </tr>\n",
       "  </thead>\n",
       "  <tbody>\n",
       "    <tr>\n",
       "      <th>0</th>\n",
       "      <td>73</td>\n",
       "      <td>758</td>\n",
       "      <td>5</td>\n",
       "      <td>1</td>\n",
       "      <td>1</td>\n",
       "    </tr>\n",
       "    <tr>\n",
       "      <th>1</th>\n",
       "      <td>73</td>\n",
       "      <td>268</td>\n",
       "      <td>4</td>\n",
       "      <td>2</td>\n",
       "      <td>1</td>\n",
       "    </tr>\n",
       "    <tr>\n",
       "      <th>2</th>\n",
       "      <td>73</td>\n",
       "      <td>820</td>\n",
       "      <td>5</td>\n",
       "      <td>3</td>\n",
       "      <td>1</td>\n",
       "    </tr>\n",
       "    <tr>\n",
       "      <th>3</th>\n",
       "      <td>73</td>\n",
       "      <td>380</td>\n",
       "      <td>5</td>\n",
       "      <td>4</td>\n",
       "      <td>1</td>\n",
       "    </tr>\n",
       "    <tr>\n",
       "      <th>4</th>\n",
       "      <td>73</td>\n",
       "      <td>851</td>\n",
       "      <td>4</td>\n",
       "      <td>5</td>\n",
       "      <td>1</td>\n",
       "    </tr>\n",
       "  </tbody>\n",
       "</table>\n",
       "</div>"
      ],
      "text/plain": [
       "   user_id  book_id  rating  newBookId  newUserId\n",
       "0       73      758       5          1          1\n",
       "1       73      268       4          2          1\n",
       "2       73      820       5          3          1\n",
       "3       73      380       5          4          1\n",
       "4       73      851       4          5          1"
      ]
     },
     "execution_count": 20,
     "metadata": {},
     "output_type": "execute_result"
    }
   ],
   "source": [
    "reducedRatings.head()"
   ]
  },
  {
   "cell_type": "code",
   "execution_count": 21,
   "metadata": {},
   "outputs": [
    {
     "name": "stdout",
     "output_type": "stream",
     "text": [
      "Number of unique users: 1000 \n",
      "Number of unique books: 1000 \n",
      "Number of ratings: 58851 \n"
     ]
    }
   ],
   "source": [
    "n_users = reducedRatings.user_id.nunique()\n",
    "n_books = reducedRatings.book_id.nunique()\n",
    "n_ratings = len(reducedRatings)\n",
    "\n",
    "print('Number of unique users: {} '.format(n_users))\n",
    "print('Number of unique books: {} '.format(n_books))\n",
    "print('Number of ratings: {} '.format(n_ratings))\n"
   ]
  },
  {
   "cell_type": "code",
   "execution_count": 22,
   "metadata": {},
   "outputs": [
    {
     "data": {
      "image/png": "[encoded data removed]",
      "text/plain": [
       "<Figure size 576x360 with 1 Axes>"
      ]
     },
     "metadata": {
      "needs_background": "light"
     },
     "output_type": "display_data"
    }
   ],
   "source": [
    "# Plotting the ratings counting\n",
    "\n",
    "plt.figure(figsize=(8,5))\n",
    "sns.countplot(x=\"rating\", data=reducedRatings)\n",
    "plt.title('Reduce Dataset Ratings counting')\n",
    "plt.show()"
   ]
  },
  {
   "cell_type": "markdown",
   "metadata": {},
   "source": [
    "_Distribution in the graphic above is very similar to the original dataset_\n",
    "\n",
    "**Let's generate a test set and validation set**"
   ]
  },
  {
   "cell_type": "code",
   "execution_count": 23,
   "metadata": {},
   "outputs": [
    {
     "name": "stdout",
     "output_type": "stream",
     "text": [
      "Train set size: 52965 \n",
      "Validation set size: 29425 \n",
      "Test set size: 29426 \n"
     ]
    }
   ],
   "source": [
    "# Generating train, test and validation sets\n",
    "\n",
    "X_train, X_test = train_test_split(reducedRatings, test_size = 0.10, shuffle=True, random_state=2020)\n",
    "\n",
    "X_validation, X_test1 = train_test_split(reducedRatings, test_size = 0.50, shuffle=True, random_state=2020)\n",
    "\n",
    "\n",
    "print('Train set size: {} '.format(len(X_train)))\n",
    "print('Validation set size: {} '.format(len(X_validation)))\n",
    "print('Test set size: {} '.format(len(X_test1)))"
   ]
  },
  {
   "cell_type": "markdown",
   "metadata": {},
   "source": [
    "## Cost Function Definition"
   ]
  },
  {
   "cell_type": "markdown",
   "metadata": {},
   "source": [
    "I will use **Mean Squared Error (MSE)** as cost function to judge the goodness of the models. It measures the averaged square error between the predicted and actual values\n",
    "\n",
    "<img src='mse.png' size=20%/ width=\"50%\" height=\"50%\">"
   ]
  },
  {
   "cell_type": "code",
   "execution_count": 24,
   "metadata": {},
   "outputs": [
    {
     "name": "stdout",
     "output_type": "stream",
     "text": [
      "Sparcity: 5.3\n"
     ]
    }
   ],
   "source": [
    "# Creating a training rating matrix for train u x b, \n",
    "# where u are the users and the b are the books\n",
    "\n",
    "ratings_train = np.zeros((n_users,n_books))\n",
    "\n",
    "for row in X_train.itertuples():    \n",
    "    ratings_train[row[5]-1, row[4]-1] = row[3]\n",
    "\n",
    "#Calculating sparcity of train matrix\n",
    "sparcity = float(len(ratings_train.nonzero()[0]))\n",
    "sparcity /= (ratings_train.shape[0] * ratings_train.shape[1])\n",
    "sparcity *= 100\n",
    "print('Sparcity: {}'.format(round(sparcity,2)))"
   ]
  },
  {
   "cell_type": "code",
   "execution_count": 25,
   "metadata": {},
   "outputs": [],
   "source": [
    "# Creating a validation rating matrix for validation u x b, \n",
    "# where u are the users and the b are the books\n",
    "\n",
    "ratings_validation = np.zeros((n_users,n_books))\n",
    "for row in X_validation.itertuples():    \n",
    "    ratings_validation[row[5]-1, row[4]-1] = row[3]\n",
    "\n",
    "\n",
    "# Creating a test rating matrix for test u x b, \n",
    "# where u are the users and the b are the books\n",
    "\n",
    "ratings_test = np.zeros((n_users,n_books))\n",
    "for row in X_test.itertuples():    \n",
    "    ratings_test[row[5]-1, row[4]-1] = row[3]\n"
   ]
  },
  {
   "cell_type": "code",
   "execution_count": 26,
   "metadata": {},
   "outputs": [
    {
     "name": "stdout",
     "output_type": "stream",
     "text": [
      "Mean squared error using naive prediction: 1.2081648258283773\n"
     ]
    }
   ],
   "source": [
    "# Predicting an average rating of 3.5 for the validation set and calculating MSE\n",
    "\n",
    "actual_validation = ratings_validation[ratings_validation.nonzero()].flatten()\n",
    "\n",
    "pred_validation = np.zeros((len(X_validation),1))\n",
    "pred_validation[pred_validation==0] = 3.5\n",
    "\n",
    "\n",
    "mse = mean_squared_error(pred_validation,actual_validation)\n",
    "\n",
    "print('Mean squared error using naive prediction: {}'.format(mse))"
   ]
  },
  {
   "cell_type": "code",
   "execution_count": 27,
   "metadata": {},
   "outputs": [
    {
     "name": "stdout",
     "output_type": "stream",
     "text": [
      "Mean squared error using user average: 0.8434119929918782\n"
     ]
    }
   ],
   "source": [
    "# Predicting a user's rating for a given book based on that user's average rating for all other books\n",
    "\n",
    "ratings_validation_prediction = np.zeros((n_users,n_books))\n",
    "i = 0\n",
    "for row in ratings_train:\n",
    "    ratings_validation_prediction[i][ratings_validation_prediction[i]==0] = np.mean(row[row>0])\n",
    "    i += 1\n",
    "    \n",
    "pred_validation = ratings_validation_prediction[ratings_validation.nonzero()].flatten()\n",
    "user_average = mean_squared_error(pred_validation,actual_validation)\n",
    "\n",
    "print('Mean squared error using user average: {}'.format(user_average))"
   ]
  },
  {
   "cell_type": "code",
   "execution_count": 28,
   "metadata": {},
   "outputs": [
    {
     "name": "stdout",
     "output_type": "stream",
     "text": [
      "Mean squared error using book average: 0.9427778575574443\n"
     ]
    }
   ],
   "source": [
    "# Predicting a users'rating for a given book based on average rating all other users gave that book\n",
    "\n",
    "ratings_validation_prediction = np.zeros((n_users, n_books)).T\n",
    "i = 0\n",
    "for row in ratings_train.T:\n",
    "    ratings_validation_prediction[i][ratings_validation_prediction[i]==0] = np.mean(row[row>0])\n",
    "    i += 1\n",
    "    \n",
    "ratings_validation_prediction = ratings_validation_prediction.T\n",
    "pred_validation = ratings_validation_prediction[ratings_validation.nonzero()].flatten()\n",
    "\n",
    "book_average = mean_squared_error(pred_validation,actual_validation)\n",
    "print('Mean squared error using book average: {}'.format(book_average))"
   ]
  },
  {
   "cell_type": "markdown",
   "metadata": {},
   "source": [
    "## Approach 1: Latent Factor Based or Matrix Factorization\n",
    "\n"
   ]
  },
  {
   "cell_type": "markdown",
   "metadata": {},
   "source": [
    "**Matrix factorization** is one of the most popular and succesful collaborative filtering algorithms today. It decomposes the user-item (in this case user-books) into a product of two lower dimensionality matrices."
   ]
  },
  {
   "cell_type": "code",
   "execution_count": 58,
   "metadata": {},
   "outputs": [],
   "source": [
    "# Defining this function to avoid repeat code and see results for different latent factors\n",
    "\n",
    "def perform_MF(latent_factors):\n",
    "\n",
    "    '''\n",
    "    perform_MF: \n",
    "        Create an embedding model using Keras to perform the matrix factorization. \n",
    "\n",
    "    Args:\n",
    "        Number of latent factors for the model\n",
    "\n",
    "    Returns:\n",
    "        A model with the number of latent factors given\n",
    "\n",
    "    '''\n",
    "    \n",
    "    n_latent_factors = latent_factors\n",
    "\n",
    "    # User dimensional vector    \n",
    "    user_input = Input(shape=[1],name='user')\n",
    "    user_embedding = Embedding(input_dim=n_users + 1, output_dim=n_latent_factors,\n",
    "                              name='user_embedding')(user_input)\n",
    "    user_vector = Flatten(name='flatten_users')(user_embedding)\n",
    "\n",
    "    # Book dimensional vector\n",
    "    book_input = Input(shape=[1],name='books')\n",
    "    book_embedding = Embedding(input_dim=n_books + 1, output_dim=n_latent_factors,\n",
    "                              name='book_embedding')(book_input)\n",
    "    book_vector = Flatten(name='flatten_books')(book_embedding)\n",
    "    \n",
    "    \n",
    "    # Generating the output vector to take the dot product of book vector and user vector\n",
    "    product = dot([user_vector,book_vector], axes=1)\n",
    "    \n",
    "    # Creating an instance of the Model\n",
    "    model = Model(inputs=[user_input,book_input], outputs=product)\n",
    "    \n",
    "    # Compiling the Neural Network, specifying 2 functions: a loss and an optimizer.\n",
    "    # optimizer = adam  to reduce the cost function\n",
    "    # cost function = MSE \n",
    "    model.compile('adam','mean_squared_error')\n",
    "    \n",
    "    # Training model with book and user vectors from the training dataset\n",
    "    history = model.fit(x=[X_train.newUserId, X_train.newBookId],\n",
    "                   y=X_train.rating, epochs=50,\n",
    "                   validation_data=([X_validation.newUserId, \n",
    "                   X_validation.newBookId], X_validation.rating),\n",
    "                   verbose=0)    \n",
    "    \n",
    "\n",
    "\n",
    "    return history"
   ]
  },
  {
   "cell_type": "markdown",
   "metadata": {},
   "source": [
    "### One Latent Factor"
   ]
  },
  {
   "cell_type": "code",
   "execution_count": 30,
   "metadata": {},
   "outputs": [
    {
     "name": "stderr",
     "output_type": "stream",
     "text": [
      "/Library/Frameworks/Python.framework/Versions/3.7/lib/python3.7/site-packages/tensorflow_core/python/framework/indexed_slices.py:424: UserWarning: Converting sparse IndexedSlices to a dense Tensor of unknown shape. This may consume a large amount of memory.\n",
      "  \"Converting sparse IndexedSlices to a dense Tensor of unknown shape. \"\n"
     ]
    }
   ],
   "source": [
    "# Calling perform_MF function to perform a matrix factorization with 1 latent factor\n",
    "history = perform_MF(1)"
   ]
  },
  {
   "cell_type": "code",
   "execution_count": 31,
   "metadata": {},
   "outputs": [
    {
     "name": "stdout",
     "output_type": "stream",
     "text": [
      "Minimum MSE:  0.7554328825945761\n"
     ]
    },
    {
     "data": {
      "image/png": "[encoded data removed]",
      "text/plain": [
       "<Figure size 432x288 with 1 Axes>"
      ]
     },
     "metadata": {
      "needs_background": "light"
     },
     "output_type": "display_data"
    }
   ],
   "source": [
    "pd.Series(history.history['val_loss'][10:]).plot(logy=False)\n",
    "plt.xlabel('Epoch')\n",
    "plt.ylabel('Validation Error')\n",
    "plt.title('Three Latent Factors')\n",
    "\n",
    "print('Minimum MSE: ',min(history.history['val_loss']))"
   ]
  },
  {
   "cell_type": "markdown",
   "metadata": {},
   "source": [
    "### Three Latent Factor"
   ]
  },
  {
   "cell_type": "code",
   "execution_count": 32,
   "metadata": {},
   "outputs": [
    {
     "name": "stderr",
     "output_type": "stream",
     "text": [
      "/Library/Frameworks/Python.framework/Versions/3.7/lib/python3.7/site-packages/tensorflow_core/python/framework/indexed_slices.py:424: UserWarning: Converting sparse IndexedSlices to a dense Tensor of unknown shape. This may consume a large amount of memory.\n",
      "  \"Converting sparse IndexedSlices to a dense Tensor of unknown shape. \"\n"
     ]
    }
   ],
   "source": [
    "# Calling perform_MF function to perform a matrix factorization with 1 latent factor\n",
    "\n",
    "history = perform_MF(3)"
   ]
  },
  {
   "cell_type": "code",
   "execution_count": 33,
   "metadata": {},
   "outputs": [
    {
     "name": "stdout",
     "output_type": "stream",
     "text": [
      "Minimum MSE:  0.6767922135177262\n"
     ]
    },
    {
     "data": {
      "image/png": "[encoded data removed]",
      "text/plain": [
       "<Figure size 432x288 with 1 Axes>"
      ]
     },
     "metadata": {
      "needs_background": "light"
     },
     "output_type": "display_data"
    }
   ],
   "source": [
    "# PLotting results\n",
    "\n",
    "pd.Series(history.history['val_loss'][10:]).plot(logy=False)\n",
    "plt.xlabel('Epoch')\n",
    "plt.ylabel('Validation Error')\n",
    "plt.title('Three Latent Factors')\n",
    "\n",
    "print('Minimum MSE: ',min(history.history['val_loss']))"
   ]
  },
  {
   "cell_type": "markdown",
   "metadata": {},
   "source": [
    "### Five Latent Factors"
   ]
  },
  {
   "cell_type": "code",
   "execution_count": 34,
   "metadata": {},
   "outputs": [
    {
     "name": "stderr",
     "output_type": "stream",
     "text": [
      "/Library/Frameworks/Python.framework/Versions/3.7/lib/python3.7/site-packages/tensorflow_core/python/framework/indexed_slices.py:424: UserWarning: Converting sparse IndexedSlices to a dense Tensor of unknown shape. This may consume a large amount of memory.\n",
      "  \"Converting sparse IndexedSlices to a dense Tensor of unknown shape. \"\n"
     ]
    }
   ],
   "source": [
    "# Calling perform_MF function to perform a matrix factorization with 1 latent factor\n",
    "\n",
    "history = perform_MF(5)\n"
   ]
  },
  {
   "cell_type": "code",
   "execution_count": 35,
   "metadata": {},
   "outputs": [
    {
     "name": "stdout",
     "output_type": "stream",
     "text": [
      "Minimum MSE:  0.59904223239513\n"
     ]
    },
    {
     "data": {
      "image/png": "[encoded data removed]",
      "text/plain": [
       "<Figure size 432x288 with 1 Axes>"
      ]
     },
     "metadata": {
      "needs_background": "light"
     },
     "output_type": "display_data"
    }
   ],
   "source": [
    "# PLotting results\n",
    "\n",
    "pd.Series(history.history['val_loss'][10:]).plot(logy=False)\n",
    "plt.xlabel('Epoch')\n",
    "plt.ylabel('Validation Error')\n",
    "plt.title('Five Latent Factors')\n",
    "\n",
    "print('Minimum MSE: ',min(history.history['val_loss']))"
   ]
  },
  {
   "cell_type": "markdown",
   "metadata": {},
   "source": [
    "### Ten Factors Latent\n"
   ]
  },
  {
   "cell_type": "code",
   "execution_count": 36,
   "metadata": {},
   "outputs": [
    {
     "name": "stderr",
     "output_type": "stream",
     "text": [
      "/Library/Frameworks/Python.framework/Versions/3.7/lib/python3.7/site-packages/tensorflow_core/python/framework/indexed_slices.py:424: UserWarning: Converting sparse IndexedSlices to a dense Tensor of unknown shape. This may consume a large amount of memory.\n",
      "  \"Converting sparse IndexedSlices to a dense Tensor of unknown shape. \"\n"
     ]
    }
   ],
   "source": [
    "# Calling perform_MF function to perform a matrix factorization with 1 latent factor\n",
    "\n",
    "history = perform_MF(10)"
   ]
  },
  {
   "cell_type": "code",
   "execution_count": 37,
   "metadata": {},
   "outputs": [
    {
     "name": "stdout",
     "output_type": "stream",
     "text": [
      "Minimum MSE:  0.3954966731444191\n"
     ]
    },
    {
     "data": {
      "image/png": "[encoded data removed]",
      "text/plain": [
       "<Figure size 432x288 with 1 Axes>"
      ]
     },
     "metadata": {
      "needs_background": "light"
     },
     "output_type": "display_data"
    }
   ],
   "source": [
    "# PLotting results\n",
    "\n",
    "pd.Series(history.history['val_loss'][10:]).plot(logy=False)\n",
    "plt.xlabel('Epoch')\n",
    "plt.ylabel('Validation Error')\n",
    "plt.title('Ten Latent Factors')\n",
    "\n",
    "print('Minimum MSE: ',min(history.history['val_loss']))"
   ]
  },
  {
   "cell_type": "markdown",
   "metadata": {},
   "source": [
    "## Creating Matrix Factorization or Embedding Model"
   ]
  },
  {
   "cell_type": "code",
   "execution_count": 59,
   "metadata": {},
   "outputs": [
    {
     "name": "stdout",
     "output_type": "stream",
     "text": [
      "Model: \"model_2\"\n",
      "__________________________________________________________________________________________________\n",
      "Layer (type)                    Output Shape         Param #     Connected to                     \n",
      "==================================================================================================\n",
      "user (InputLayer)               (None, 1)            0                                            \n",
      "__________________________________________________________________________________________________\n",
      "books (InputLayer)              (None, 1)            0                                            \n",
      "__________________________________________________________________________________________________\n",
      "user_embedding (Embedding)      (None, 1, 10)        10010       user[0][0]                       \n",
      "__________________________________________________________________________________________________\n",
      "book_embedding (Embedding)      (None, 1, 10)        10010       books[0][0]                      \n",
      "__________________________________________________________________________________________________\n",
      "flatten_users (Flatten)         (None, 10)           0           user_embedding[0][0]             \n",
      "__________________________________________________________________________________________________\n",
      "flatten_books (Flatten)         (None, 10)           0           book_embedding[0][0]             \n",
      "__________________________________________________________________________________________________\n",
      "dot_2 (Dot)                     (None, 1)            0           flatten_users[0][0]              \n",
      "                                                                 flatten_books[0][0]              \n",
      "==================================================================================================\n",
      "Total params: 20,020\n",
      "Trainable params: 20,020\n",
      "Non-trainable params: 0\n",
      "__________________________________________________________________________________________________\n"
     ]
    }
   ],
   "source": [
    "# Creating the model with ten factor latent\n",
    "\n",
    "n_latent_factors = 10\n",
    "\n",
    "# User vector\n",
    "user_input = Input(shape=[1],name='user')\n",
    "user_embedding = Embedding(input_dim=n_users + 1, output_dim=n_latent_factors, \n",
    "                           name='user_embedding')(user_input)\n",
    "user_vector = Flatten(name='flatten_users')(user_embedding)\n",
    "\n",
    "\n",
    "# Book vector\n",
    "book_input = Input(shape=[1],name='books')\n",
    "book_embedding = Embedding(input_dim=n_books + 1, output_dim=n_latent_factors,\n",
    "                          name='book_embedding')(book_input)\n",
    "book_vector = Flatten(name='flatten_books')(book_embedding)\n",
    "\n",
    "\n",
    "# Generating the output vector to take the dot product of book vector and user vector\n",
    "product = dot([user_vector,book_vector], axes=1)\n",
    "\n",
    "# Creating the model\n",
    "model = Model(inputs=[user_input,book_input], outputs=product)\n",
    "model.compile('adam','mean_squared_error', metrics=['accuracy'])\n",
    "\n",
    "# Training the model\n",
    "history = model.fit(x=[X_train.newUserId, X_train.newBookId],\n",
    "               y=X_train.rating, \n",
    "               epochs=100,\n",
    "               validation_data=([X_validation.newUserId, X_validation.newBookId], \n",
    "               X_validation.rating),\n",
    "               verbose=0)    \n",
    "\n",
    "model.summary()"
   ]
  },
  {
   "cell_type": "code",
   "execution_count": 60,
   "metadata": {},
   "outputs": [
    {
     "data": {
      "image/png": "[encoded data removed]",
      "text/plain": [
       "<Figure size 576x360 with 1 Axes>"
      ]
     },
     "metadata": {
      "needs_background": "light"
     },
     "output_type": "display_data"
    },
    {
     "data": {
      "image/png": "[encoded data removed]",
      "text/plain": [
       "<Figure size 576x360 with 1 Axes>"
      ]
     },
     "metadata": {
      "needs_background": "light"
     },
     "output_type": "display_data"
    }
   ],
   "source": [
    "#Plotting training vs validation accuracy and loss\n",
    "\n",
    "acc = history.history['accuracy']\n",
    "val_acc = history.history['val_accuracy']\n",
    "loss = history.history['loss']\n",
    "val_loss = history.history['val_loss']\n",
    "\n",
    "plt.figure(figsize=(8,5))\n",
    "epochs   = range(1,len(acc)+1,1)\n",
    "\n",
    "plt.plot(epochs,acc, 'r--', label='Training acc'  )\n",
    "plt.plot(epochs, val_acc,  'b', label='Validation acc')\n",
    "plt.title('Training and validation accuracy')\n",
    "plt.ylabel('Accuracy')\n",
    "plt.xlabel('Epochs')\n",
    "plt.show()\n",
    "\n",
    "\n",
    "plt.figure(figsize=(8,5))\n",
    "plt.plot(epochs,loss,'r--')\n",
    "plt.plot(epochs, val_loss,'b')\n",
    "plt.title('Training and validation loss')\n",
    "plt.ylabel('Accuracy')\n",
    "plt.xlabel('Epochs')\n",
    "plt.show()"
   ]
  },
  {
   "cell_type": "code",
   "execution_count": 61,
   "metadata": {},
   "outputs": [
    {
     "name": "stdout",
     "output_type": "stream",
     "text": [
      "Minimum MSE:  0.33\n"
     ]
    },
    {
     "data": {
      "image/png": "[encoded data removed]",
      "text/plain": [
       "<Figure size 432x288 with 1 Axes>"
      ]
     },
     "metadata": {
      "needs_background": "light"
     },
     "output_type": "display_data"
    }
   ],
   "source": [
    "# PLotting results\n",
    "\n",
    "pd.Series(history.history['val_loss'][10:]).plot(logy=False)\n",
    "plt.xlabel('Epoch')\n",
    "plt.ylabel('Validation Error')\n",
    "plt.title('Ten Latent Factors')\n",
    "\n",
    "print('Minimum MSE: ',round(min(history.history['val_loss']),2))\n",
    "mse_embedding = min(history.history['val_loss'])\n",
    "\n"
   ]
  },
  {
   "cell_type": "code",
   "execution_count": 62,
   "metadata": {},
   "outputs": [],
   "source": [
    "# Creating a DataFrame for saving results from models\n",
    "results = pd.DataFrame(columns = ['Model' , 'MSE'])\n",
    "\n",
    "# Adding result to results dataframe\n",
    "results = results.append({'Model': 'Matrix Factorization', \n",
    "                          'MSE': mse_embedding},\n",
    "                         ignore_index=True)\n"
   ]
  },
  {
   "cell_type": "markdown",
   "metadata": {},
   "source": [
    "### Executing the model and create recommendations for a mock user "
   ]
  },
  {
   "cell_type": "code",
   "execution_count": 63,
   "metadata": {},
   "outputs": [
    {
     "name": "stdout",
     "output_type": "stream",
     "text": [
      "Recommended books for user: 187\n",
      "            original_title                           authors\n",
      "491   Speaker for the Dead                  Orson Scott Card\n",
      "589      David Copperfield  Charles Dickens, Jeremy Tambling\n",
      "593  Because of Winn-Dixie      Kate DiCamillo, Chris Sheban\n",
      "639                   Prey                  Michael Crichton\n",
      "749               Obsidian            Jennifer L. Armentrout\n"
     ]
    }
   ],
   "source": [
    "# Creating a dataset for making recommendations from user from 1 to 1000\n",
    "\n",
    "user_number = 187\n",
    "\n",
    "book_data = np.array(list(set(reducedRatings.newBookId)))\n",
    "user_data = np.array([user_number for i in range(len(book_data))])\n",
    "\n",
    "predictions = model.predict([user_data, book_data])\n",
    "predictions = np.array([a[0] for a in predictions])\n",
    "recommended_newbookids = (-predictions).argsort()[:5]\n",
    "recommendedBookIds = reducedRatings[reducedRatings['newBookId'].isin(recommended_newbookids)]['book_id'].unique()\n",
    "\n",
    "\n",
    "print('Recommended books for user: {}'.format(user_number))\n",
    "print(books[books['book_id'].isin(recommendedBookIds)][['original_title','authors']])"
   ]
  },
  {
   "cell_type": "markdown",
   "metadata": {},
   "source": [
    "## Approach 2: Restricted Boltzmann Machines"
   ]
  },
  {
   "cell_type": "markdown",
   "metadata": {},
   "source": [
    "**Restricted Boltzmann Machines (RBM)** consists of a neural network with an input layer (also referred to as the visible layer) and a single hidden layer. The connections among neurons in the same layer are restricted. Neurons in the visible layer communicate with the hidden layer, and then the hidden layer passes back information to the visible layer, going back and forth several times.\n",
    "\n",
    "The code below is the definition of the RBM class and its functions.\n",
    "\n",
    "For a better understading of the code, please take a look of this [list of variables](list_of_variables.ipynb)"
   ]
  },
  {
   "cell_type": "code",
   "execution_count": 43,
   "metadata": {},
   "outputs": [
    {
     "name": "stdout",
     "output_type": "stream",
     "text": [
      "WARNING:tensorflow:From /Library/Frameworks/Python.framework/Versions/3.7/lib/python3.7/site-packages/tensorflow_core/python/compat/v2_compat.py:65: disable_resource_variables (from tensorflow.python.ops.variable_scope) is deprecated and will be removed in a future version.\n",
      "Instructions for updating:\n",
      "non-resource variables are not supported in the long term\n"
     ]
    }
   ],
   "source": [
    "import tensorflow as tf\n",
    "import tensorflow.compat.v1 as tf\n",
    "tf.disable_v2_behavior()\n",
    "\n",
    "\n",
    "# Defining RBM Class\n",
    "\n",
    "class RBM(object):\n",
    "    \n",
    "    def __init__(self, input_size, output_size, learning_rate,epochs, batchsize):\n",
    "    \n",
    "        '''\n",
    "        Function to initialize the attributes of a RBM class\n",
    "        \n",
    "        Args:\n",
    "        \n",
    "            input_size (int): number of books\n",
    "            output size (int)  \n",
    "            learning_rate (float)\n",
    "            epochs (int) : number of iterations\n",
    "            batch_size (int) \n",
    "        \n",
    "        '''   \n",
    "        #Defining hyperparameters        \n",
    "        self._input_size = input_size\n",
    "        self._output_size = output_size\n",
    "        self.learning_rate = learning_rate\n",
    "        self.epochs = epochs\n",
    "        self.batchsize = batchsize\n",
    "        \n",
    "        #Initializing weights and biases using zero matrices\n",
    "        self.w = np.zeros([input_size,output_size],'float')\n",
    "        self.hb = np.zeros([output_size], 'float')\n",
    "        self.vb = np.zeros([input_size], 'float')   \n",
    "    \n",
    "      \n",
    "    def prob_h_given_v(self, visible, w, hb):\n",
    "        \n",
    "        '''\n",
    "        Forward pass (activation function)\n",
    "        \n",
    "        Args:\n",
    "            visible : input layer\n",
    "            w  : weight\n",
    "            hb  : bias vector added at the hidden layer to ensure at least some of the neurons fire\n",
    "\n",
    "        Returns:\n",
    "             The result of appying sigmoid function to the result of multiplied visible by w and added to hb\n",
    "        \n",
    "        '''\n",
    "        \n",
    "        return tf.nn.sigmoid(tf.matmul(visible, w) + hb)\n",
    "\n",
    " \n",
    "    def prob_v_given_h(self, hidden, w, vb):  \n",
    "        \n",
    "        '''\n",
    "        Backward pass (Activation function) \n",
    "        \n",
    "        Args:\n",
    "        \n",
    "            hidden : input layer\n",
    "            w  : weight\n",
    "            vb  : bias vector added at the visible layer to ensure at least some of the neurons fire\n",
    "\n",
    "        Returns:\n",
    "            The result of appying sigmoid function to the result of multiplied hidden by w and added to vb\n",
    "        \n",
    "        '''\n",
    "    \n",
    "        vb = tf.cast(vb, tf.float32)\n",
    "        return tf.nn.sigmoid(tf.matmul(hidden, tf.transpose(w)) + vb)\n",
    "\n",
    "    \n",
    "    # Sampling Function (Gibss Sampling)\n",
    "    def sample_prob(self, probs):\n",
    "        \n",
    "        '''\n",
    "        sample_prob (Activation function) \n",
    "        \n",
    "        Args:\n",
    "        \n",
    "            probs : The result of multiplied hidden o visible by w and added to visible or hidden bias\n",
    "        \n",
    "        Returns:\n",
    "            A sample of probs, generated stochastically (randomly)\n",
    "        \n",
    "        '''      \n",
    "        \n",
    "        return tf.nn.relu(tf.sign(probs - tf.random_uniform(tf.shape(probs))))\n",
    "    \n",
    "\n",
    "    \n",
    "    # Output Function\n",
    "    def rbm_output(self, X):\n",
    "         \n",
    "        '''\n",
    "        sample_prob (Output function) \n",
    "        \n",
    "        Args:\n",
    "        \n",
    "            X: Rating matrix as input\n",
    "        \n",
    "        Returns:\n",
    "            output X\n",
    "            Reconstructed X\n",
    "            Hidden X\n",
    "        \n",
    "        '''\n",
    "        \n",
    "        input_X = tf.constant(X)\n",
    "        _w = tf.constant(self.w)\n",
    "        _hb = tf.constant(self.hb)\n",
    "        _vb = tf.constant(self.vb)\n",
    "        out = tf.nn.sigmoid(tf.matmul(input_X, _w) + _hb)\n",
    "        hiddenGen = self.sample_prob(self.prob_h_given_v(input_X, _w, _hb))        \n",
    "        visibleGen = self.sample_prob(self.prob_v_given_h(hiddenGen, _w, _vb))\n",
    "        \n",
    "        with tf.Session() as sess:\n",
    "            sess.run(tf.global_variables_initializer())\n",
    "            return sess.run(out),sess.run(visibleGen),sess.run(hiddenGen)\n",
    "        \n",
    "        \n",
    "\n",
    "    # Train function    \n",
    "    def train(self, X, user=1):\n",
    "    \n",
    "        # Creating placeholders for weight matrix, hidden bias vector and visible bias vector\n",
    "        _w = tf.placeholder('float', [self._input_size, self._output_size])\n",
    "        _hb = tf.placeholder('float',[self._output_size])\n",
    "        _vb = tf.placeholder('float',[self._input_size])\n",
    "\n",
    "        # Initializing values in zeros for variables above, to hold previous values\n",
    "        prv_w = np.zeros([self._input_size,self._output_size], 'float')\n",
    "        prv_hb = np.zeros([self._output_size],'float')\n",
    "        prv_vb = np.zeros([self._input_size],float)\n",
    "\n",
    "        # Initializing values in zeros for variables above, to hold current values\n",
    "        cur_w = np.zeros([self._input_size,self._output_size], 'float')\n",
    "        cur_hb = np.zeros([self._output_size],'float')\n",
    "        cur_vb = np.zeros([self._input_size],float)\n",
    "\n",
    "        # Creating placeholder for visible layer\n",
    "        v0 = tf.placeholder('float',[None, self._input_size])\n",
    "        h0 = self.sample_prob(self.prob_h_given_v(v0, _w, _hb))\n",
    "\n",
    "        # Setting the output forward pass (v1) and adding the visible bias vector\n",
    "        v1 = self.sample_prob(self.prob_v_given_h(h0, _w, _vb))\n",
    "        h1 = self.prob_h_given_v(v1, _w, _hb)\n",
    "\n",
    "        # Defining the error as MSE\n",
    "        positive_grad = tf.matmul(tf.transpose(v0), h0)\n",
    "        negative_grad = tf.matmul(tf.transpose(v1), h1)\n",
    "\n",
    "\n",
    "        # Create methods to update the weights and biases\n",
    "        update_w = _w + self.learning_rate * (positive_grad - negative_grad)/tf.to_float(tf.shape(v0)[0])\n",
    "        update_vb = _vb + self.learning_rate * tf.reduce_mean(v0 - v1,0)\n",
    "        update_hb = _hb + self.learning_rate * tf.reduce_mean(h0 - h1,0)\n",
    "        \n",
    "        \n",
    "        err = tf.reduce_mean(tf.square(v0 - v1))        \n",
    "        error_list = []\n",
    "        \n",
    "        \n",
    "        # Initializing the TensorFlow Session with defined variables \n",
    "        with tf.Session() as sess:\n",
    "            sess.run(tf.global_variables_initializer())\n",
    "            for epoch in range(self.epochs):\n",
    "\n",
    "                for start, end in zip(range(0, len(X),\n",
    "                    self.batchsize),range(self.batchsize,len(X), self.batchsize)):\n",
    "\n",
    "                    batch = X[start:end]\n",
    "                    \n",
    "                    cur_w = sess.run(update_w, feed_dict={\n",
    "                        v0 : batch,\n",
    "                        _w : prv_w,\n",
    "                        _hb : prv_hb,\n",
    "                        _vb : prv_vb})\n",
    "                    \n",
    "                    cur_hb = sess.run(update_hb, feed_dict={\n",
    "                        v0 : batch,\n",
    "                        _w : prv_w,\n",
    "                        _hb : prv_hb,\n",
    "                        _vb : prv_vb})\n",
    "                    \n",
    "                    cur_vb = sess.run(update_vb, feed_dict={\n",
    "                        v0 : batch,\n",
    "                        _w : prv_w,\n",
    "                        _hb : prv_hb,\n",
    "                        _vb : prv_vb})\n",
    "                    \n",
    "                    prv_w = cur_w\n",
    "                    prv_hb = cur_hb\n",
    "                    prv_vb = cur_vb\n",
    "                    \n",
    "                    error = sess.run(err, feed_dict={v0:X, _w:cur_w, _vb:cur_vb, _hb: cur_hb})\n",
    "                    error_list.append(error)\n",
    "                    \n",
    "                    print('Epoch: {} ,reconstruction error: {} '.format(epoch, error))\n",
    "\n",
    "           \n",
    "            \n",
    "            # Feeding the User\n",
    "            inputUser = [X[user]]\n",
    "            hh0 = tf.nn.sigmoid(tf.matmul(v0,_w) + _hb)\n",
    "            vv1 = tf.nn.sigmoid(tf.matmul(hh0, tf.transpose(_w)) + _vb)\n",
    "            feed = sess.run(hh0, feed_dict={v0: inputUser, _w: prv_w, _hb: prv_hb})\n",
    "            rec = sess.run(vv1, feed_dict={hh0: feed, _w: prv_w, _vb: prv_vb})\n",
    "\n",
    "            self.w = prv_w\n",
    "            self.hb = prv_hb\n",
    "            self_vb = prv_vb  \n",
    "            \n",
    "            return error_list,rec\n",
    "\n",
    "\n",
    "    # Obtaining recommendation for an user    \n",
    "    def recommendedBooks(self, ratings, books, to_read, rec, user):\n",
    "        \n",
    "        \n",
    "        # Creating recommendation score for books in our data\n",
    "        num_rows = records\n",
    "        temp = ratings.sort_values(by=['user_id'], ascending=True)\n",
    "        ratings = temp.iloc[:num_rows, :]\n",
    "        ratings['Recommendation_Score'] = rec[0]\n",
    "\n",
    "        \n",
    "        # Finding mock user's user_id from the data\n",
    "        cur_user_id = ratings.iloc[user]['user_id']\n",
    "        \n",
    "\n",
    "        # Finding books the user has read before\n",
    "        read_books = ratings[ratings['user_id'] == cur_user_id]['book_id']\n",
    "        read_books\n",
    "\n",
    "        # Converting the pandas object into a list\n",
    "        read_books_id = read_books.tolist()\n",
    "\n",
    "        # Getting book names and authors for the books already read by the user\n",
    "        read_books_names = []\n",
    "        read_books_authors = []\n",
    "        for book in read_books_id:\n",
    "            read_books_names.append(\n",
    "                books[books['book_id'] == book]['original_title'].tolist()[0])\n",
    "            read_books_authors.append(\n",
    "                books[books['book_id'] == book]['authors'].tolist()[0])\n",
    "\n",
    "        # Finding all books the mock user has 'not' read before using the to_read data\n",
    "        unread_books = to_read[to_read['user_id'] == cur_user_id]['book_id']\n",
    "        unread_books_id = unread_books.tolist()\n",
    "\n",
    "        # Extracting  ratings of all the unread books from ratings dataframe\n",
    "        unread_with_score = ratings[ratings['book_id'].isin(unread_books_id)]\n",
    "\n",
    "        # Grouping the unread data on book id and taking the mean of the recommendation scores for each book_id\n",
    "        grouped_unread = unread_with_score.groupby('book_id', as_index=False)[\n",
    "            'Recommendation_Score'].mean()\n",
    "\n",
    "        # Getting the names and authors of the unread books\n",
    "        unread_books_names = []\n",
    "        unread_books_authors = []\n",
    "        unread_books_scores = []\n",
    "        for book in grouped_unread['book_id']:\n",
    "            unread_books_names.append(\n",
    "                books[books['book_id'] == book]['original_title'].tolist()[0])\n",
    "            unread_books_authors.append(\n",
    "                books[books['book_id'] == book]['authors'].tolist()[0])\n",
    "            unread_books_scores.append(\n",
    "                grouped_unread[grouped_unread['book_id'] == book]['Recommendation_Score'].tolist()[0])\n",
    "\n",
    "        # Creating a data frame for unread books with their names, authors and recommendation scores\n",
    "        unread_books_with_scores = pd.DataFrame({\n",
    "            'book_name': unread_books_names,\n",
    "            'book_authors': unread_books_authors,\n",
    "            'score': unread_books_scores\n",
    "        })\n",
    "\n",
    "        # Creating a data frame for read books with the names and authors\n",
    "        read_books_with_names = pd.DataFrame({\n",
    "            'book_name': read_books_names,\n",
    "            'book_authors': read_books_authors\n",
    "        })\n",
    "\n",
    "        return unread_books_with_scores, read_books_with_names"
   ]
  },
  {
   "cell_type": "code",
   "execution_count": 53,
   "metadata": {},
   "outputs": [],
   "source": [
    "# Training the model\n",
    "\n",
    "inputX = ratings_train\n",
    "inputX = inputX.astype(np.float32)\n",
    "\n",
    "# Parameters: input_size, output_size, learning_rate, epochs, batchsize\n",
    "# records variable was set above at the moment dataset were reduced to 1000 unique books and 1000 unique users\n",
    "\n",
    "rbm = RBM(records,records,0.3,230,200)"
   ]
  },
  {
   "cell_type": "code",
   "execution_count": 54,
   "metadata": {},
   "outputs": [
    {
     "name": "stdout",
     "output_type": "stream",
     "text": [
      "Epoch: 0 ,reconstruction error: 0.8912249803543091 \n",
      "Epoch: 0 ,reconstruction error: 0.9646580219268799 \n",
      "Epoch: 0 ,reconstruction error: 0.9547669887542725 \n",
      "Epoch: 0 ,reconstruction error: 0.9146829843521118 \n",
      "Epoch: 1 ,reconstruction error: 0.8980069756507874 \n",
      "Epoch: 1 ,reconstruction error: 0.8957920074462891 \n",
      "Epoch: 1 ,reconstruction error: 0.8932340145111084 \n",
      "Epoch: 1 ,reconstruction error: 0.8787590265274048 \n",
      "Epoch: 2 ,reconstruction error: 0.8868169784545898 \n",
      "Epoch: 2 ,reconstruction error: 0.8734059929847717 \n",
      "Epoch: 2 ,reconstruction error: 0.8644989728927612 \n",
      "Epoch: 2 ,reconstruction error: 0.8623110055923462 \n",
      "Epoch: 3 ,reconstruction error: 0.8695390224456787 \n",
      "Epoch: 3 ,reconstruction error: 0.8636710047721863 \n",
      "Epoch: 3 ,reconstruction error: 0.8544210195541382 \n",
      "Epoch: 3 ,reconstruction error: 0.8574060201644897 \n",
      "Epoch: 4 ,reconstruction error: 0.8612899780273438 \n",
      "Epoch: 4 ,reconstruction error: 0.8589980006217957 \n",
      "Epoch: 4 ,reconstruction error: 0.8521959781646729 \n",
      "Epoch: 4 ,reconstruction error: 0.8531450033187866 \n",
      "Epoch: 5 ,reconstruction error: 0.8593639731407166 \n",
      "Epoch: 5 ,reconstruction error: 0.8582730293273926 \n",
      "Epoch: 5 ,reconstruction error: 0.8513420224189758 \n",
      "Epoch: 5 ,reconstruction error: 0.8495969772338867 \n",
      "Epoch: 6 ,reconstruction error: 0.856095016002655 \n",
      "Epoch: 6 ,reconstruction error: 0.8538699746131897 \n",
      "Epoch: 6 ,reconstruction error: 0.8478400111198425 \n",
      "Epoch: 6 ,reconstruction error: 0.8502479791641235 \n",
      "Epoch: 7 ,reconstruction error: 0.8540229797363281 \n",
      "Epoch: 7 ,reconstruction error: 0.8522890210151672 \n",
      "Epoch: 7 ,reconstruction error: 0.8478140234947205 \n",
      "Epoch: 7 ,reconstruction error: 0.8479520082473755 \n",
      "Epoch: 8 ,reconstruction error: 0.8512910008430481 \n",
      "Epoch: 8 ,reconstruction error: 0.8497300148010254 \n",
      "Epoch: 8 ,reconstruction error: 0.8436319828033447 \n",
      "Epoch: 8 ,reconstruction error: 0.847536027431488 \n",
      "Epoch: 9 ,reconstruction error: 0.8503779768943787 \n",
      "Epoch: 9 ,reconstruction error: 0.8463829755783081 \n",
      "Epoch: 9 ,reconstruction error: 0.8436059951782227 \n",
      "Epoch: 9 ,reconstruction error: 0.8445960283279419 \n",
      "Epoch: 10 ,reconstruction error: 0.8484299778938293 \n",
      "Epoch: 10 ,reconstruction error: 0.8479380011558533 \n",
      "Epoch: 10 ,reconstruction error: 0.8413419723510742 \n",
      "Epoch: 10 ,reconstruction error: 0.8432480096817017 \n",
      "Epoch: 11 ,reconstruction error: 0.8480830192565918 \n",
      "Epoch: 11 ,reconstruction error: 0.8455209732055664 \n",
      "Epoch: 11 ,reconstruction error: 0.8390690088272095 \n",
      "Epoch: 11 ,reconstruction error: 0.8415489792823792 \n",
      "Epoch: 12 ,reconstruction error: 0.8474060297012329 \n",
      "Epoch: 12 ,reconstruction error: 0.8424990177154541 \n",
      "Epoch: 12 ,reconstruction error: 0.839123010635376 \n",
      "Epoch: 12 ,reconstruction error: 0.8420959711074829 \n",
      "Epoch: 13 ,reconstruction error: 0.8444759845733643 \n",
      "Epoch: 13 ,reconstruction error: 0.8408179879188538 \n",
      "Epoch: 13 ,reconstruction error: 0.8376380205154419 \n",
      "Epoch: 13 ,reconstruction error: 0.8397899866104126 \n",
      "Epoch: 14 ,reconstruction error: 0.8433240056037903 \n",
      "Epoch: 14 ,reconstruction error: 0.8405659794807434 \n",
      "Epoch: 14 ,reconstruction error: 0.8367019891738892 \n",
      "Epoch: 14 ,reconstruction error: 0.8387240171432495 \n",
      "Epoch: 15 ,reconstruction error: 0.8423089981079102 \n",
      "Epoch: 15 ,reconstruction error: 0.8384420275688171 \n",
      "Epoch: 15 ,reconstruction error: 0.8330199718475342 \n",
      "Epoch: 15 ,reconstruction error: 0.8375629782676697 \n",
      "Epoch: 16 ,reconstruction error: 0.8401229977607727 \n",
      "Epoch: 16 ,reconstruction error: 0.8375279903411865 \n",
      "Epoch: 16 ,reconstruction error: 0.8342519998550415 \n",
      "Epoch: 16 ,reconstruction error: 0.8346499800682068 \n",
      "Epoch: 17 ,reconstruction error: 0.839555025100708 \n",
      "Epoch: 17 ,reconstruction error: 0.8373600244522095 \n",
      "Epoch: 17 ,reconstruction error: 0.8314160108566284 \n",
      "Epoch: 17 ,reconstruction error: 0.8331000208854675 \n",
      "Epoch: 18 ,reconstruction error: 0.8378649950027466 \n",
      "Epoch: 18 ,reconstruction error: 0.835241973400116 \n",
      "Epoch: 18 ,reconstruction error: 0.8312810063362122 \n",
      "Epoch: 18 ,reconstruction error: 0.8321670293807983 \n",
      "Epoch: 19 ,reconstruction error: 0.8365849852561951 \n",
      "Epoch: 19 ,reconstruction error: 0.8348760008811951 \n",
      "Epoch: 19 ,reconstruction error: 0.8287379741668701 \n",
      "Epoch: 19 ,reconstruction error: 0.8310440182685852 \n",
      "Epoch: 20 ,reconstruction error: 0.8346359729766846 \n",
      "Epoch: 20 ,reconstruction error: 0.8324840068817139 \n",
      "Epoch: 20 ,reconstruction error: 0.828315019607544 \n",
      "Epoch: 20 ,reconstruction error: 0.8290719985961914 \n",
      "Epoch: 21 ,reconstruction error: 0.832298994064331 \n",
      "Epoch: 21 ,reconstruction error: 0.8316259980201721 \n",
      "Epoch: 21 ,reconstruction error: 0.8255910277366638 \n",
      "Epoch: 21 ,reconstruction error: 0.8279020190238953 \n",
      "Epoch: 22 ,reconstruction error: 0.8323040008544922 \n",
      "Epoch: 22 ,reconstruction error: 0.8315290212631226 \n",
      "Epoch: 22 ,reconstruction error: 0.8247100114822388 \n",
      "Epoch: 22 ,reconstruction error: 0.8262090086936951 \n",
      "Epoch: 23 ,reconstruction error: 0.8319669961929321 \n",
      "Epoch: 23 ,reconstruction error: 0.8301659822463989 \n",
      "Epoch: 23 ,reconstruction error: 0.8229780197143555 \n",
      "Epoch: 23 ,reconstruction error: 0.8269379734992981 \n",
      "Epoch: 24 ,reconstruction error: 0.8283979892730713 \n",
      "Epoch: 24 ,reconstruction error: 0.8281880021095276 \n",
      "Epoch: 24 ,reconstruction error: 0.8221979737281799 \n",
      "Epoch: 24 ,reconstruction error: 0.824757993221283 \n",
      "Epoch: 25 ,reconstruction error: 0.8276050090789795 \n",
      "Epoch: 25 ,reconstruction error: 0.8275290131568909 \n",
      "Epoch: 25 ,reconstruction error: 0.8199819922447205 \n",
      "Epoch: 25 ,reconstruction error: 0.8247569799423218 \n",
      "Epoch: 26 ,reconstruction error: 0.8260070085525513 \n",
      "Epoch: 26 ,reconstruction error: 0.825980007648468 \n",
      "Epoch: 26 ,reconstruction error: 0.8183760046958923 \n",
      "Epoch: 26 ,reconstruction error: 0.8223900198936462 \n",
      "Epoch: 27 ,reconstruction error: 0.8255289793014526 \n",
      "Epoch: 27 ,reconstruction error: 0.8238999843597412 \n",
      "Epoch: 27 ,reconstruction error: 0.8169260025024414 \n",
      "Epoch: 27 ,reconstruction error: 0.8206279873847961 \n",
      "Epoch: 28 ,reconstruction error: 0.8241680264472961 \n",
      "Epoch: 28 ,reconstruction error: 0.8216689825057983 \n",
      "Epoch: 28 ,reconstruction error: 0.8143320083618164 \n",
      "Epoch: 28 ,reconstruction error: 0.8186309933662415 \n",
      "Epoch: 29 ,reconstruction error: 0.8220229744911194 \n",
      "Epoch: 29 ,reconstruction error: 0.8200650215148926 \n",
      "Epoch: 29 ,reconstruction error: 0.8137410283088684 \n",
      "Epoch: 29 ,reconstruction error: 0.8190760016441345 \n",
      "Epoch: 30 ,reconstruction error: 0.8192099928855896 \n",
      "Epoch: 30 ,reconstruction error: 0.8182370066642761 \n",
      "Epoch: 30 ,reconstruction error: 0.8114619851112366 \n",
      "Epoch: 30 ,reconstruction error: 0.8156920075416565 \n",
      "Epoch: 31 ,reconstruction error: 0.8189659714698792 \n",
      "Epoch: 31 ,reconstruction error: 0.8172720074653625 \n",
      "Epoch: 31 ,reconstruction error: 0.8094949722290039 \n",
      "Epoch: 31 ,reconstruction error: 0.8146330118179321 \n",
      "Epoch: 32 ,reconstruction error: 0.8155480027198792 \n",
      "Epoch: 32 ,reconstruction error: 0.8154640197753906 \n",
      "Epoch: 32 ,reconstruction error: 0.8076630234718323 \n",
      "Epoch: 32 ,reconstruction error: 0.8127570152282715 \n",
      "Epoch: 33 ,reconstruction error: 0.8165249824523926 \n",
      "Epoch: 33 ,reconstruction error: 0.8147929906845093 \n",
      "Epoch: 33 ,reconstruction error: 0.8056259751319885 \n",
      "Epoch: 33 ,reconstruction error: 0.8116869926452637 \n",
      "Epoch: 34 ,reconstruction error: 0.8136500120162964 \n",
      "Epoch: 34 ,reconstruction error: 0.8128020167350769 \n",
      "Epoch: 34 ,reconstruction error: 0.8049049973487854 \n",
      "Epoch: 34 ,reconstruction error: 0.8087379932403564 \n",
      "Epoch: 35 ,reconstruction error: 0.8131870031356812 \n",
      "Epoch: 35 ,reconstruction error: 0.8110039830207825 \n",
      "Epoch: 35 ,reconstruction error: 0.8034200072288513 \n",
      "Epoch: 35 ,reconstruction error: 0.8082720041275024 \n",
      "Epoch: 36 ,reconstruction error: 0.8104410171508789 \n",
      "Epoch: 36 ,reconstruction error: 0.8082119822502136 \n",
      "Epoch: 36 ,reconstruction error: 0.8011490106582642 \n",
      "Epoch: 36 ,reconstruction error: 0.8048800230026245 \n",
      "Epoch: 37 ,reconstruction error: 0.8096659779548645 \n",
      "Epoch: 37 ,reconstruction error: 0.8078770041465759 \n",
      "Epoch: 37 ,reconstruction error: 0.79892897605896 \n",
      "Epoch: 37 ,reconstruction error: 0.8035600185394287 \n",
      "Epoch: 38 ,reconstruction error: 0.8074690103530884 \n",
      "Epoch: 38 ,reconstruction error: 0.8050959706306458 \n",
      "Epoch: 38 ,reconstruction error: 0.7988340258598328 \n",
      "Epoch: 38 ,reconstruction error: 0.8016949892044067 \n",
      "Epoch: 39 ,reconstruction error: 0.8069339990615845 \n",
      "Epoch: 39 ,reconstruction error: 0.8037670254707336 \n",
      "Epoch: 39 ,reconstruction error: 0.7966309785842896 \n"
     ]
    },
    {
     "name": "stdout",
     "output_type": "stream",
     "text": [
      "Epoch: 39 ,reconstruction error: 0.8009769916534424 \n",
      "Epoch: 40 ,reconstruction error: 0.8053269982337952 \n",
      "Epoch: 40 ,reconstruction error: 0.8029400110244751 \n",
      "Epoch: 40 ,reconstruction error: 0.7952700257301331 \n",
      "Epoch: 40 ,reconstruction error: 0.798878014087677 \n",
      "Epoch: 41 ,reconstruction error: 0.8039199709892273 \n",
      "Epoch: 41 ,reconstruction error: 0.8002380132675171 \n",
      "Epoch: 41 ,reconstruction error: 0.7933390140533447 \n",
      "Epoch: 41 ,reconstruction error: 0.7979869842529297 \n",
      "Epoch: 42 ,reconstruction error: 0.8028669953346252 \n",
      "Epoch: 42 ,reconstruction error: 0.8003079891204834 \n",
      "Epoch: 42 ,reconstruction error: 0.7926430106163025 \n",
      "Epoch: 42 ,reconstruction error: 0.7962700128555298 \n",
      "Epoch: 43 ,reconstruction error: 0.8016729950904846 \n",
      "Epoch: 43 ,reconstruction error: 0.7985919713973999 \n",
      "Epoch: 43 ,reconstruction error: 0.7916139960289001 \n",
      "Epoch: 43 ,reconstruction error: 0.7949600219726562 \n",
      "Epoch: 44 ,reconstruction error: 0.8006280064582825 \n",
      "Epoch: 44 ,reconstruction error: 0.7997170090675354 \n",
      "Epoch: 44 ,reconstruction error: 0.7894499897956848 \n",
      "Epoch: 44 ,reconstruction error: 0.7935590147972107 \n",
      "Epoch: 45 ,reconstruction error: 0.800948977470398 \n",
      "Epoch: 45 ,reconstruction error: 0.796754002571106 \n",
      "Epoch: 45 ,reconstruction error: 0.7905470132827759 \n",
      "Epoch: 45 ,reconstruction error: 0.7932440042495728 \n",
      "Epoch: 46 ,reconstruction error: 0.800042986869812 \n",
      "Epoch: 46 ,reconstruction error: 0.7969750165939331 \n",
      "Epoch: 46 ,reconstruction error: 0.7915930151939392 \n",
      "Epoch: 46 ,reconstruction error: 0.792339026927948 \n",
      "Epoch: 47 ,reconstruction error: 0.7992330193519592 \n",
      "Epoch: 47 ,reconstruction error: 0.79755699634552 \n",
      "Epoch: 47 ,reconstruction error: 0.7885609865188599 \n",
      "Epoch: 47 ,reconstruction error: 0.7924090027809143 \n",
      "Epoch: 48 ,reconstruction error: 0.7994970083236694 \n",
      "Epoch: 48 ,reconstruction error: 0.7963190078735352 \n",
      "Epoch: 48 ,reconstruction error: 0.7880470156669617 \n",
      "Epoch: 48 ,reconstruction error: 0.7922679781913757 \n",
      "Epoch: 49 ,reconstruction error: 0.7983189821243286 \n",
      "Epoch: 49 ,reconstruction error: 0.7963340282440186 \n",
      "Epoch: 49 ,reconstruction error: 0.7870209813117981 \n",
      "Epoch: 49 ,reconstruction error: 0.7908660173416138 \n",
      "Epoch: 50 ,reconstruction error: 0.7980949878692627 \n",
      "Epoch: 50 ,reconstruction error: 0.7960950136184692 \n",
      "Epoch: 50 ,reconstruction error: 0.787663996219635 \n",
      "Epoch: 50 ,reconstruction error: 0.790332019329071 \n",
      "Epoch: 51 ,reconstruction error: 0.7984510064125061 \n",
      "Epoch: 51 ,reconstruction error: 0.796625018119812 \n",
      "Epoch: 51 ,reconstruction error: 0.7873690128326416 \n",
      "Epoch: 51 ,reconstruction error: 0.7894700169563293 \n",
      "Epoch: 52 ,reconstruction error: 0.7990900278091431 \n",
      "Epoch: 52 ,reconstruction error: 0.7962030172348022 \n",
      "Epoch: 52 ,reconstruction error: 0.7860640287399292 \n",
      "Epoch: 52 ,reconstruction error: 0.7894409894943237 \n",
      "Epoch: 53 ,reconstruction error: 0.7981430292129517 \n",
      "Epoch: 53 ,reconstruction error: 0.7951210141181946 \n",
      "Epoch: 53 ,reconstruction error: 0.7871590256690979 \n",
      "Epoch: 53 ,reconstruction error: 0.7902939915657043 \n",
      "Epoch: 54 ,reconstruction error: 0.7988899946212769 \n",
      "Epoch: 54 ,reconstruction error: 0.7958729863166809 \n",
      "Epoch: 54 ,reconstruction error: 0.7872819900512695 \n",
      "Epoch: 54 ,reconstruction error: 0.7902889847755432 \n",
      "Epoch: 55 ,reconstruction error: 0.7983670234680176 \n",
      "Epoch: 55 ,reconstruction error: 0.7952190041542053 \n",
      "Epoch: 55 ,reconstruction error: 0.7865939736366272 \n",
      "Epoch: 55 ,reconstruction error: 0.7892379760742188 \n",
      "Epoch: 56 ,reconstruction error: 0.7980480194091797 \n",
      "Epoch: 56 ,reconstruction error: 0.7960159778594971 \n",
      "Epoch: 56 ,reconstruction error: 0.7880679965019226 \n",
      "Epoch: 56 ,reconstruction error: 0.7900919914245605 \n",
      "Epoch: 57 ,reconstruction error: 0.7979779839515686 \n",
      "Epoch: 57 ,reconstruction error: 0.7951369881629944 \n",
      "Epoch: 57 ,reconstruction error: 0.7869409918785095 \n",
      "Epoch: 57 ,reconstruction error: 0.7890509963035583 \n",
      "Epoch: 58 ,reconstruction error: 0.7982249855995178 \n",
      "Epoch: 58 ,reconstruction error: 0.7964940071105957 \n",
      "Epoch: 58 ,reconstruction error: 0.786208987236023 \n",
      "Epoch: 58 ,reconstruction error: 0.7892600297927856 \n",
      "Epoch: 59 ,reconstruction error: 0.7975580096244812 \n",
      "Epoch: 59 ,reconstruction error: 0.7965729832649231 \n",
      "Epoch: 59 ,reconstruction error: 0.7859489917755127 \n",
      "Epoch: 59 ,reconstruction error: 0.7884140014648438 \n",
      "Epoch: 60 ,reconstruction error: 0.7969269752502441 \n",
      "Epoch: 60 ,reconstruction error: 0.7965070009231567 \n",
      "Epoch: 60 ,reconstruction error: 0.786641001701355 \n",
      "Epoch: 60 ,reconstruction error: 0.7880679965019226 \n",
      "Epoch: 61 ,reconstruction error: 0.7986479997634888 \n",
      "Epoch: 61 ,reconstruction error: 0.7965059876441956 \n",
      "Epoch: 61 ,reconstruction error: 0.7860789895057678 \n",
      "Epoch: 61 ,reconstruction error: 0.7884719967842102 \n",
      "Epoch: 62 ,reconstruction error: 0.7967979907989502 \n",
      "Epoch: 62 ,reconstruction error: 0.7961490154266357 \n",
      "Epoch: 62 ,reconstruction error: 0.7866680026054382 \n",
      "Epoch: 62 ,reconstruction error: 0.7878190279006958 \n",
      "Epoch: 63 ,reconstruction error: 0.7977839708328247 \n",
      "Epoch: 63 ,reconstruction error: 0.7965970039367676 \n",
      "Epoch: 63 ,reconstruction error: 0.785256028175354 \n",
      "Epoch: 63 ,reconstruction error: 0.7891280055046082 \n",
      "Epoch: 64 ,reconstruction error: 0.7960450053215027 \n",
      "Epoch: 64 ,reconstruction error: 0.7961739897727966 \n",
      "Epoch: 64 ,reconstruction error: 0.7864980101585388 \n",
      "Epoch: 64 ,reconstruction error: 0.7880319952964783 \n",
      "Epoch: 65 ,reconstruction error: 0.7965700030326843 \n",
      "Epoch: 65 ,reconstruction error: 0.7948619723320007 \n",
      "Epoch: 65 ,reconstruction error: 0.7862899899482727 \n",
      "Epoch: 65 ,reconstruction error: 0.7879840135574341 \n",
      "Epoch: 66 ,reconstruction error: 0.7958980202674866 \n",
      "Epoch: 66 ,reconstruction error: 0.7968569993972778 \n",
      "Epoch: 66 ,reconstruction error: 0.7867090106010437 \n",
      "Epoch: 66 ,reconstruction error: 0.7875350117683411 \n",
      "Epoch: 67 ,reconstruction error: 0.795557975769043 \n",
      "Epoch: 67 ,reconstruction error: 0.7962689995765686 \n",
      "Epoch: 67 ,reconstruction error: 0.7860609889030457 \n",
      "Epoch: 67 ,reconstruction error: 0.7876080274581909 \n",
      "Epoch: 68 ,reconstruction error: 0.7950009703636169 \n",
      "Epoch: 68 ,reconstruction error: 0.7957649827003479 \n",
      "Epoch: 68 ,reconstruction error: 0.7862390279769897 \n",
      "Epoch: 68 ,reconstruction error: 0.7879199981689453 \n",
      "Epoch: 69 ,reconstruction error: 0.7958549857139587 \n",
      "Epoch: 69 ,reconstruction error: 0.7958469986915588 \n",
      "Epoch: 69 ,reconstruction error: 0.7858359813690186 \n",
      "Epoch: 69 ,reconstruction error: 0.787667989730835 \n",
      "Epoch: 70 ,reconstruction error: 0.7950519919395447 \n",
      "Epoch: 70 ,reconstruction error: 0.7962960004806519 \n",
      "Epoch: 70 ,reconstruction error: 0.7868660092353821 \n",
      "Epoch: 70 ,reconstruction error: 0.7870820164680481 \n",
      "Epoch: 71 ,reconstruction error: 0.7954279780387878 \n",
      "Epoch: 71 ,reconstruction error: 0.7943500280380249 \n",
      "Epoch: 71 ,reconstruction error: 0.7862730026245117 \n",
      "Epoch: 71 ,reconstruction error: 0.7873089909553528 \n",
      "Epoch: 72 ,reconstruction error: 0.7944390177726746 \n",
      "Epoch: 72 ,reconstruction error: 0.7953100204467773 \n",
      "Epoch: 72 ,reconstruction error: 0.786312997341156 \n",
      "Epoch: 72 ,reconstruction error: 0.787356972694397 \n",
      "Epoch: 73 ,reconstruction error: 0.7950170040130615 \n",
      "Epoch: 73 ,reconstruction error: 0.794929027557373 \n",
      "Epoch: 73 ,reconstruction error: 0.786450982093811 \n",
      "Epoch: 73 ,reconstruction error: 0.7876030206680298 \n",
      "Epoch: 74 ,reconstruction error: 0.7941250205039978 \n",
      "Epoch: 74 ,reconstruction error: 0.7955340147018433 \n",
      "Epoch: 74 ,reconstruction error: 0.7862060070037842 \n",
      "Epoch: 74 ,reconstruction error: 0.787401020526886 \n",
      "Epoch: 75 ,reconstruction error: 0.7936949729919434 \n",
      "Epoch: 75 ,reconstruction error: 0.7948229908943176 \n",
      "Epoch: 75 ,reconstruction error: 0.7858949899673462 \n",
      "Epoch: 75 ,reconstruction error: 0.7871829867362976 \n",
      "Epoch: 76 ,reconstruction error: 0.7928040027618408 \n",
      "Epoch: 76 ,reconstruction error: 0.7955790162086487 \n",
      "Epoch: 76 ,reconstruction error: 0.7863079905509949 \n",
      "Epoch: 76 ,reconstruction error: 0.7869840264320374 \n",
      "Epoch: 77 ,reconstruction error: 0.7928860187530518 \n",
      "Epoch: 77 ,reconstruction error: 0.7944110035896301 \n",
      "Epoch: 77 ,reconstruction error: 0.7864429950714111 \n",
      "Epoch: 77 ,reconstruction error: 0.7860739827156067 \n",
      "Epoch: 78 ,reconstruction error: 0.7921519875526428 \n",
      "Epoch: 78 ,reconstruction error: 0.7949219942092896 \n",
      "Epoch: 78 ,reconstruction error: 0.7865620255470276 \n",
      "Epoch: 78 ,reconstruction error: 0.7867069840431213 \n",
      "Epoch: 79 ,reconstruction error: 0.7927060127258301 \n",
      "Epoch: 79 ,reconstruction error: 0.7944920063018799 \n"
     ]
    },
    {
     "name": "stdout",
     "output_type": "stream",
     "text": [
      "Epoch: 79 ,reconstruction error: 0.7861599922180176 \n",
      "Epoch: 79 ,reconstruction error: 0.7864320278167725 \n",
      "Epoch: 80 ,reconstruction error: 0.791903018951416 \n",
      "Epoch: 80 ,reconstruction error: 0.7946149706840515 \n",
      "Epoch: 80 ,reconstruction error: 0.785851001739502 \n",
      "Epoch: 80 ,reconstruction error: 0.7857779860496521 \n",
      "Epoch: 81 ,reconstruction error: 0.792264997959137 \n",
      "Epoch: 81 ,reconstruction error: 0.7942379713058472 \n",
      "Epoch: 81 ,reconstruction error: 0.7859179973602295 \n",
      "Epoch: 81 ,reconstruction error: 0.7858859896659851 \n",
      "Epoch: 82 ,reconstruction error: 0.7913269996643066 \n",
      "Epoch: 82 ,reconstruction error: 0.7937420010566711 \n",
      "Epoch: 82 ,reconstruction error: 0.7860940098762512 \n",
      "Epoch: 82 ,reconstruction error: 0.7855629920959473 \n",
      "Epoch: 83 ,reconstruction error: 0.7907419800758362 \n",
      "Epoch: 83 ,reconstruction error: 0.7942579984664917 \n",
      "Epoch: 83 ,reconstruction error: 0.7862610220909119 \n",
      "Epoch: 83 ,reconstruction error: 0.7858350276947021 \n",
      "Epoch: 84 ,reconstruction error: 0.7908859848976135 \n",
      "Epoch: 84 ,reconstruction error: 0.7937350273132324 \n",
      "Epoch: 84 ,reconstruction error: 0.7865769863128662 \n",
      "Epoch: 84 ,reconstruction error: 0.7859749794006348 \n",
      "Epoch: 85 ,reconstruction error: 0.7908430099487305 \n",
      "Epoch: 85 ,reconstruction error: 0.793267011642456 \n",
      "Epoch: 85 ,reconstruction error: 0.785664975643158 \n",
      "Epoch: 85 ,reconstruction error: 0.7863820195198059 \n",
      "Epoch: 86 ,reconstruction error: 0.7905099987983704 \n",
      "Epoch: 86 ,reconstruction error: 0.7934229969978333 \n",
      "Epoch: 86 ,reconstruction error: 0.7855039834976196 \n",
      "Epoch: 86 ,reconstruction error: 0.7858549952507019 \n",
      "Epoch: 87 ,reconstruction error: 0.7904589772224426 \n",
      "Epoch: 87 ,reconstruction error: 0.7926099896430969 \n",
      "Epoch: 87 ,reconstruction error: 0.7857499718666077 \n",
      "Epoch: 87 ,reconstruction error: 0.7858369946479797 \n",
      "Epoch: 88 ,reconstruction error: 0.7897899746894836 \n",
      "Epoch: 88 ,reconstruction error: 0.7929090261459351 \n",
      "Epoch: 88 ,reconstruction error: 0.7861189842224121 \n",
      "Epoch: 88 ,reconstruction error: 0.7855029702186584 \n",
      "Epoch: 89 ,reconstruction error: 0.7898960113525391 \n",
      "Epoch: 89 ,reconstruction error: 0.7921680212020874 \n",
      "Epoch: 89 ,reconstruction error: 0.7859629988670349 \n",
      "Epoch: 89 ,reconstruction error: 0.7853729724884033 \n",
      "Epoch: 90 ,reconstruction error: 0.7899259924888611 \n",
      "Epoch: 90 ,reconstruction error: 0.7920029759407043 \n",
      "Epoch: 90 ,reconstruction error: 0.78541499376297 \n",
      "Epoch: 90 ,reconstruction error: 0.7851899862289429 \n",
      "Epoch: 91 ,reconstruction error: 0.790041983127594 \n",
      "Epoch: 91 ,reconstruction error: 0.7929779887199402 \n",
      "Epoch: 91 ,reconstruction error: 0.7854130268096924 \n",
      "Epoch: 91 ,reconstruction error: 0.7858150005340576 \n",
      "Epoch: 92 ,reconstruction error: 0.7899180054664612 \n",
      "Epoch: 92 ,reconstruction error: 0.7915859818458557 \n",
      "Epoch: 92 ,reconstruction error: 0.7854260206222534 \n",
      "Epoch: 92 ,reconstruction error: 0.7859920263290405 \n",
      "Epoch: 93 ,reconstruction error: 0.7898290157318115 \n",
      "Epoch: 93 ,reconstruction error: 0.7927510142326355 \n",
      "Epoch: 93 ,reconstruction error: 0.7858759760856628 \n",
      "Epoch: 93 ,reconstruction error: 0.7857459783554077 \n",
      "Epoch: 94 ,reconstruction error: 0.7897899746894836 \n",
      "Epoch: 94 ,reconstruction error: 0.7922279834747314 \n",
      "Epoch: 94 ,reconstruction error: 0.7858690023422241 \n",
      "Epoch: 94 ,reconstruction error: 0.7850220203399658 \n",
      "Epoch: 95 ,reconstruction error: 0.7899690270423889 \n",
      "Epoch: 95 ,reconstruction error: 0.7919269800186157 \n",
      "Epoch: 95 ,reconstruction error: 0.7854840159416199 \n",
      "Epoch: 95 ,reconstruction error: 0.7851579785346985 \n",
      "Epoch: 96 ,reconstruction error: 0.7889630198478699 \n",
      "Epoch: 96 ,reconstruction error: 0.7917219996452332 \n",
      "Epoch: 96 ,reconstruction error: 0.785834014415741 \n",
      "Epoch: 96 ,reconstruction error: 0.7854750156402588 \n",
      "Epoch: 97 ,reconstruction error: 0.7892789840698242 \n",
      "Epoch: 97 ,reconstruction error: 0.7912139892578125 \n",
      "Epoch: 97 ,reconstruction error: 0.7859399914741516 \n",
      "Epoch: 97 ,reconstruction error: 0.7851939797401428 \n",
      "Epoch: 98 ,reconstruction error: 0.7888299822807312 \n",
      "Epoch: 98 ,reconstruction error: 0.7915359735488892 \n",
      "Epoch: 98 ,reconstruction error: 0.7855119705200195 \n",
      "Epoch: 98 ,reconstruction error: 0.7857949733734131 \n",
      "Epoch: 99 ,reconstruction error: 0.7891020178794861 \n",
      "Epoch: 99 ,reconstruction error: 0.7908959984779358 \n",
      "Epoch: 99 ,reconstruction error: 0.7856240272521973 \n",
      "Epoch: 99 ,reconstruction error: 0.7853789925575256 \n",
      "Epoch: 100 ,reconstruction error: 0.7888519763946533 \n",
      "Epoch: 100 ,reconstruction error: 0.7914339900016785 \n",
      "Epoch: 100 ,reconstruction error: 0.7859079837799072 \n",
      "Epoch: 100 ,reconstruction error: 0.7854089736938477 \n",
      "Epoch: 101 ,reconstruction error: 0.788569986820221 \n",
      "Epoch: 101 ,reconstruction error: 0.791329026222229 \n",
      "Epoch: 101 ,reconstruction error: 0.7854220271110535 \n",
      "Epoch: 101 ,reconstruction error: 0.7850930094718933 \n",
      "Epoch: 102 ,reconstruction error: 0.7890250086784363 \n",
      "Epoch: 102 ,reconstruction error: 0.7910910248756409 \n",
      "Epoch: 102 ,reconstruction error: 0.7851229906082153 \n",
      "Epoch: 102 ,reconstruction error: 0.7851790189743042 \n",
      "Epoch: 103 ,reconstruction error: 0.7883129715919495 \n",
      "Epoch: 103 ,reconstruction error: 0.791109025478363 \n",
      "Epoch: 103 ,reconstruction error: 0.7858089804649353 \n",
      "Epoch: 103 ,reconstruction error: 0.7850180268287659 \n",
      "Epoch: 104 ,reconstruction error: 0.7886490225791931 \n",
      "Epoch: 104 ,reconstruction error: 0.7916629910469055 \n",
      "Epoch: 104 ,reconstruction error: 0.7857639789581299 \n",
      "Epoch: 104 ,reconstruction error: 0.78507399559021 \n",
      "Epoch: 105 ,reconstruction error: 0.7883279919624329 \n",
      "Epoch: 105 ,reconstruction error: 0.7910419702529907 \n",
      "Epoch: 105 ,reconstruction error: 0.7857120037078857 \n",
      "Epoch: 105 ,reconstruction error: 0.784995973110199 \n",
      "Epoch: 106 ,reconstruction error: 0.7882639765739441 \n",
      "Epoch: 106 ,reconstruction error: 0.7904360294342041 \n",
      "Epoch: 106 ,reconstruction error: 0.7858030200004578 \n",
      "Epoch: 106 ,reconstruction error: 0.785040020942688 \n",
      "Epoch: 107 ,reconstruction error: 0.787909984588623 \n",
      "Epoch: 107 ,reconstruction error: 0.7907419800758362 \n",
      "Epoch: 107 ,reconstruction error: 0.7849699854850769 \n",
      "Epoch: 107 ,reconstruction error: 0.7844269871711731 \n",
      "Epoch: 108 ,reconstruction error: 0.7879840135574341 \n",
      "Epoch: 108 ,reconstruction error: 0.7904180288314819 \n",
      "Epoch: 108 ,reconstruction error: 0.7857459783554077 \n",
      "Epoch: 108 ,reconstruction error: 0.7849670052528381 \n",
      "Epoch: 109 ,reconstruction error: 0.787684977054596 \n",
      "Epoch: 109 ,reconstruction error: 0.7903820276260376 \n",
      "Epoch: 109 ,reconstruction error: 0.785742998123169 \n",
      "Epoch: 109 ,reconstruction error: 0.7847509980201721 \n",
      "Epoch: 110 ,reconstruction error: 0.7875589728355408 \n",
      "Epoch: 110 ,reconstruction error: 0.7901960015296936 \n",
      "Epoch: 110 ,reconstruction error: 0.7859579920768738 \n",
      "Epoch: 110 ,reconstruction error: 0.7847239971160889 \n",
      "Epoch: 111 ,reconstruction error: 0.7877650260925293 \n",
      "Epoch: 111 ,reconstruction error: 0.7902230024337769 \n",
      "Epoch: 111 ,reconstruction error: 0.7851420044898987 \n",
      "Epoch: 111 ,reconstruction error: 0.7849519848823547 \n",
      "Epoch: 112 ,reconstruction error: 0.7877020239830017 \n",
      "Epoch: 112 ,reconstruction error: 0.7906349897384644 \n",
      "Epoch: 112 ,reconstruction error: 0.7850379943847656 \n",
      "Epoch: 112 ,reconstruction error: 0.7845860123634338 \n",
      "Epoch: 113 ,reconstruction error: 0.787434995174408 \n",
      "Epoch: 113 ,reconstruction error: 0.7898820042610168 \n",
      "Epoch: 113 ,reconstruction error: 0.785194993019104 \n",
      "Epoch: 113 ,reconstruction error: 0.7845450043678284 \n",
      "Epoch: 114 ,reconstruction error: 0.7866079807281494 \n",
      "Epoch: 114 ,reconstruction error: 0.7892829775810242 \n",
      "Epoch: 114 ,reconstruction error: 0.7856069803237915 \n",
      "Epoch: 114 ,reconstruction error: 0.7843130230903625 \n",
      "Epoch: 115 ,reconstruction error: 0.7872350215911865 \n",
      "Epoch: 115 ,reconstruction error: 0.7894920110702515 \n",
      "Epoch: 115 ,reconstruction error: 0.7847440242767334 \n",
      "Epoch: 115 ,reconstruction error: 0.7841659784317017 \n",
      "Epoch: 116 ,reconstruction error: 0.7866610288619995 \n",
      "Epoch: 116 ,reconstruction error: 0.7894949913024902 \n",
      "Epoch: 116 ,reconstruction error: 0.7851489782333374 \n",
      "Epoch: 116 ,reconstruction error: 0.7842990159988403 \n",
      "Epoch: 117 ,reconstruction error: 0.7866100072860718 \n",
      "Epoch: 117 ,reconstruction error: 0.7895990014076233 \n",
      "Epoch: 117 ,reconstruction error: 0.7848989963531494 \n",
      "Epoch: 117 ,reconstruction error: 0.7835279703140259 \n",
      "Epoch: 118 ,reconstruction error: 0.7866500020027161 \n",
      "Epoch: 118 ,reconstruction error: 0.7889389991760254 \n"
     ]
    },
    {
     "name": "stdout",
     "output_type": "stream",
     "text": [
      "Epoch: 118 ,reconstruction error: 0.784695029258728 \n",
      "Epoch: 118 ,reconstruction error: 0.7835379838943481 \n",
      "Epoch: 119 ,reconstruction error: 0.7863479852676392 \n",
      "Epoch: 119 ,reconstruction error: 0.7893949747085571 \n",
      "Epoch: 119 ,reconstruction error: 0.7846599817276001 \n",
      "Epoch: 119 ,reconstruction error: 0.7833049893379211 \n",
      "Epoch: 120 ,reconstruction error: 0.7862910032272339 \n",
      "Epoch: 120 ,reconstruction error: 0.7892850041389465 \n",
      "Epoch: 120 ,reconstruction error: 0.7844669818878174 \n",
      "Epoch: 120 ,reconstruction error: 0.7835509777069092 \n",
      "Epoch: 121 ,reconstruction error: 0.7864829897880554 \n",
      "Epoch: 121 ,reconstruction error: 0.7891070246696472 \n",
      "Epoch: 121 ,reconstruction error: 0.7843319773674011 \n",
      "Epoch: 121 ,reconstruction error: 0.7832679748535156 \n",
      "Epoch: 122 ,reconstruction error: 0.7860779762268066 \n",
      "Epoch: 122 ,reconstruction error: 0.7888249754905701 \n",
      "Epoch: 122 ,reconstruction error: 0.784434974193573 \n",
      "Epoch: 122 ,reconstruction error: 0.7833579778671265 \n",
      "Epoch: 123 ,reconstruction error: 0.7857909798622131 \n",
      "Epoch: 123 ,reconstruction error: 0.7887799739837646 \n",
      "Epoch: 123 ,reconstruction error: 0.7842289805412292 \n",
      "Epoch: 123 ,reconstruction error: 0.7834129929542542 \n",
      "Epoch: 124 ,reconstruction error: 0.7859209775924683 \n",
      "Epoch: 124 ,reconstruction error: 0.7890070080757141 \n",
      "Epoch: 124 ,reconstruction error: 0.7841669917106628 \n",
      "Epoch: 124 ,reconstruction error: 0.7836229801177979 \n",
      "Epoch: 125 ,reconstruction error: 0.7862640023231506 \n",
      "Epoch: 125 ,reconstruction error: 0.7886120080947876 \n",
      "Epoch: 125 ,reconstruction error: 0.7845820188522339 \n",
      "Epoch: 125 ,reconstruction error: 0.7838010191917419 \n",
      "Epoch: 126 ,reconstruction error: 0.7860509753227234 \n",
      "Epoch: 126 ,reconstruction error: 0.7889360189437866 \n",
      "Epoch: 126 ,reconstruction error: 0.7844870090484619 \n",
      "Epoch: 126 ,reconstruction error: 0.7836430072784424 \n",
      "Epoch: 127 ,reconstruction error: 0.7858309745788574 \n",
      "Epoch: 127 ,reconstruction error: 0.7882779836654663 \n",
      "Epoch: 127 ,reconstruction error: 0.7844430208206177 \n",
      "Epoch: 127 ,reconstruction error: 0.783577024936676 \n",
      "Epoch: 128 ,reconstruction error: 0.7863659858703613 \n",
      "Epoch: 128 ,reconstruction error: 0.7884290218353271 \n",
      "Epoch: 128 ,reconstruction error: 0.784546971321106 \n",
      "Epoch: 128 ,reconstruction error: 0.7838220000267029 \n",
      "Epoch: 129 ,reconstruction error: 0.7857720255851746 \n",
      "Epoch: 129 ,reconstruction error: 0.7882850170135498 \n",
      "Epoch: 129 ,reconstruction error: 0.7841110229492188 \n",
      "Epoch: 129 ,reconstruction error: 0.7837120294570923 \n",
      "Epoch: 130 ,reconstruction error: 0.7853900194168091 \n",
      "Epoch: 130 ,reconstruction error: 0.7885259985923767 \n",
      "Epoch: 130 ,reconstruction error: 0.7844039797782898 \n",
      "Epoch: 130 ,reconstruction error: 0.783951997756958 \n",
      "Epoch: 131 ,reconstruction error: 0.7853230237960815 \n",
      "Epoch: 131 ,reconstruction error: 0.788100004196167 \n",
      "Epoch: 131 ,reconstruction error: 0.784555971622467 \n",
      "Epoch: 131 ,reconstruction error: 0.7835919857025146 \n",
      "Epoch: 132 ,reconstruction error: 0.7856240272521973 \n",
      "Epoch: 132 ,reconstruction error: 0.7882819771766663 \n",
      "Epoch: 132 ,reconstruction error: 0.7840240001678467 \n",
      "Epoch: 132 ,reconstruction error: 0.783482015132904 \n",
      "Epoch: 133 ,reconstruction error: 0.7856109738349915 \n",
      "Epoch: 133 ,reconstruction error: 0.7881860136985779 \n",
      "Epoch: 133 ,reconstruction error: 0.7846840023994446 \n",
      "Epoch: 133 ,reconstruction error: 0.7833979725837708 \n",
      "Epoch: 134 ,reconstruction error: 0.7853659987449646 \n",
      "Epoch: 134 ,reconstruction error: 0.788066029548645 \n",
      "Epoch: 134 ,reconstruction error: 0.7845489978790283 \n",
      "Epoch: 134 ,reconstruction error: 0.7839400172233582 \n",
      "Epoch: 135 ,reconstruction error: 0.7854430079460144 \n",
      "Epoch: 135 ,reconstruction error: 0.7877619862556458 \n",
      "Epoch: 135 ,reconstruction error: 0.7843340039253235 \n",
      "Epoch: 135 ,reconstruction error: 0.7831439971923828 \n",
      "Epoch: 136 ,reconstruction error: 0.7851560115814209 \n",
      "Epoch: 136 ,reconstruction error: 0.78780198097229 \n",
      "Epoch: 136 ,reconstruction error: 0.784358024597168 \n",
      "Epoch: 136 ,reconstruction error: 0.7834280133247375 \n",
      "Epoch: 137 ,reconstruction error: 0.7850900292396545 \n",
      "Epoch: 137 ,reconstruction error: 0.7879229784011841 \n",
      "Epoch: 137 ,reconstruction error: 0.7840039730072021 \n",
      "Epoch: 137 ,reconstruction error: 0.7831680178642273 \n",
      "Epoch: 138 ,reconstruction error: 0.7852489948272705 \n",
      "Epoch: 138 ,reconstruction error: 0.7879869937896729 \n",
      "Epoch: 138 ,reconstruction error: 0.7842230200767517 \n",
      "Epoch: 138 ,reconstruction error: 0.7835900187492371 \n",
      "Epoch: 139 ,reconstruction error: 0.7852299809455872 \n",
      "Epoch: 139 ,reconstruction error: 0.7877269983291626 \n",
      "Epoch: 139 ,reconstruction error: 0.7841010093688965 \n",
      "Epoch: 139 ,reconstruction error: 0.7833420038223267 \n",
      "Epoch: 140 ,reconstruction error: 0.7852969765663147 \n",
      "Epoch: 140 ,reconstruction error: 0.7875099778175354 \n",
      "Epoch: 140 ,reconstruction error: 0.7843980193138123 \n",
      "Epoch: 140 ,reconstruction error: 0.7836499810218811 \n",
      "Epoch: 141 ,reconstruction error: 0.7848759889602661 \n",
      "Epoch: 141 ,reconstruction error: 0.7881090044975281 \n",
      "Epoch: 141 ,reconstruction error: 0.7841020226478577 \n",
      "Epoch: 141 ,reconstruction error: 0.7836909890174866 \n",
      "Epoch: 142 ,reconstruction error: 0.7851579785346985 \n",
      "Epoch: 142 ,reconstruction error: 0.78786700963974 \n",
      "Epoch: 142 ,reconstruction error: 0.7840390205383301 \n",
      "Epoch: 142 ,reconstruction error: 0.7832130193710327 \n",
      "Epoch: 143 ,reconstruction error: 0.7852309942245483 \n",
      "Epoch: 143 ,reconstruction error: 0.787788987159729 \n",
      "Epoch: 143 ,reconstruction error: 0.784060001373291 \n",
      "Epoch: 143 ,reconstruction error: 0.7834579944610596 \n",
      "Epoch: 144 ,reconstruction error: 0.7849889993667603 \n",
      "Epoch: 144 ,reconstruction error: 0.7874739766120911 \n",
      "Epoch: 144 ,reconstruction error: 0.7844330072402954 \n",
      "Epoch: 144 ,reconstruction error: 0.7837240099906921 \n",
      "Epoch: 145 ,reconstruction error: 0.7848039865493774 \n",
      "Epoch: 145 ,reconstruction error: 0.7873870134353638 \n",
      "Epoch: 145 ,reconstruction error: 0.7841129899024963 \n",
      "Epoch: 145 ,reconstruction error: 0.7832850217819214 \n",
      "Epoch: 146 ,reconstruction error: 0.7846609950065613 \n",
      "Epoch: 146 ,reconstruction error: 0.7874510288238525 \n",
      "Epoch: 146 ,reconstruction error: 0.7839739918708801 \n",
      "Epoch: 146 ,reconstruction error: 0.7835699915885925 \n",
      "Epoch: 147 ,reconstruction error: 0.7848359942436218 \n",
      "Epoch: 147 ,reconstruction error: 0.787680983543396 \n",
      "Epoch: 147 ,reconstruction error: 0.7837460041046143 \n",
      "Epoch: 147 ,reconstruction error: 0.7836880087852478 \n",
      "Epoch: 148 ,reconstruction error: 0.7848320007324219 \n",
      "Epoch: 148 ,reconstruction error: 0.7876830101013184 \n",
      "Epoch: 148 ,reconstruction error: 0.7841119766235352 \n",
      "Epoch: 148 ,reconstruction error: 0.7831609845161438 \n",
      "Epoch: 149 ,reconstruction error: 0.784958004951477 \n",
      "Epoch: 149 ,reconstruction error: 0.7874240279197693 \n",
      "Epoch: 149 ,reconstruction error: 0.7838580012321472 \n",
      "Epoch: 149 ,reconstruction error: 0.7831050157546997 \n",
      "Epoch: 150 ,reconstruction error: 0.784958004951477 \n",
      "Epoch: 150 ,reconstruction error: 0.7870870232582092 \n",
      "Epoch: 150 ,reconstruction error: 0.7838889956474304 \n",
      "Epoch: 150 ,reconstruction error: 0.7832739949226379 \n",
      "Epoch: 151 ,reconstruction error: 0.7845960259437561 \n",
      "Epoch: 151 ,reconstruction error: 0.7871230244636536 \n",
      "Epoch: 151 ,reconstruction error: 0.7841629981994629 \n",
      "Epoch: 151 ,reconstruction error: 0.7830939888954163 \n",
      "Epoch: 152 ,reconstruction error: 0.7849649786949158 \n",
      "Epoch: 152 ,reconstruction error: 0.787056028842926 \n",
      "Epoch: 152 ,reconstruction error: 0.7839199900627136 \n",
      "Epoch: 152 ,reconstruction error: 0.7828930020332336 \n",
      "Epoch: 153 ,reconstruction error: 0.7848290205001831 \n",
      "Epoch: 153 ,reconstruction error: 0.7872859835624695 \n",
      "Epoch: 153 ,reconstruction error: 0.783797025680542 \n",
      "Epoch: 153 ,reconstruction error: 0.782912015914917 \n",
      "Epoch: 154 ,reconstruction error: 0.7847359776496887 \n",
      "Epoch: 154 ,reconstruction error: 0.787060022354126 \n",
      "Epoch: 154 ,reconstruction error: 0.783847987651825 \n",
      "Epoch: 154 ,reconstruction error: 0.7828900218009949 \n",
      "Epoch: 155 ,reconstruction error: 0.7847139835357666 \n",
      "Epoch: 155 ,reconstruction error: 0.787073016166687 \n",
      "Epoch: 155 ,reconstruction error: 0.7838649749755859 \n",
      "Epoch: 155 ,reconstruction error: 0.7830299735069275 \n",
      "Epoch: 156 ,reconstruction error: 0.7848309874534607 \n",
      "Epoch: 156 ,reconstruction error: 0.7863550186157227 \n",
      "Epoch: 156 ,reconstruction error: 0.7837629914283752 \n"
     ]
    },
    {
     "name": "stdout",
     "output_type": "stream",
     "text": [
      "Epoch: 156 ,reconstruction error: 0.7831069827079773 \n",
      "Epoch: 157 ,reconstruction error: 0.7845309972763062 \n",
      "Epoch: 157 ,reconstruction error: 0.7867410182952881 \n",
      "Epoch: 157 ,reconstruction error: 0.78370201587677 \n",
      "Epoch: 157 ,reconstruction error: 0.7830359935760498 \n",
      "Epoch: 158 ,reconstruction error: 0.784509003162384 \n",
      "Epoch: 158 ,reconstruction error: 0.786424994468689 \n",
      "Epoch: 158 ,reconstruction error: 0.7833989858627319 \n",
      "Epoch: 158 ,reconstruction error: 0.7827439904212952 \n",
      "Epoch: 159 ,reconstruction error: 0.7844020128250122 \n",
      "Epoch: 159 ,reconstruction error: 0.7861649990081787 \n",
      "Epoch: 159 ,reconstruction error: 0.7838190197944641 \n",
      "Epoch: 159 ,reconstruction error: 0.7825559973716736 \n",
      "Epoch: 160 ,reconstruction error: 0.7844579815864563 \n",
      "Epoch: 160 ,reconstruction error: 0.7867370247840881 \n",
      "Epoch: 160 ,reconstruction error: 0.7835580110549927 \n",
      "Epoch: 160 ,reconstruction error: 0.7830700278282166 \n",
      "Epoch: 161 ,reconstruction error: 0.7845849990844727 \n",
      "Epoch: 161 ,reconstruction error: 0.786549985408783 \n",
      "Epoch: 161 ,reconstruction error: 0.7834720015525818 \n",
      "Epoch: 161 ,reconstruction error: 0.7828930020332336 \n",
      "Epoch: 162 ,reconstruction error: 0.7842010259628296 \n",
      "Epoch: 162 ,reconstruction error: 0.786312997341156 \n",
      "Epoch: 162 ,reconstruction error: 0.7836059927940369 \n",
      "Epoch: 162 ,reconstruction error: 0.7828429937362671 \n",
      "Epoch: 163 ,reconstruction error: 0.7844579815864563 \n",
      "Epoch: 163 ,reconstruction error: 0.7868509888648987 \n",
      "Epoch: 163 ,reconstruction error: 0.7832760214805603 \n",
      "Epoch: 163 ,reconstruction error: 0.7827119827270508 \n",
      "Epoch: 164 ,reconstruction error: 0.7844690084457397 \n",
      "Epoch: 164 ,reconstruction error: 0.7864729762077332 \n",
      "Epoch: 164 ,reconstruction error: 0.7835569977760315 \n",
      "Epoch: 164 ,reconstruction error: 0.7824940085411072 \n",
      "Epoch: 165 ,reconstruction error: 0.7843790054321289 \n",
      "Epoch: 165 ,reconstruction error: 0.7866870164871216 \n",
      "Epoch: 165 ,reconstruction error: 0.7833859920501709 \n",
      "Epoch: 165 ,reconstruction error: 0.7826799750328064 \n",
      "Epoch: 166 ,reconstruction error: 0.78438401222229 \n",
      "Epoch: 166 ,reconstruction error: 0.7868520021438599 \n",
      "Epoch: 166 ,reconstruction error: 0.7834100127220154 \n",
      "Epoch: 166 ,reconstruction error: 0.7828199863433838 \n",
      "Epoch: 167 ,reconstruction error: 0.7843549847602844 \n",
      "Epoch: 167 ,reconstruction error: 0.7865679860115051 \n",
      "Epoch: 167 ,reconstruction error: 0.7831889986991882 \n",
      "Epoch: 167 ,reconstruction error: 0.782929003238678 \n",
      "Epoch: 168 ,reconstruction error: 0.7842249870300293 \n",
      "Epoch: 168 ,reconstruction error: 0.7863669991493225 \n",
      "Epoch: 168 ,reconstruction error: 0.7832249999046326 \n",
      "Epoch: 168 ,reconstruction error: 0.7825769782066345 \n",
      "Epoch: 169 ,reconstruction error: 0.7842320203781128 \n",
      "Epoch: 169 ,reconstruction error: 0.7864360213279724 \n",
      "Epoch: 169 ,reconstruction error: 0.7834650278091431 \n",
      "Epoch: 169 ,reconstruction error: 0.7827669978141785 \n",
      "Epoch: 170 ,reconstruction error: 0.784034013748169 \n",
      "Epoch: 170 ,reconstruction error: 0.7866820096969604 \n",
      "Epoch: 170 ,reconstruction error: 0.7832210063934326 \n",
      "Epoch: 170 ,reconstruction error: 0.7828099727630615 \n",
      "Epoch: 171 ,reconstruction error: 0.7840409874916077 \n",
      "Epoch: 171 ,reconstruction error: 0.7862439751625061 \n",
      "Epoch: 171 ,reconstruction error: 0.7833179831504822 \n",
      "Epoch: 171 ,reconstruction error: 0.7826669812202454 \n",
      "Epoch: 172 ,reconstruction error: 0.7837460041046143 \n",
      "Epoch: 172 ,reconstruction error: 0.7861319780349731 \n",
      "Epoch: 172 ,reconstruction error: 0.7830889821052551 \n",
      "Epoch: 172 ,reconstruction error: 0.7826600074768066 \n",
      "Epoch: 173 ,reconstruction error: 0.784201979637146 \n",
      "Epoch: 173 ,reconstruction error: 0.7865440249443054 \n",
      "Epoch: 173 ,reconstruction error: 0.7831689715385437 \n",
      "Epoch: 173 ,reconstruction error: 0.7827950119972229 \n",
      "Epoch: 174 ,reconstruction error: 0.7839120030403137 \n",
      "Epoch: 174 ,reconstruction error: 0.7866380214691162 \n",
      "Epoch: 174 ,reconstruction error: 0.7830430269241333 \n",
      "Epoch: 174 ,reconstruction error: 0.7827829718589783 \n",
      "Epoch: 175 ,reconstruction error: 0.7839589715003967 \n",
      "Epoch: 175 ,reconstruction error: 0.7863990068435669 \n",
      "Epoch: 175 ,reconstruction error: 0.7831109762191772 \n",
      "Epoch: 175 ,reconstruction error: 0.7830010056495667 \n",
      "Epoch: 176 ,reconstruction error: 0.7840579748153687 \n",
      "Epoch: 176 ,reconstruction error: 0.7864390015602112 \n",
      "Epoch: 176 ,reconstruction error: 0.7832210063934326 \n",
      "Epoch: 176 ,reconstruction error: 0.7827159762382507 \n",
      "Epoch: 177 ,reconstruction error: 0.7844240069389343 \n",
      "Epoch: 177 ,reconstruction error: 0.7863500118255615 \n",
      "Epoch: 177 ,reconstruction error: 0.783378005027771 \n",
      "Epoch: 177 ,reconstruction error: 0.7826669812202454 \n",
      "Epoch: 178 ,reconstruction error: 0.7843829989433289 \n",
      "Epoch: 178 ,reconstruction error: 0.7865089774131775 \n",
      "Epoch: 178 ,reconstruction error: 0.7831429839134216 \n",
      "Epoch: 178 ,reconstruction error: 0.7825469970703125 \n",
      "Epoch: 179 ,reconstruction error: 0.7839149832725525 \n",
      "Epoch: 179 ,reconstruction error: 0.7861369848251343 \n",
      "Epoch: 179 ,reconstruction error: 0.7831240296363831 \n",
      "Epoch: 179 ,reconstruction error: 0.782384991645813 \n",
      "Epoch: 180 ,reconstruction error: 0.7840859889984131 \n",
      "Epoch: 180 ,reconstruction error: 0.7860530018806458 \n",
      "Epoch: 180 ,reconstruction error: 0.7829260230064392 \n",
      "Epoch: 180 ,reconstruction error: 0.782509982585907 \n",
      "Epoch: 181 ,reconstruction error: 0.7843539714813232 \n",
      "Epoch: 181 ,reconstruction error: 0.7863739728927612 \n",
      "Epoch: 181 ,reconstruction error: 0.7827360033988953 \n",
      "Epoch: 181 ,reconstruction error: 0.7827540040016174 \n",
      "Epoch: 182 ,reconstruction error: 0.7840489745140076 \n",
      "Epoch: 182 ,reconstruction error: 0.786575973033905 \n",
      "Epoch: 182 ,reconstruction error: 0.7828710079193115 \n",
      "Epoch: 182 ,reconstruction error: 0.7825189828872681 \n",
      "Epoch: 183 ,reconstruction error: 0.7841309905052185 \n",
      "Epoch: 183 ,reconstruction error: 0.7861279845237732 \n",
      "Epoch: 183 ,reconstruction error: 0.7831029891967773 \n",
      "Epoch: 183 ,reconstruction error: 0.7826300263404846 \n",
      "Epoch: 184 ,reconstruction error: 0.7840859889984131 \n",
      "Epoch: 184 ,reconstruction error: 0.7862200140953064 \n",
      "Epoch: 184 ,reconstruction error: 0.7834280133247375 \n",
      "Epoch: 184 ,reconstruction error: 0.7823619842529297 \n",
      "Epoch: 185 ,reconstruction error: 0.7842410206794739 \n",
      "Epoch: 185 ,reconstruction error: 0.7860779762268066 \n",
      "Epoch: 185 ,reconstruction error: 0.7832970023155212 \n",
      "Epoch: 185 ,reconstruction error: 0.782522976398468 \n",
      "Epoch: 186 ,reconstruction error: 0.783856987953186 \n",
      "Epoch: 186 ,reconstruction error: 0.7861850261688232 \n",
      "Epoch: 186 ,reconstruction error: 0.7830439805984497 \n",
      "Epoch: 186 ,reconstruction error: 0.7828130125999451 \n",
      "Epoch: 187 ,reconstruction error: 0.7839549779891968 \n",
      "Epoch: 187 ,reconstruction error: 0.7862309813499451 \n",
      "Epoch: 187 ,reconstruction error: 0.7833420038223267 \n",
      "Epoch: 187 ,reconstruction error: 0.7826319932937622 \n",
      "Epoch: 188 ,reconstruction error: 0.7840499877929688 \n",
      "Epoch: 188 ,reconstruction error: 0.7862169742584229 \n",
      "Epoch: 188 ,reconstruction error: 0.7833880186080933 \n",
      "Epoch: 188 ,reconstruction error: 0.7827489972114563 \n",
      "Epoch: 189 ,reconstruction error: 0.7839599847793579 \n",
      "Epoch: 189 ,reconstruction error: 0.7864009737968445 \n",
      "Epoch: 189 ,reconstruction error: 0.7833219766616821 \n",
      "Epoch: 189 ,reconstruction error: 0.7826930284500122 \n",
      "Epoch: 190 ,reconstruction error: 0.7842119932174683 \n",
      "Epoch: 190 ,reconstruction error: 0.786329984664917 \n",
      "Epoch: 190 ,reconstruction error: 0.78336101770401 \n",
      "Epoch: 190 ,reconstruction error: 0.7825480103492737 \n",
      "Epoch: 191 ,reconstruction error: 0.7841830253601074 \n",
      "Epoch: 191 ,reconstruction error: 0.7863919734954834 \n",
      "Epoch: 191 ,reconstruction error: 0.7835519909858704 \n",
      "Epoch: 191 ,reconstruction error: 0.7828009724617004 \n",
      "Epoch: 192 ,reconstruction error: 0.7841960191726685 \n",
      "Epoch: 192 ,reconstruction error: 0.7865769863128662 \n",
      "Epoch: 192 ,reconstruction error: 0.7836030125617981 \n",
      "Epoch: 192 ,reconstruction error: 0.7826560139656067 \n",
      "Epoch: 193 ,reconstruction error: 0.7844370007514954 \n",
      "Epoch: 193 ,reconstruction error: 0.7862690091133118 \n",
      "Epoch: 193 ,reconstruction error: 0.7836509943008423 \n",
      "Epoch: 193 ,reconstruction error: 0.7829110026359558 \n",
      "Epoch: 194 ,reconstruction error: 0.7840219736099243 \n",
      "Epoch: 194 ,reconstruction error: 0.7868310213088989 \n",
      "Epoch: 194 ,reconstruction error: 0.7836040258407593 \n",
      "Epoch: 194 ,reconstruction error: 0.7829189896583557 \n",
      "Epoch: 195 ,reconstruction error: 0.7843300104141235 \n"
     ]
    },
    {
     "name": "stdout",
     "output_type": "stream",
     "text": [
      "Epoch: 195 ,reconstruction error: 0.7865039706230164 \n",
      "Epoch: 195 ,reconstruction error: 0.7836999893188477 \n",
      "Epoch: 195 ,reconstruction error: 0.7829939723014832 \n",
      "Epoch: 196 ,reconstruction error: 0.7845069766044617 \n",
      "Epoch: 196 ,reconstruction error: 0.7865239977836609 \n",
      "Epoch: 196 ,reconstruction error: 0.7836999893188477 \n",
      "Epoch: 196 ,reconstruction error: 0.782863974571228 \n",
      "Epoch: 197 ,reconstruction error: 0.7841899991035461 \n",
      "Epoch: 197 ,reconstruction error: 0.7863519787788391 \n",
      "Epoch: 197 ,reconstruction error: 0.7835900187492371 \n",
      "Epoch: 197 ,reconstruction error: 0.782929003238678 \n",
      "Epoch: 198 ,reconstruction error: 0.7841860055923462 \n",
      "Epoch: 198 ,reconstruction error: 0.7862970232963562 \n",
      "Epoch: 198 ,reconstruction error: 0.7836009860038757 \n",
      "Epoch: 198 ,reconstruction error: 0.7831519842147827 \n",
      "Epoch: 199 ,reconstruction error: 0.784184992313385 \n",
      "Epoch: 199 ,reconstruction error: 0.7862470149993896 \n",
      "Epoch: 199 ,reconstruction error: 0.7836290001869202 \n",
      "Epoch: 199 ,reconstruction error: 0.7829099893569946 \n",
      "Epoch: 200 ,reconstruction error: 0.7843930125236511 \n",
      "Epoch: 200 ,reconstruction error: 0.7863730192184448 \n",
      "Epoch: 200 ,reconstruction error: 0.7836170196533203 \n",
      "Epoch: 200 ,reconstruction error: 0.7829610109329224 \n",
      "Epoch: 201 ,reconstruction error: 0.7842119932174683 \n",
      "Epoch: 201 ,reconstruction error: 0.786683976650238 \n",
      "Epoch: 201 ,reconstruction error: 0.7838460206985474 \n",
      "Epoch: 201 ,reconstruction error: 0.7830010056495667 \n",
      "Epoch: 202 ,reconstruction error: 0.784600019454956 \n",
      "Epoch: 202 ,reconstruction error: 0.7864350080490112 \n",
      "Epoch: 202 ,reconstruction error: 0.7838000059127808 \n",
      "Epoch: 202 ,reconstruction error: 0.7830790281295776 \n",
      "Epoch: 203 ,reconstruction error: 0.7844690084457397 \n",
      "Epoch: 203 ,reconstruction error: 0.7861819863319397 \n",
      "Epoch: 203 ,reconstruction error: 0.7839130163192749 \n",
      "Epoch: 203 ,reconstruction error: 0.7831469774246216 \n",
      "Epoch: 204 ,reconstruction error: 0.7843570113182068 \n",
      "Epoch: 204 ,reconstruction error: 0.7864869832992554 \n",
      "Epoch: 204 ,reconstruction error: 0.7836790084838867 \n",
      "Epoch: 204 ,reconstruction error: 0.7833020091056824 \n",
      "Epoch: 205 ,reconstruction error: 0.7844809889793396 \n",
      "Epoch: 205 ,reconstruction error: 0.7864270210266113 \n",
      "Epoch: 205 ,reconstruction error: 0.7839699983596802 \n",
      "Epoch: 205 ,reconstruction error: 0.7833330035209656 \n",
      "Epoch: 206 ,reconstruction error: 0.7844740152359009 \n",
      "Epoch: 206 ,reconstruction error: 0.7863289713859558 \n",
      "Epoch: 206 ,reconstruction error: 0.7837409973144531 \n",
      "Epoch: 206 ,reconstruction error: 0.783282995223999 \n",
      "Epoch: 207 ,reconstruction error: 0.784434974193573 \n",
      "Epoch: 207 ,reconstruction error: 0.7864059805870056 \n",
      "Epoch: 207 ,reconstruction error: 0.7838590145111084 \n",
      "Epoch: 207 ,reconstruction error: 0.7832980155944824 \n",
      "Epoch: 208 ,reconstruction error: 0.7841969728469849 \n",
      "Epoch: 208 ,reconstruction error: 0.7861809730529785 \n",
      "Epoch: 208 ,reconstruction error: 0.7834349870681763 \n",
      "Epoch: 208 ,reconstruction error: 0.7835019826889038 \n",
      "Epoch: 209 ,reconstruction error: 0.7845960259437561 \n",
      "Epoch: 209 ,reconstruction error: 0.786329984664917 \n",
      "Epoch: 209 ,reconstruction error: 0.7837610244750977 \n",
      "Epoch: 209 ,reconstruction error: 0.7831979990005493 \n",
      "Epoch: 210 ,reconstruction error: 0.7846119999885559 \n",
      "Epoch: 210 ,reconstruction error: 0.7863109707832336 \n",
      "Epoch: 210 ,reconstruction error: 0.783918023109436 \n",
      "Epoch: 210 ,reconstruction error: 0.7835559844970703 \n",
      "Epoch: 211 ,reconstruction error: 0.7842959761619568 \n",
      "Epoch: 211 ,reconstruction error: 0.7859330177307129 \n",
      "Epoch: 211 ,reconstruction error: 0.7836470007896423 \n",
      "Epoch: 211 ,reconstruction error: 0.7832229733467102 \n",
      "Epoch: 212 ,reconstruction error: 0.7844510078430176 \n",
      "Epoch: 212 ,reconstruction error: 0.7864450216293335 \n",
      "Epoch: 212 ,reconstruction error: 0.7840359807014465 \n",
      "Epoch: 212 ,reconstruction error: 0.7834280133247375 \n",
      "Epoch: 213 ,reconstruction error: 0.7845810055732727 \n",
      "Epoch: 213 ,reconstruction error: 0.7860890030860901 \n",
      "Epoch: 213 ,reconstruction error: 0.7838280200958252 \n",
      "Epoch: 213 ,reconstruction error: 0.7833759784698486 \n",
      "Epoch: 214 ,reconstruction error: 0.7844840288162231 \n",
      "Epoch: 214 ,reconstruction error: 0.7864810228347778 \n",
      "Epoch: 214 ,reconstruction error: 0.7839530110359192 \n",
      "Epoch: 214 ,reconstruction error: 0.7834439873695374 \n",
      "Epoch: 215 ,reconstruction error: 0.784546971321106 \n",
      "Epoch: 215 ,reconstruction error: 0.78615802526474 \n",
      "Epoch: 215 ,reconstruction error: 0.7837430238723755 \n",
      "Epoch: 215 ,reconstruction error: 0.7834830284118652 \n",
      "Epoch: 216 ,reconstruction error: 0.7845669984817505 \n",
      "Epoch: 216 ,reconstruction error: 0.7861409783363342 \n",
      "Epoch: 216 ,reconstruction error: 0.7838630080223083 \n",
      "Epoch: 216 ,reconstruction error: 0.7831990122795105 \n",
      "Epoch: 217 ,reconstruction error: 0.7844499945640564 \n",
      "Epoch: 217 ,reconstruction error: 0.7863739728927612 \n",
      "Epoch: 217 ,reconstruction error: 0.784026026725769 \n",
      "Epoch: 217 ,reconstruction error: 0.7832499742507935 \n",
      "Epoch: 218 ,reconstruction error: 0.7846109867095947 \n",
      "Epoch: 218 ,reconstruction error: 0.7863739728927612 \n",
      "Epoch: 218 ,reconstruction error: 0.7840049862861633 \n",
      "Epoch: 218 ,reconstruction error: 0.7832630276679993 \n",
      "Epoch: 219 ,reconstruction error: 0.7845379710197449 \n",
      "Epoch: 219 ,reconstruction error: 0.7864469885826111 \n",
      "Epoch: 219 ,reconstruction error: 0.7838789820671082 \n",
      "Epoch: 219 ,reconstruction error: 0.7834640145301819 \n",
      "Epoch: 220 ,reconstruction error: 0.7844799757003784 \n",
      "Epoch: 220 ,reconstruction error: 0.7863559722900391 \n",
      "Epoch: 220 ,reconstruction error: 0.7838829755783081 \n",
      "Epoch: 220 ,reconstruction error: 0.7835549712181091 \n",
      "Epoch: 221 ,reconstruction error: 0.7845900058746338 \n",
      "Epoch: 221 ,reconstruction error: 0.7863410115242004 \n",
      "Epoch: 221 ,reconstruction error: 0.7840250134468079 \n",
      "Epoch: 221 ,reconstruction error: 0.7836019992828369 \n",
      "Epoch: 222 ,reconstruction error: 0.7847599983215332 \n",
      "Epoch: 222 ,reconstruction error: 0.786404013633728 \n",
      "Epoch: 222 ,reconstruction error: 0.7838730216026306 \n",
      "Epoch: 222 ,reconstruction error: 0.7834699749946594 \n",
      "Epoch: 223 ,reconstruction error: 0.7845529913902283 \n",
      "Epoch: 223 ,reconstruction error: 0.7866610288619995 \n",
      "Epoch: 223 ,reconstruction error: 0.7838940024375916 \n",
      "Epoch: 223 ,reconstruction error: 0.7837460041046143 \n",
      "Epoch: 224 ,reconstruction error: 0.784492015838623 \n",
      "Epoch: 224 ,reconstruction error: 0.7863529920578003 \n",
      "Epoch: 224 ,reconstruction error: 0.7840840220451355 \n",
      "Epoch: 224 ,reconstruction error: 0.7835879921913147 \n",
      "Epoch: 225 ,reconstruction error: 0.7847689986228943 \n",
      "Epoch: 225 ,reconstruction error: 0.7865509986877441 \n",
      "Epoch: 225 ,reconstruction error: 0.7840309739112854 \n",
      "Epoch: 225 ,reconstruction error: 0.7836520075798035 \n",
      "Epoch: 226 ,reconstruction error: 0.7845569849014282 \n",
      "Epoch: 226 ,reconstruction error: 0.7863640189170837 \n",
      "Epoch: 226 ,reconstruction error: 0.7837809920310974 \n",
      "Epoch: 226 ,reconstruction error: 0.7833619713783264 \n",
      "Epoch: 227 ,reconstruction error: 0.7843449711799622 \n",
      "Epoch: 227 ,reconstruction error: 0.7863820195198059 \n",
      "Epoch: 227 ,reconstruction error: 0.7838249802589417 \n",
      "Epoch: 227 ,reconstruction error: 0.7836880087852478 \n",
      "Epoch: 228 ,reconstruction error: 0.7846260070800781 \n",
      "Epoch: 228 ,reconstruction error: 0.7863199710845947 \n",
      "Epoch: 228 ,reconstruction error: 0.7840409874916077 \n",
      "Epoch: 228 ,reconstruction error: 0.7833250164985657 \n",
      "Epoch: 229 ,reconstruction error: 0.7844169735908508 \n",
      "Epoch: 229 ,reconstruction error: 0.7865430116653442 \n",
      "Epoch: 229 ,reconstruction error: 0.783935010433197 \n",
      "Epoch: 229 ,reconstruction error: 0.7836689949035645 \n"
     ]
    }
   ],
   "source": [
    "# Train RBM model\n",
    "err,rec = rbm.train(inputX,187)"
   ]
  },
  {
   "cell_type": "code",
   "execution_count": 55,
   "metadata": {
    "scrolled": true
   },
   "outputs": [
    {
     "data": {
      "image/png": "[encoded data removed]",
      "text/plain": [
       "<Figure size 576x360 with 1 Axes>"
      ]
     },
     "metadata": {
      "needs_background": "light"
     },
     "output_type": "display_data"
    }
   ],
   "source": [
    "# Plot reconstruction errors\n",
    "\n",
    "plt.figure(figsize=(8,5))\n",
    "pd.Series(err).plot(logy=False)\n",
    "plt.xlabel('Epoch')\n",
    "plt.ylabel('Reconstruction Error')\n",
    "plt.title('Reconstruction Errors')\n",
    "plt.show()"
   ]
  },
  {
   "cell_type": "code",
   "execution_count": 65,
   "metadata": {},
   "outputs": [
    {
     "name": "stdout",
     "output_type": "stream",
     "text": [
      "Mean squared error using RBM prediction: 12.14\n"
     ]
    }
   ],
   "source": [
    "# Predicting ratings for validation set\n",
    "\n",
    "inputValidation = ratings_validation\n",
    "inputValidation = inputValidation.astype(np.float32)\n",
    "\n",
    "finalOutput_validation, reconstructedOutput_validation, _ = rbm.rbm_output(inputValidation)\n",
    "\n",
    "# Calculating MSE for validation set\n",
    "\n",
    "predictionsArray = reconstructedOutput_validation\n",
    "pred_validation = predictionsArray[ratings_validation.nonzero()].flatten()\n",
    "actual_validation = ratings_validation[ratings_validation.nonzero()].flatten()\n",
    "\n",
    "rbm_prediction = mean_squared_error(pred_validation, actual_validation)\n",
    "\n",
    "# Adding results to results dataframe\n",
    "results = results.append({'Model': 'Restricted Boltzmann Machine', 'MSE': rbm_prediction}, ignore_index=True)\n",
    "\n",
    "print('Mean squared error using RBM prediction:', round(rbm_prediction,2))"
   ]
  },
  {
   "cell_type": "markdown",
   "metadata": {},
   "source": [
    "### Recommendations for a mock user"
   ]
  },
  {
   "cell_type": "code",
   "execution_count": 66,
   "metadata": {},
   "outputs": [
    {
     "name": "stderr",
     "output_type": "stream",
     "text": [
      "/Library/Frameworks/Python.framework/Versions/3.7/lib/python3.7/site-packages/ipykernel_launcher.py:227: SettingWithCopyWarning: \n",
      "A value is trying to be set on a copy of a slice from a DataFrame.\n",
      "Try using .loc[row_indexer,col_indexer] = value instead\n",
      "\n",
      "See the caveats in the documentation: http://pandas.pydata.org/pandas-docs/stable/user_guide/indexing.html#returning-a-view-versus-a-copy\n"
     ]
    },
    {
     "data": {
      "text/html": [
       "<div>\n",
       "<style scoped>\n",
       "    .dataframe tbody tr th:only-of-type {\n",
       "        vertical-align: middle;\n",
       "    }\n",
       "\n",
       "    .dataframe tbody tr th {\n",
       "        vertical-align: top;\n",
       "    }\n",
       "\n",
       "    .dataframe thead th {\n",
       "        text-align: right;\n",
       "    }\n",
       "</style>\n",
       "<table border=\"1\" class=\"dataframe\">\n",
       "  <thead>\n",
       "    <tr style=\"text-align: right;\">\n",
       "      <th></th>\n",
       "      <th>book_name</th>\n",
       "      <th>book_authors</th>\n",
       "    </tr>\n",
       "  </thead>\n",
       "  <tbody>\n",
       "    <tr>\n",
       "      <th>0</th>\n",
       "      <td>Nineteen Eighty-Four</td>\n",
       "      <td>George Orwell, Erich Fromm, Celâl Üster</td>\n",
       "    </tr>\n",
       "    <tr>\n",
       "      <th>1</th>\n",
       "      <td>The Notebook</td>\n",
       "      <td>Nicholas Sparks</td>\n",
       "    </tr>\n",
       "    <tr>\n",
       "      <th>2</th>\n",
       "      <td>A Thousand Splendid Suns</td>\n",
       "      <td>Khaled Hosseini</td>\n",
       "    </tr>\n",
       "    <tr>\n",
       "      <th>3</th>\n",
       "      <td>Un di Velt Hot Geshvign</td>\n",
       "      <td>Elie Wiesel, Marion Wiesel</td>\n",
       "    </tr>\n",
       "    <tr>\n",
       "      <th>4</th>\n",
       "      <td>Divine Secrets of the Ya-Ya Sisterhood</td>\n",
       "      <td>Rebecca Wells</td>\n",
       "    </tr>\n",
       "    <tr>\n",
       "      <th>5</th>\n",
       "      <td>Watchmen</td>\n",
       "      <td>Alan Moore, Dave Gibbons, John Higgins</td>\n",
       "    </tr>\n",
       "    <tr>\n",
       "      <th>6</th>\n",
       "      <td>Blink: The Power of Thinking Without Thinking</td>\n",
       "      <td>Malcolm Gladwell</td>\n",
       "    </tr>\n",
       "  </tbody>\n",
       "</table>\n",
       "</div>"
      ],
      "text/plain": [
       "                                       book_name  \\\n",
       "0                           Nineteen Eighty-Four   \n",
       "1                                   The Notebook   \n",
       "2                       A Thousand Splendid Suns   \n",
       "3                        Un di Velt Hot Geshvign   \n",
       "4         Divine Secrets of the Ya-Ya Sisterhood   \n",
       "5                                       Watchmen   \n",
       "6  Blink: The Power of Thinking Without Thinking   \n",
       "\n",
       "                              book_authors  \n",
       "0  George Orwell, Erich Fromm, Celâl Üster  \n",
       "1                          Nicholas Sparks  \n",
       "2                          Khaled Hosseini  \n",
       "3               Elie Wiesel, Marion Wiesel  \n",
       "4                            Rebecca Wells  \n",
       "5   Alan Moore, Dave Gibbons, John Higgins  \n",
       "6                         Malcolm Gladwell  "
      ]
     },
     "execution_count": 66,
     "metadata": {},
     "output_type": "execute_result"
    }
   ],
   "source": [
    "#mock user id\n",
    "user=187\n",
    "\n",
    "# Getting recommended books for mock user\n",
    "unread, read = rbm.recommendedBooks(reducedRatings, books, toread, rec, user)\n",
    "\n",
    "# Listing recommended books for mock user\n",
    "unread[['book_name','book_authors']]"
   ]
  },
  {
   "cell_type": "markdown",
   "metadata": {},
   "source": [
    "## Results"
   ]
  },
  {
   "cell_type": "code",
   "execution_count": 67,
   "metadata": {},
   "outputs": [
    {
     "data": {
      "text/html": [
       "<div>\n",
       "<style scoped>\n",
       "    .dataframe tbody tr th:only-of-type {\n",
       "        vertical-align: middle;\n",
       "    }\n",
       "\n",
       "    .dataframe tbody tr th {\n",
       "        vertical-align: top;\n",
       "    }\n",
       "\n",
       "    .dataframe thead th {\n",
       "        text-align: right;\n",
       "    }\n",
       "</style>\n",
       "<table border=\"1\" class=\"dataframe\">\n",
       "  <thead>\n",
       "    <tr style=\"text-align: right;\">\n",
       "      <th></th>\n",
       "      <th>Model</th>\n",
       "      <th>MSE</th>\n",
       "    </tr>\n",
       "  </thead>\n",
       "  <tbody>\n",
       "    <tr>\n",
       "      <th>0</th>\n",
       "      <td>Matrix Factorization</td>\n",
       "      <td>0.330581</td>\n",
       "    </tr>\n",
       "    <tr>\n",
       "      <th>1</th>\n",
       "      <td>Restricted Boltzmann Machine</td>\n",
       "      <td>12.144299</td>\n",
       "    </tr>\n",
       "  </tbody>\n",
       "</table>\n",
       "</div>"
      ],
      "text/plain": [
       "                          Model        MSE\n",
       "0          Matrix Factorization   0.330581\n",
       "1  Restricted Boltzmann Machine  12.144299"
      ]
     },
     "execution_count": 67,
     "metadata": {},
     "output_type": "execute_result"
    }
   ],
   "source": [
    "results"
   ]
  },
  {
   "cell_type": "markdown",
   "metadata": {},
   "source": [
    "_________________________________________________________\n",
    "\n",
    "By: Wendy Navarrete\n",
    "\n",
    "November 2019"
   ]
  }
 ],
 "metadata": {
  "kernelspec": {
   "display_name": "Python 3",
   "language": "python",
   "name": "python3"
  },
  "language_info": {
   "codemirror_mode": {
    "name": "ipython",
    "version": 3
   },
   "file_extension": ".py",
   "mimetype": "text/x-python",
   "name": "python",
   "nbconvert_exporter": "python",
   "pygments_lexer": "ipython3",
   "version": "3.7.5"
  }
 },
 "nbformat": 4,
 "nbformat_minor": 2
}
