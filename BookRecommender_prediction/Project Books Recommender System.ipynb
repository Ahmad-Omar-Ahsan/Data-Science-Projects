{
 "cells": [
  {
   "cell_type": "markdown",
   "metadata": {},
   "source": [
    "## Project: Books Recommender System"
   ]
  },
  {
   "attachments": {},
   "cell_type": "markdown",
   "metadata": {},
   "source": [
    "Nowadays, in this global world there is a vast number of things to select, where people might be lost. That is the case at the moment of choosing the next book to read. That’s why this project proposal is a book recommender system to help people choose better among a huge set of options.\n",
    "\n",
    "What you'll find in this notebook is:\n",
    "\n",
    "- Getting and loading data from this github [Repository](https://github.com/zygmuntz/goodbooks-10k)\n",
    "- Data Exploration\n",
    "- Cost function definition\n",
    "- 2 approaches:\n",
    "    - Matrix Factorization or Embedding Model\n",
    "    - Restricted Boltzmann Machines\n",
    "- Model Execution\n",
    "- Results"
   ]
  },
  {
   "cell_type": "code",
   "execution_count": 1,
   "metadata": {},
   "outputs": [
    {
     "name": "stderr",
     "output_type": "stream",
     "text": [
      "Using TensorFlow backend.\n"
     ]
    }
   ],
   "source": [
    "import pandas as pd\n",
    "import numpy as np\n",
    "\n",
    "import matplotlib.pyplot as plt\n",
    "import seaborn as sns\n",
    "import random\n",
    "\n",
    "%matplotlib inline\n",
    "\n",
    "'''Data Prep and Model Evaluation'''\n",
    "from sklearn import preprocessing as pp\n",
    "from sklearn.model_selection import train_test_split\n",
    "from sklearn.model_selection import StratifiedKFold\n",
    "from sklearn.metrics import log_loss\n",
    "from sklearn.metrics import precision_recall_curve, average_precision_score\n",
    "from sklearn.metrics import roc_curve,auc,roc_auc_score, mean_squared_error\n",
    "\n",
    "\n",
    "'''Keras and TensorFlow'''\n",
    "import tensorflow as tf\n",
    "import keras\n",
    "from keras import backend as K\n",
    "from keras.models import Sequential, Model\n",
    "from keras.layers import Activation, Dense, Dropout, Embedding, Flatten\n",
    "from keras.layers import dot\n",
    "from keras.layers import BatchNormalization, Input, Lambda\n",
    "from keras import regularizers\n",
    "from keras.losses import mse,binary_crossentropy\n",
    "\n"
   ]
  },
  {
   "attachments": {},
   "cell_type": "markdown",
   "metadata": {},
   "source": [
    "### Loading Data\n",
    "\n",
    "The dataset is composed by 3 .csv files provided by this guthub [repository](https://github.com/zygmuntz/goodbooks-10k)\n",
    "\n",
    "- books.csv: contains metadata for each book. It includes book id, title, author, number of editions, publication year, language, average rating and others\n",
    "\n",
    "- ratings.csv contains the most important variables for this project, user id, book id and book ratings\n",
    "\n",
    "- To_read.csv, is the file that provides user IDs and the book IDs that the user has already read"
   ]
  },
  {
   "cell_type": "code",
   "execution_count": 2,
   "metadata": {},
   "outputs": [],
   "source": [
    "# Loading data for book,csv file\n",
    "\n",
    "books = pd.read_csv('books.csv')\n",
    "ratings = pd.read_csv('ratings.csv')\n",
    "toread = pd.read_csv('to_read.csv')"
   ]
  },
  {
   "cell_type": "markdown",
   "metadata": {},
   "source": [
    "### Data Exploration"
   ]
  },
  {
   "cell_type": "markdown",
   "metadata": {},
   "source": [
    "**books.csv**"
   ]
  },
  {
   "cell_type": "code",
   "execution_count": 3,
   "metadata": {},
   "outputs": [
    {
     "data": {
      "text/html": [
       "<div>\n",
       "<style scoped>\n",
       "    .dataframe tbody tr th:only-of-type {\n",
       "        vertical-align: middle;\n",
       "    }\n",
       "\n",
       "    .dataframe tbody tr th {\n",
       "        vertical-align: top;\n",
       "    }\n",
       "\n",
       "    .dataframe thead th {\n",
       "        text-align: right;\n",
       "    }\n",
       "</style>\n",
       "<table border=\"1\" class=\"dataframe\">\n",
       "  <thead>\n",
       "    <tr style=\"text-align: right;\">\n",
       "      <th></th>\n",
       "      <th>book_id</th>\n",
       "      <th>goodreads_book_id</th>\n",
       "      <th>best_book_id</th>\n",
       "      <th>work_id</th>\n",
       "      <th>books_count</th>\n",
       "      <th>isbn</th>\n",
       "      <th>isbn13</th>\n",
       "      <th>authors</th>\n",
       "      <th>original_publication_year</th>\n",
       "      <th>original_title</th>\n",
       "      <th>...</th>\n",
       "      <th>ratings_count</th>\n",
       "      <th>work_ratings_count</th>\n",
       "      <th>work_text_reviews_count</th>\n",
       "      <th>ratings_1</th>\n",
       "      <th>ratings_2</th>\n",
       "      <th>ratings_3</th>\n",
       "      <th>ratings_4</th>\n",
       "      <th>ratings_5</th>\n",
       "      <th>image_url</th>\n",
       "      <th>small_image_url</th>\n",
       "    </tr>\n",
       "  </thead>\n",
       "  <tbody>\n",
       "    <tr>\n",
       "      <th>0</th>\n",
       "      <td>1</td>\n",
       "      <td>2767052</td>\n",
       "      <td>2767052</td>\n",
       "      <td>2792775</td>\n",
       "      <td>272</td>\n",
       "      <td>439023483</td>\n",
       "      <td>9.780439e+12</td>\n",
       "      <td>Suzanne Collins</td>\n",
       "      <td>2008.0</td>\n",
       "      <td>The Hunger Games</td>\n",
       "      <td>...</td>\n",
       "      <td>4780653</td>\n",
       "      <td>4942365</td>\n",
       "      <td>155254</td>\n",
       "      <td>66715</td>\n",
       "      <td>127936</td>\n",
       "      <td>560092</td>\n",
       "      <td>1481305</td>\n",
       "      <td>2706317</td>\n",
       "      <td>https://images.gr-assets.com/books/1447303603m...</td>\n",
       "      <td>https://images.gr-assets.com/books/1447303603s...</td>\n",
       "    </tr>\n",
       "    <tr>\n",
       "      <th>1</th>\n",
       "      <td>2</td>\n",
       "      <td>3</td>\n",
       "      <td>3</td>\n",
       "      <td>4640799</td>\n",
       "      <td>491</td>\n",
       "      <td>439554934</td>\n",
       "      <td>9.780440e+12</td>\n",
       "      <td>J.K. Rowling, Mary GrandPré</td>\n",
       "      <td>1997.0</td>\n",
       "      <td>Harry Potter and the Philosopher's Stone</td>\n",
       "      <td>...</td>\n",
       "      <td>4602479</td>\n",
       "      <td>4800065</td>\n",
       "      <td>75867</td>\n",
       "      <td>75504</td>\n",
       "      <td>101676</td>\n",
       "      <td>455024</td>\n",
       "      <td>1156318</td>\n",
       "      <td>3011543</td>\n",
       "      <td>https://images.gr-assets.com/books/1474154022m...</td>\n",
       "      <td>https://images.gr-assets.com/books/1474154022s...</td>\n",
       "    </tr>\n",
       "    <tr>\n",
       "      <th>2</th>\n",
       "      <td>3</td>\n",
       "      <td>41865</td>\n",
       "      <td>41865</td>\n",
       "      <td>3212258</td>\n",
       "      <td>226</td>\n",
       "      <td>316015849</td>\n",
       "      <td>9.780316e+12</td>\n",
       "      <td>Stephenie Meyer</td>\n",
       "      <td>2005.0</td>\n",
       "      <td>Twilight</td>\n",
       "      <td>...</td>\n",
       "      <td>3866839</td>\n",
       "      <td>3916824</td>\n",
       "      <td>95009</td>\n",
       "      <td>456191</td>\n",
       "      <td>436802</td>\n",
       "      <td>793319</td>\n",
       "      <td>875073</td>\n",
       "      <td>1355439</td>\n",
       "      <td>https://images.gr-assets.com/books/1361039443m...</td>\n",
       "      <td>https://images.gr-assets.com/books/1361039443s...</td>\n",
       "    </tr>\n",
       "    <tr>\n",
       "      <th>3</th>\n",
       "      <td>4</td>\n",
       "      <td>2657</td>\n",
       "      <td>2657</td>\n",
       "      <td>3275794</td>\n",
       "      <td>487</td>\n",
       "      <td>61120081</td>\n",
       "      <td>9.780061e+12</td>\n",
       "      <td>Harper Lee</td>\n",
       "      <td>1960.0</td>\n",
       "      <td>To Kill a Mockingbird</td>\n",
       "      <td>...</td>\n",
       "      <td>3198671</td>\n",
       "      <td>3340896</td>\n",
       "      <td>72586</td>\n",
       "      <td>60427</td>\n",
       "      <td>117415</td>\n",
       "      <td>446835</td>\n",
       "      <td>1001952</td>\n",
       "      <td>1714267</td>\n",
       "      <td>https://images.gr-assets.com/books/1361975680m...</td>\n",
       "      <td>https://images.gr-assets.com/books/1361975680s...</td>\n",
       "    </tr>\n",
       "    <tr>\n",
       "      <th>4</th>\n",
       "      <td>5</td>\n",
       "      <td>4671</td>\n",
       "      <td>4671</td>\n",
       "      <td>245494</td>\n",
       "      <td>1356</td>\n",
       "      <td>743273567</td>\n",
       "      <td>9.780743e+12</td>\n",
       "      <td>F. Scott Fitzgerald</td>\n",
       "      <td>1925.0</td>\n",
       "      <td>The Great Gatsby</td>\n",
       "      <td>...</td>\n",
       "      <td>2683664</td>\n",
       "      <td>2773745</td>\n",
       "      <td>51992</td>\n",
       "      <td>86236</td>\n",
       "      <td>197621</td>\n",
       "      <td>606158</td>\n",
       "      <td>936012</td>\n",
       "      <td>947718</td>\n",
       "      <td>https://images.gr-assets.com/books/1490528560m...</td>\n",
       "      <td>https://images.gr-assets.com/books/1490528560s...</td>\n",
       "    </tr>\n",
       "    <tr>\n",
       "      <th>5</th>\n",
       "      <td>6</td>\n",
       "      <td>11870085</td>\n",
       "      <td>11870085</td>\n",
       "      <td>16827462</td>\n",
       "      <td>226</td>\n",
       "      <td>525478817</td>\n",
       "      <td>9.780525e+12</td>\n",
       "      <td>John Green</td>\n",
       "      <td>2012.0</td>\n",
       "      <td>The Fault in Our Stars</td>\n",
       "      <td>...</td>\n",
       "      <td>2346404</td>\n",
       "      <td>2478609</td>\n",
       "      <td>140739</td>\n",
       "      <td>47994</td>\n",
       "      <td>92723</td>\n",
       "      <td>327550</td>\n",
       "      <td>698471</td>\n",
       "      <td>1311871</td>\n",
       "      <td>https://images.gr-assets.com/books/1360206420m...</td>\n",
       "      <td>https://images.gr-assets.com/books/1360206420s...</td>\n",
       "    </tr>\n",
       "    <tr>\n",
       "      <th>6</th>\n",
       "      <td>7</td>\n",
       "      <td>5907</td>\n",
       "      <td>5907</td>\n",
       "      <td>1540236</td>\n",
       "      <td>969</td>\n",
       "      <td>618260307</td>\n",
       "      <td>9.780618e+12</td>\n",
       "      <td>J.R.R. Tolkien</td>\n",
       "      <td>1937.0</td>\n",
       "      <td>The Hobbit or There and Back Again</td>\n",
       "      <td>...</td>\n",
       "      <td>2071616</td>\n",
       "      <td>2196809</td>\n",
       "      <td>37653</td>\n",
       "      <td>46023</td>\n",
       "      <td>76784</td>\n",
       "      <td>288649</td>\n",
       "      <td>665635</td>\n",
       "      <td>1119718</td>\n",
       "      <td>https://images.gr-assets.com/books/1372847500m...</td>\n",
       "      <td>https://images.gr-assets.com/books/1372847500s...</td>\n",
       "    </tr>\n",
       "    <tr>\n",
       "      <th>7</th>\n",
       "      <td>8</td>\n",
       "      <td>5107</td>\n",
       "      <td>5107</td>\n",
       "      <td>3036731</td>\n",
       "      <td>360</td>\n",
       "      <td>316769177</td>\n",
       "      <td>9.780317e+12</td>\n",
       "      <td>J.D. Salinger</td>\n",
       "      <td>1951.0</td>\n",
       "      <td>The Catcher in the Rye</td>\n",
       "      <td>...</td>\n",
       "      <td>2044241</td>\n",
       "      <td>2120637</td>\n",
       "      <td>44920</td>\n",
       "      <td>109383</td>\n",
       "      <td>185520</td>\n",
       "      <td>455042</td>\n",
       "      <td>661516</td>\n",
       "      <td>709176</td>\n",
       "      <td>https://images.gr-assets.com/books/1398034300m...</td>\n",
       "      <td>https://images.gr-assets.com/books/1398034300s...</td>\n",
       "    </tr>\n",
       "  </tbody>\n",
       "</table>\n",
       "<p>8 rows × 23 columns</p>\n",
       "</div>"
      ],
      "text/plain": [
       "   book_id  goodreads_book_id  best_book_id   work_id  books_count       isbn  \\\n",
       "0        1            2767052       2767052   2792775          272  439023483   \n",
       "1        2                  3             3   4640799          491  439554934   \n",
       "2        3              41865         41865   3212258          226  316015849   \n",
       "3        4               2657          2657   3275794          487   61120081   \n",
       "4        5               4671          4671    245494         1356  743273567   \n",
       "5        6           11870085      11870085  16827462          226  525478817   \n",
       "6        7               5907          5907   1540236          969  618260307   \n",
       "7        8               5107          5107   3036731          360  316769177   \n",
       "\n",
       "         isbn13                      authors  original_publication_year  \\\n",
       "0  9.780439e+12              Suzanne Collins                     2008.0   \n",
       "1  9.780440e+12  J.K. Rowling, Mary GrandPré                     1997.0   \n",
       "2  9.780316e+12              Stephenie Meyer                     2005.0   \n",
       "3  9.780061e+12                   Harper Lee                     1960.0   \n",
       "4  9.780743e+12          F. Scott Fitzgerald                     1925.0   \n",
       "5  9.780525e+12                   John Green                     2012.0   \n",
       "6  9.780618e+12               J.R.R. Tolkien                     1937.0   \n",
       "7  9.780317e+12                J.D. Salinger                     1951.0   \n",
       "\n",
       "                             original_title  ... ratings_count  \\\n",
       "0                          The Hunger Games  ...       4780653   \n",
       "1  Harry Potter and the Philosopher's Stone  ...       4602479   \n",
       "2                                  Twilight  ...       3866839   \n",
       "3                     To Kill a Mockingbird  ...       3198671   \n",
       "4                          The Great Gatsby  ...       2683664   \n",
       "5                    The Fault in Our Stars  ...       2346404   \n",
       "6        The Hobbit or There and Back Again  ...       2071616   \n",
       "7                    The Catcher in the Rye  ...       2044241   \n",
       "\n",
       "  work_ratings_count  work_text_reviews_count  ratings_1  ratings_2  \\\n",
       "0            4942365                   155254      66715     127936   \n",
       "1            4800065                    75867      75504     101676   \n",
       "2            3916824                    95009     456191     436802   \n",
       "3            3340896                    72586      60427     117415   \n",
       "4            2773745                    51992      86236     197621   \n",
       "5            2478609                   140739      47994      92723   \n",
       "6            2196809                    37653      46023      76784   \n",
       "7            2120637                    44920     109383     185520   \n",
       "\n",
       "   ratings_3  ratings_4  ratings_5  \\\n",
       "0     560092    1481305    2706317   \n",
       "1     455024    1156318    3011543   \n",
       "2     793319     875073    1355439   \n",
       "3     446835    1001952    1714267   \n",
       "4     606158     936012     947718   \n",
       "5     327550     698471    1311871   \n",
       "6     288649     665635    1119718   \n",
       "7     455042     661516     709176   \n",
       "\n",
       "                                           image_url  \\\n",
       "0  https://images.gr-assets.com/books/1447303603m...   \n",
       "1  https://images.gr-assets.com/books/1474154022m...   \n",
       "2  https://images.gr-assets.com/books/1361039443m...   \n",
       "3  https://images.gr-assets.com/books/1361975680m...   \n",
       "4  https://images.gr-assets.com/books/1490528560m...   \n",
       "5  https://images.gr-assets.com/books/1360206420m...   \n",
       "6  https://images.gr-assets.com/books/1372847500m...   \n",
       "7  https://images.gr-assets.com/books/1398034300m...   \n",
       "\n",
       "                                     small_image_url  \n",
       "0  https://images.gr-assets.com/books/1447303603s...  \n",
       "1  https://images.gr-assets.com/books/1474154022s...  \n",
       "2  https://images.gr-assets.com/books/1361039443s...  \n",
       "3  https://images.gr-assets.com/books/1361975680s...  \n",
       "4  https://images.gr-assets.com/books/1490528560s...  \n",
       "5  https://images.gr-assets.com/books/1360206420s...  \n",
       "6  https://images.gr-assets.com/books/1372847500s...  \n",
       "7  https://images.gr-assets.com/books/1398034300s...  \n",
       "\n",
       "[8 rows x 23 columns]"
      ]
     },
     "execution_count": 3,
     "metadata": {},
     "output_type": "execute_result"
    }
   ],
   "source": [
    "books.head(8)"
   ]
  },
  {
   "cell_type": "code",
   "execution_count": 4,
   "metadata": {},
   "outputs": [
    {
     "name": "stdout",
     "output_type": "stream",
     "text": [
      "<class 'pandas.core.frame.DataFrame'>\n",
      "RangeIndex: 10000 entries, 0 to 9999\n",
      "Data columns (total 23 columns):\n",
      "book_id                      10000 non-null int64\n",
      "goodreads_book_id            10000 non-null int64\n",
      "best_book_id                 10000 non-null int64\n",
      "work_id                      10000 non-null int64\n",
      "books_count                  10000 non-null int64\n",
      "isbn                         9300 non-null object\n",
      "isbn13                       9415 non-null float64\n",
      "authors                      10000 non-null object\n",
      "original_publication_year    9979 non-null float64\n",
      "original_title               9415 non-null object\n",
      "title                        10000 non-null object\n",
      "language_code                8916 non-null object\n",
      "average_rating               10000 non-null float64\n",
      "ratings_count                10000 non-null int64\n",
      "work_ratings_count           10000 non-null int64\n",
      "work_text_reviews_count      10000 non-null int64\n",
      "ratings_1                    10000 non-null int64\n",
      "ratings_2                    10000 non-null int64\n",
      "ratings_3                    10000 non-null int64\n",
      "ratings_4                    10000 non-null int64\n",
      "ratings_5                    10000 non-null int64\n",
      "image_url                    10000 non-null object\n",
      "small_image_url              10000 non-null object\n",
      "dtypes: float64(3), int64(13), object(7)\n",
      "memory usage: 1.8+ MB\n"
     ]
    }
   ],
   "source": [
    "# Columns and data types\n",
    "\n",
    "books.info()"
   ]
  },
  {
   "cell_type": "code",
   "execution_count": 5,
   "metadata": {
    "scrolled": true
   },
   "outputs": [
    {
     "name": "stdout",
     "output_type": "stream",
     "text": [
      "Number of rows: 10000 \n",
      "Number of unique books: 10000 \n",
      "Number of instances: 230000\n"
     ]
    }
   ],
   "source": [
    "# How many unique books and instances there are into this file\n",
    "\n",
    "# Number of rows\n",
    "print('Number of rows: {} '.format( books.book_id.count()))\n",
    "\n",
    "# Unique books\n",
    "print('Number of unique books: {} '.format(books.book_id.nunique()))\n",
    "\n",
    "# Number of instances on books file\n",
    "print('Number of instances: {}'. format(books.book_id.count()*len(books.columns)))"
   ]
  },
  {
   "cell_type": "markdown",
   "metadata": {},
   "source": [
    "**To read file**"
   ]
  },
  {
   "cell_type": "code",
   "execution_count": 6,
   "metadata": {},
   "outputs": [
    {
     "data": {
      "text/html": [
       "<div>\n",
       "<style scoped>\n",
       "    .dataframe tbody tr th:only-of-type {\n",
       "        vertical-align: middle;\n",
       "    }\n",
       "\n",
       "    .dataframe tbody tr th {\n",
       "        vertical-align: top;\n",
       "    }\n",
       "\n",
       "    .dataframe thead th {\n",
       "        text-align: right;\n",
       "    }\n",
       "</style>\n",
       "<table border=\"1\" class=\"dataframe\">\n",
       "  <thead>\n",
       "    <tr style=\"text-align: right;\">\n",
       "      <th></th>\n",
       "      <th>user_id</th>\n",
       "      <th>book_id</th>\n",
       "    </tr>\n",
       "  </thead>\n",
       "  <tbody>\n",
       "    <tr>\n",
       "      <th>0</th>\n",
       "      <td>9</td>\n",
       "      <td>8</td>\n",
       "    </tr>\n",
       "    <tr>\n",
       "      <th>1</th>\n",
       "      <td>15</td>\n",
       "      <td>398</td>\n",
       "    </tr>\n",
       "    <tr>\n",
       "      <th>2</th>\n",
       "      <td>15</td>\n",
       "      <td>275</td>\n",
       "    </tr>\n",
       "    <tr>\n",
       "      <th>3</th>\n",
       "      <td>37</td>\n",
       "      <td>7173</td>\n",
       "    </tr>\n",
       "    <tr>\n",
       "      <th>4</th>\n",
       "      <td>34</td>\n",
       "      <td>380</td>\n",
       "    </tr>\n",
       "    <tr>\n",
       "      <th>5</th>\n",
       "      <td>34</td>\n",
       "      <td>483</td>\n",
       "    </tr>\n",
       "    <tr>\n",
       "      <th>6</th>\n",
       "      <td>34</td>\n",
       "      <td>8598</td>\n",
       "    </tr>\n",
       "    <tr>\n",
       "      <th>7</th>\n",
       "      <td>34</td>\n",
       "      <td>3581</td>\n",
       "    </tr>\n",
       "  </tbody>\n",
       "</table>\n",
       "</div>"
      ],
      "text/plain": [
       "   user_id  book_id\n",
       "0        9        8\n",
       "1       15      398\n",
       "2       15      275\n",
       "3       37     7173\n",
       "4       34      380\n",
       "5       34      483\n",
       "6       34     8598\n",
       "7       34     3581"
      ]
     },
     "execution_count": 6,
     "metadata": {},
     "output_type": "execute_result"
    }
   ],
   "source": [
    "toread.head(8)"
   ]
  },
  {
   "cell_type": "code",
   "execution_count": 7,
   "metadata": {
    "scrolled": true
   },
   "outputs": [
    {
     "name": "stdout",
     "output_type": "stream",
     "text": [
      "<class 'pandas.core.frame.DataFrame'>\n",
      "RangeIndex: 912705 entries, 0 to 912704\n",
      "Data columns (total 2 columns):\n",
      "user_id    912705 non-null int64\n",
      "book_id    912705 non-null int64\n",
      "dtypes: int64(2)\n",
      "memory usage: 13.9 MB\n"
     ]
    }
   ],
   "source": [
    "toread.info()"
   ]
  },
  {
   "cell_type": "code",
   "execution_count": 8,
   "metadata": {
    "scrolled": true
   },
   "outputs": [
    {
     "name": "stdout",
     "output_type": "stream",
     "text": [
      "Number of rows: 912705\n",
      "Number of instances: 1825410\n",
      "Number of unique users: 48871 \n",
      "Number of unique books: 9986 \n"
     ]
    }
   ],
   "source": [
    "# Printing number of rows, instances and unique books and unique users\n",
    "\n",
    "tr_users = toread.user_id.nunique()\n",
    "tr_books = toread.book_id.nunique()\n",
    "\n",
    "print('Number of rows: {}'.format(toread.user_id.count()))\n",
    "print('Number of instances: {}'.format(toread.user_id.count() * len(toread.columns)))\n",
    "print('Number of unique users: {} '.format(tr_users))\n",
    "print('Number of unique books: {} '.format(tr_books))"
   ]
  },
  {
   "cell_type": "markdown",
   "metadata": {},
   "source": [
    "**ratings.csv**"
   ]
  },
  {
   "cell_type": "code",
   "execution_count": 9,
   "metadata": {},
   "outputs": [
    {
     "data": {
      "text/html": [
       "<div>\n",
       "<style scoped>\n",
       "    .dataframe tbody tr th:only-of-type {\n",
       "        vertical-align: middle;\n",
       "    }\n",
       "\n",
       "    .dataframe tbody tr th {\n",
       "        vertical-align: top;\n",
       "    }\n",
       "\n",
       "    .dataframe thead th {\n",
       "        text-align: right;\n",
       "    }\n",
       "</style>\n",
       "<table border=\"1\" class=\"dataframe\">\n",
       "  <thead>\n",
       "    <tr style=\"text-align: right;\">\n",
       "      <th></th>\n",
       "      <th>user_id</th>\n",
       "      <th>book_id</th>\n",
       "      <th>rating</th>\n",
       "    </tr>\n",
       "  </thead>\n",
       "  <tbody>\n",
       "    <tr>\n",
       "      <th>0</th>\n",
       "      <td>1</td>\n",
       "      <td>258</td>\n",
       "      <td>5</td>\n",
       "    </tr>\n",
       "    <tr>\n",
       "      <th>1</th>\n",
       "      <td>2</td>\n",
       "      <td>4081</td>\n",
       "      <td>4</td>\n",
       "    </tr>\n",
       "    <tr>\n",
       "      <th>2</th>\n",
       "      <td>2</td>\n",
       "      <td>260</td>\n",
       "      <td>5</td>\n",
       "    </tr>\n",
       "    <tr>\n",
       "      <th>3</th>\n",
       "      <td>2</td>\n",
       "      <td>9296</td>\n",
       "      <td>5</td>\n",
       "    </tr>\n",
       "    <tr>\n",
       "      <th>4</th>\n",
       "      <td>2</td>\n",
       "      <td>2318</td>\n",
       "      <td>3</td>\n",
       "    </tr>\n",
       "    <tr>\n",
       "      <th>5</th>\n",
       "      <td>2</td>\n",
       "      <td>26</td>\n",
       "      <td>4</td>\n",
       "    </tr>\n",
       "    <tr>\n",
       "      <th>6</th>\n",
       "      <td>2</td>\n",
       "      <td>315</td>\n",
       "      <td>3</td>\n",
       "    </tr>\n",
       "    <tr>\n",
       "      <th>7</th>\n",
       "      <td>2</td>\n",
       "      <td>33</td>\n",
       "      <td>4</td>\n",
       "    </tr>\n",
       "  </tbody>\n",
       "</table>\n",
       "</div>"
      ],
      "text/plain": [
       "   user_id  book_id  rating\n",
       "0        1      258       5\n",
       "1        2     4081       4\n",
       "2        2      260       5\n",
       "3        2     9296       5\n",
       "4        2     2318       3\n",
       "5        2       26       4\n",
       "6        2      315       3\n",
       "7        2       33       4"
      ]
     },
     "execution_count": 9,
     "metadata": {},
     "output_type": "execute_result"
    }
   ],
   "source": [
    "ratings.head(8)"
   ]
  },
  {
   "cell_type": "code",
   "execution_count": 10,
   "metadata": {},
   "outputs": [
    {
     "name": "stdout",
     "output_type": "stream",
     "text": [
      "<class 'pandas.core.frame.DataFrame'>\n",
      "RangeIndex: 5976479 entries, 0 to 5976478\n",
      "Data columns (total 3 columns):\n",
      "user_id    int64\n",
      "book_id    int64\n",
      "rating     int64\n",
      "dtypes: int64(3)\n",
      "memory usage: 136.8 MB\n"
     ]
    }
   ],
   "source": [
    "# Getting info from dataset ratings (columns and data types)\n",
    "\n",
    "ratings.info()"
   ]
  },
  {
   "cell_type": "code",
   "execution_count": 11,
   "metadata": {},
   "outputs": [
    {
     "name": "stdout",
     "output_type": "stream",
     "text": [
      "Number of rows: 5976479\n",
      "Number of instances: 17929437\n",
      "Number of unique users: 53424 \n",
      "Number of unique books: 10000 \n"
     ]
    }
   ],
   "source": [
    "#Let's verify number of instances and number of unique books and users have rated books there are into this file\n",
    "\n",
    "n_users = ratings.user_id.nunique()\n",
    "n_books = ratings.book_id.nunique()\n",
    "\n",
    "print('Number of rows: {}'.format(ratings.user_id.count()))\n",
    "print('Number of instances: {}'.format(ratings.book_id.count() * len(ratings.columns)))\n",
    "print('Number of unique users: {} '.format(n_users))\n",
    "print('Number of unique books: {} '.format(n_books))"
   ]
  },
  {
   "cell_type": "markdown",
   "metadata": {},
   "source": [
    "**Ratings file is the most important file for this project. The recommender system is based on items ratings, let's see it in details. 1 is the lowest rate and 5 is the highest rate given a book**"
   ]
  },
  {
   "cell_type": "code",
   "execution_count": 12,
   "metadata": {},
   "outputs": [
    {
     "data": {
      "image/png": "[encoded data removed]",
      "text/plain": [
       "<Figure size 576x360 with 1 Axes>"
      ]
     },
     "metadata": {
      "needs_background": "light"
     },
     "output_type": "display_data"
    }
   ],
   "source": [
    "# Plotting the ratings counting\n",
    "\n",
    "plt.figure(figsize=(8,5))\n",
    "sns.countplot(x=\"rating\", data=ratings)\n",
    "plt.title('Ratings counting')\n",
    "plt.show()"
   ]
  },
  {
   "cell_type": "markdown",
   "metadata": {},
   "source": [
    "**Let's visualize the average rating per user**"
   ]
  },
  {
   "cell_type": "code",
   "execution_count": 13,
   "metadata": {},
   "outputs": [
    {
     "data": {
      "text/plain": [
       "count    5.976479e+06\n",
       "mean     3.919866e+00\n",
       "std      9.910868e-01\n",
       "min      1.000000e+00\n",
       "25%      3.000000e+00\n",
       "50%      4.000000e+00\n",
       "75%      5.000000e+00\n",
       "max      5.000000e+00\n",
       "Name: rating, dtype: float64"
      ]
     },
     "execution_count": 13,
     "metadata": {},
     "output_type": "execute_result"
    }
   ],
   "source": [
    "ratings.rating.describe()"
   ]
  },
  {
   "cell_type": "code",
   "execution_count": 14,
   "metadata": {},
   "outputs": [
    {
     "data": {
      "image/png": "[encoded data removed]",
      "text/plain": [
       "<Figure size 576x360 with 1 Axes>"
      ]
     },
     "metadata": {
      "needs_background": "light"
     },
     "output_type": "display_data"
    }
   ],
   "source": [
    "plt.figure(figsize=(8,5))\n",
    "rating_avg_per_user = ratings[['user_id','rating']].groupby('user_id').mean().sort_values(by=['rating'], ascending=False)\n",
    "sns.boxplot(x='rating', data=rating_avg_per_user)\n",
    "plt.title('Average Rating per User')\n",
    "plt.show()"
   ]
  },
  {
   "cell_type": "code",
   "execution_count": 15,
   "metadata": {},
   "outputs": [],
   "source": [
    "#ratings[['user_id','book_id']].groupby('user_id').count().sort_values(by=['user_id'], ascending=False)"
   ]
  },
  {
   "cell_type": "markdown",
   "metadata": {},
   "source": [
    "### Data Cleaning"
   ]
  },
  {
   "cell_type": "code",
   "execution_count": 16,
   "metadata": {},
   "outputs": [
    {
     "name": "stdout",
     "output_type": "stream",
     "text": [
      "Null values in dataset should be seen in yellow\n"
     ]
    },
    {
     "data": {
      "image/png": "[encoded data removed]",
      "text/plain": [
       "<Figure size 576x360 with 1 Axes>"
      ]
     },
     "metadata": {
      "needs_background": "light"
     },
     "output_type": "display_data"
    }
   ],
   "source": [
    "plt.figure(figsize=(8,5))\n",
    "print('Null values in dataset should be seen in yellow')\n",
    "sns.heatmap(ratings.isnull(),yticklabels=False,cbar=False,cmap='viridis')\n",
    "plt.show()"
   ]
  },
  {
   "cell_type": "markdown",
   "metadata": {},
   "source": [
    "_As we can see in the graphic above, cleaning is not needed since there are not null values_"
   ]
  },
  {
   "cell_type": "markdown",
   "metadata": {},
   "source": [
    "### Data Size Reducing"
   ]
  },
  {
   "cell_type": "code",
   "execution_count": 17,
   "metadata": {},
   "outputs": [
    {
     "name": "stdout",
     "output_type": "stream",
     "text": [
      "Number of unique users: 53424 \n",
      "Number of unique books: 10000 \n"
     ]
    }
   ],
   "source": [
    "print('Number of unique users: {} '.format(n_users))\n",
    "print('Number of unique books: {} '.format(n_books))"
   ]
  },
  {
   "cell_type": "markdown",
   "metadata": {},
   "source": [
    "#### Based on numbers above, let's reduce the complexity and size of this dataset and take the top two thousand most rated books. It represents the 10% of books the dataset contains"
   ]
  },
  {
   "cell_type": "code",
   "execution_count": 18,
   "metadata": {},
   "outputs": [
    {
     "data": {
      "text/plain": [
       "user_id    3179650\n",
       "book_id    3179650\n",
       "rating     3179650\n",
       "dtype: int64"
      ]
     },
     "execution_count": 18,
     "metadata": {},
     "output_type": "execute_result"
    }
   ],
   "source": [
    "#To reduce complexity and size of this dataset\n",
    "\n",
    "#variable with number of books and users there will be in the new dataset\n",
    "records = 1000\n",
    "\n",
    "bookIndex = ratings.groupby('book_id').count().sort_values(by='rating',ascending=False)[0:records].index\n",
    "ratings_2 = ratings[ratings.book_id.isin(bookIndex)]\n",
    "ratings_2.count()"
   ]
  },
  {
   "cell_type": "markdown",
   "metadata": {},
   "source": [
    "#### Let's take just 1000 of users, to reduce the number of ratings from 4034342 to 1000\n",
    "\n"
   ]
  },
  {
   "cell_type": "code",
   "execution_count": 19,
   "metadata": {},
   "outputs": [],
   "source": [
    "# Taking 1000 users\n",
    "userIndex = ratings_2.groupby('user_id').count().sort_values(by='rating',ascending=False).sample(n=records,random_state=2020).index\n",
    "\n",
    "# Creating the new dataset for working in this project\n",
    "reducedRatings = ratings_2[ratings_2.user_id.isin(userIndex)]\n"
   ]
  },
  {
   "cell_type": "markdown",
   "metadata": {},
   "source": [
    "**Let's reindex book_id and user_id to a range from 1 to 1000**"
   ]
  },
  {
   "cell_type": "code",
   "execution_count": 20,
   "metadata": {},
   "outputs": [],
   "source": [
    "#Reindexing book_id and user_id to a range from 1 to 1000\n",
    "\n",
    "bookIDs = reducedRatings.book_id.unique()\n",
    "bookDF = pd.DataFrame(data=bookIDs,columns=['originalBookId'])\n",
    "bookDF['newBookId'] = bookDF.index+1\n",
    "\n",
    "\n",
    "userIDs = reducedRatings.user_id.unique()\n",
    "userDF = pd.DataFrame(data=userIDs, columns=['originalUserId'])\n",
    "userDF['newUserId'] = userDF.index+1\n",
    "\n",
    "reducedRatings = reducedRatings.merge(bookDF, left_on='book_id', right_on='originalBookId')\n",
    "reducedRatings.drop(labels='originalBookId', axis=1, inplace=True)\n",
    "\n",
    "reducedRatings = reducedRatings.merge(userDF, left_on='user_id',right_on='originalUserId')\n",
    "reducedRatings.drop(labels='originalUserId', axis=1, inplace=True)\n"
   ]
  },
  {
   "cell_type": "markdown",
   "metadata": {},
   "source": [
    "#### Exploring the reduced dataset"
   ]
  },
  {
   "cell_type": "code",
   "execution_count": 21,
   "metadata": {},
   "outputs": [
    {
     "data": {
      "text/html": [
       "<div>\n",
       "<style scoped>\n",
       "    .dataframe tbody tr th:only-of-type {\n",
       "        vertical-align: middle;\n",
       "    }\n",
       "\n",
       "    .dataframe tbody tr th {\n",
       "        vertical-align: top;\n",
       "    }\n",
       "\n",
       "    .dataframe thead th {\n",
       "        text-align: right;\n",
       "    }\n",
       "</style>\n",
       "<table border=\"1\" class=\"dataframe\">\n",
       "  <thead>\n",
       "    <tr style=\"text-align: right;\">\n",
       "      <th></th>\n",
       "      <th>user_id</th>\n",
       "      <th>book_id</th>\n",
       "      <th>rating</th>\n",
       "      <th>newBookId</th>\n",
       "      <th>newUserId</th>\n",
       "    </tr>\n",
       "  </thead>\n",
       "  <tbody>\n",
       "    <tr>\n",
       "      <th>0</th>\n",
       "      <td>73</td>\n",
       "      <td>758</td>\n",
       "      <td>5</td>\n",
       "      <td>1</td>\n",
       "      <td>1</td>\n",
       "    </tr>\n",
       "    <tr>\n",
       "      <th>1</th>\n",
       "      <td>73</td>\n",
       "      <td>268</td>\n",
       "      <td>4</td>\n",
       "      <td>2</td>\n",
       "      <td>1</td>\n",
       "    </tr>\n",
       "    <tr>\n",
       "      <th>2</th>\n",
       "      <td>73</td>\n",
       "      <td>820</td>\n",
       "      <td>5</td>\n",
       "      <td>3</td>\n",
       "      <td>1</td>\n",
       "    </tr>\n",
       "    <tr>\n",
       "      <th>3</th>\n",
       "      <td>73</td>\n",
       "      <td>380</td>\n",
       "      <td>5</td>\n",
       "      <td>4</td>\n",
       "      <td>1</td>\n",
       "    </tr>\n",
       "    <tr>\n",
       "      <th>4</th>\n",
       "      <td>73</td>\n",
       "      <td>851</td>\n",
       "      <td>4</td>\n",
       "      <td>5</td>\n",
       "      <td>1</td>\n",
       "    </tr>\n",
       "  </tbody>\n",
       "</table>\n",
       "</div>"
      ],
      "text/plain": [
       "   user_id  book_id  rating  newBookId  newUserId\n",
       "0       73      758       5          1          1\n",
       "1       73      268       4          2          1\n",
       "2       73      820       5          3          1\n",
       "3       73      380       5          4          1\n",
       "4       73      851       4          5          1"
      ]
     },
     "execution_count": 21,
     "metadata": {},
     "output_type": "execute_result"
    }
   ],
   "source": [
    "reducedRatings.head()"
   ]
  },
  {
   "cell_type": "code",
   "execution_count": 22,
   "metadata": {},
   "outputs": [
    {
     "name": "stdout",
     "output_type": "stream",
     "text": [
      "Number of unique users: 1000 \n",
      "Number of unique books: 1000 \n",
      "Number of ratings: 58851 \n"
     ]
    }
   ],
   "source": [
    "n_users = reducedRatings.user_id.nunique()\n",
    "n_books = reducedRatings.book_id.nunique()\n",
    "n_ratings = len(reducedRatings)\n",
    "\n",
    "print('Number of unique users: {} '.format(n_users))\n",
    "print('Number of unique books: {} '.format(n_books))\n",
    "print('Number of ratings: {} '.format(n_ratings))\n"
   ]
  },
  {
   "cell_type": "code",
   "execution_count": 23,
   "metadata": {},
   "outputs": [
    {
     "data": {
      "image/png": "[encoded data removed]",
      "text/plain": [
       "<Figure size 576x360 with 1 Axes>"
      ]
     },
     "metadata": {
      "needs_background": "light"
     },
     "output_type": "display_data"
    }
   ],
   "source": [
    "# Plotting the ratings counting\n",
    "\n",
    "plt.figure(figsize=(8,5))\n",
    "sns.countplot(x=\"rating\", data=reducedRatings)\n",
    "plt.title('Reduce Dataset Ratings counting')\n",
    "plt.show()"
   ]
  },
  {
   "cell_type": "markdown",
   "metadata": {},
   "source": [
    "_Distribution in the graphic above is very similar to the original dataset_\n",
    "\n",
    "**Let's generate a test set and validation set**"
   ]
  },
  {
   "cell_type": "code",
   "execution_count": 24,
   "metadata": {},
   "outputs": [
    {
     "name": "stdout",
     "output_type": "stream",
     "text": [
      "Train set size: 52965 \n",
      "Validation set size: 29425 \n",
      "Test set size: 29426 \n"
     ]
    }
   ],
   "source": [
    "# Generating train, test and validation sets\n",
    "\n",
    "X_train, X_test = train_test_split(reducedRatings, test_size = 0.10, shuffle=True, random_state=2020)\n",
    "\n",
    "X_validation, X_test1 = train_test_split(reducedRatings, test_size = 0.50, shuffle=True, random_state=2020)\n",
    "\n",
    "\n",
    "print('Train set size: {} '.format(len(X_train)))\n",
    "print('Validation set size: {} '.format(len(X_validation)))\n",
    "print('Test set size: {} '.format(len(X_test1)))"
   ]
  },
  {
   "cell_type": "markdown",
   "metadata": {},
   "source": [
    "## Cost Function Definition"
   ]
  },
  {
   "attachments": {},
   "cell_type": "markdown",
   "metadata": {},
   "source": [
    "I will use **Mean Squared Error (MSE)** as cost function to judge the goodness of the models. It measures the averaged square error between the predicted and actual values\n",
    "\n",
    "<img src='mse.png' size=20%/ width=\"50%\" height=\"50%\">"
   ]
  },
  {
   "cell_type": "code",
   "execution_count": 25,
   "metadata": {},
   "outputs": [
    {
     "name": "stdout",
     "output_type": "stream",
     "text": [
      "Sparcity: 5.3\n"
     ]
    }
   ],
   "source": [
    "# Creating a rating matrix for train u x b, \n",
    "# where u are the users and the b are the books\n",
    "\n",
    "ratings_train = np.zeros((n_users,n_books))\n",
    "for row in X_train.itertuples():    \n",
    "    ratings_train[row[5]-1, row[4]-1] = row[3]\n",
    "\n",
    "\n",
    "#Calculating sparcity of train matrix\n",
    "sparcity = float(len(ratings_train.nonzero()[0]))\n",
    "sparcity /= (ratings_train.shape[0] * ratings_train.shape[1])\n",
    "sparcity *= 100\n",
    "print('Sparcity: {}'.format(round(sparcity,2)))"
   ]
  },
  {
   "cell_type": "code",
   "execution_count": 26,
   "metadata": {},
   "outputs": [],
   "source": [
    "# Creating a rating matrix for validation u x b, \n",
    "# where u are the users and the b are the books\n",
    "\n",
    "ratings_validation = np.zeros((n_users,n_books))\n",
    "for row in X_validation.itertuples():    \n",
    "    ratings_validation[row[5]-1, row[4]-1] = row[3]\n",
    "\n",
    "\n",
    "# Creating a rating matrix for test u x b, \n",
    "# where u are the users and the b are the books\n",
    "\n",
    "ratings_test = np.zeros((n_users,n_books))\n",
    "for row in X_test.itertuples():    \n",
    "    ratings_test[row[5]-1, row[4]-1] = row[3]\n"
   ]
  },
  {
   "cell_type": "code",
   "execution_count": 27,
   "metadata": {},
   "outputs": [
    {
     "name": "stdout",
     "output_type": "stream",
     "text": [
      "Mean squared error using naive prediction: 1.2081648258283773\n"
     ]
    }
   ],
   "source": [
    "# Predicting an average rating of 3.5 for the validation set and calculating MSE\n",
    "\n",
    "actual_validation = ratings_validation[ratings_validation.nonzero()].flatten()\n",
    "\n",
    "pred_validation = np.zeros((len(X_validation),1))\n",
    "pred_validation[pred_validation==0] = 3.5\n",
    "pred_validation\n",
    "\n",
    "mse = mean_squared_error(pred_validation,actual_validation)\n",
    "\n",
    "print('Mean squared error using naive prediction: {}'.format(mse))"
   ]
  },
  {
   "cell_type": "code",
   "execution_count": 28,
   "metadata": {},
   "outputs": [
    {
     "name": "stdout",
     "output_type": "stream",
     "text": [
      "Mean squared error using user average: 0.8434119929918782\n"
     ]
    }
   ],
   "source": [
    "# Predicting based on user's average of all books\n",
    "\n",
    "ratings_validation_prediction = np.zeros((n_users,n_books))\n",
    "i = 0\n",
    "for row in ratings_train:\n",
    "    ratings_validation_prediction[i][ratings_validation_prediction[i]==0] = np.mean(row[row>0])\n",
    "    i += 1\n",
    "    \n",
    "pred_validation = ratings_validation_prediction[ratings_validation.nonzero()].flatten()\n",
    "user_average = mean_squared_error(pred_validation,actual_validation)\n",
    "\n",
    "print('Mean squared error using user average: {}'.format(user_average))"
   ]
  },
  {
   "cell_type": "code",
   "execution_count": 29,
   "metadata": {},
   "outputs": [
    {
     "name": "stdout",
     "output_type": "stream",
     "text": [
      "Mean squared error using book average: 0.9427778575574443\n"
     ]
    }
   ],
   "source": [
    "# Predicting a users'rating for a given book based on the average rating all books\n",
    "\n",
    "ratings_validation_prediction = np.zeros((n_users, n_books)).T\n",
    "i = 0\n",
    "for row in ratings_train.T:\n",
    "    ratings_validation_prediction[i][ratings_validation_prediction[i]==0] = np.mean(row[row>0])\n",
    "    i += 1\n",
    "    \n",
    "ratings_validation_prediction = ratings_validation_prediction.T\n",
    "pred_validation = ratings_validation_prediction[ratings_validation.nonzero()].flatten()\n",
    "\n",
    "book_average = mean_squared_error(pred_validation,actual_validation)\n",
    "print('Mean squared error using book average: {}'.format(book_average))"
   ]
  },
  {
   "cell_type": "markdown",
   "metadata": {},
   "source": [
    "## Approach 1: Latent Factor Based or Matrix Factorization\n",
    "\n"
   ]
  },
  {
   "cell_type": "markdown",
   "metadata": {},
   "source": [
    "**Matrix factorization** is one of the most popular and succesful collaborative filtering algorithms today. It decomposes the user-item (in this case user-books) into a product of two lower dimensionality matrices."
   ]
  },
  {
   "cell_type": "code",
   "execution_count": 31,
   "metadata": {},
   "outputs": [],
   "source": [
    "# Defining this function to avoid repeat code and see results for different latent factors\n",
    "\n",
    "def perform_MF(latent_factors):\n",
    "\n",
    "    ''' \n",
    "    Function: Create an embedding model using Keras to perform the matrix factorization. It\n",
    "               receives a number of latent factors    \n",
    "    '''\n",
    "    \n",
    "    n_latent_factors = latent_factors\n",
    "\n",
    "    #User dimensional vector    \n",
    "    user_input = Input(shape=[1],name='user')\n",
    "    user_embedding = Embedding(input_dim=n_users + 1, output_dim=n_latent_factors,\n",
    "                              name='user_embedding')(user_input)\n",
    "    user_vector = Flatten(name='flatten_users')(user_embedding)\n",
    "\n",
    "    #Book dimensional vector\n",
    "    book_input = Input(shape=[1],name='books')\n",
    "    book_embedding = Embedding(input_dim=n_books + 1, output_dim=n_latent_factors,\n",
    "                              name='book_embedding')(book_input)\n",
    "    book_vector = Flatten(name='flatten_books')(book_embedding)\n",
    "    \n",
    "    \n",
    "    # Generating the output vector to take the dot product of book vector and user vector\n",
    "\n",
    "    product = dot([user_vector,book_vector], axes=1)\n",
    "    model = Model(inputs=[user_input,book_input], outputs=product)\n",
    "    model.compile('adam','mean_squared_error')\n",
    "    \n",
    "    # Training model with book and user vectors from the training dataset\n",
    "\n",
    "    history = model.fit(x=[X_train.newUserId, X_train.newBookId],\n",
    "                   y=X_train.rating, epochs=50,\n",
    "                   validation_data=([X_validation.newUserId, \n",
    "                   X_validation.newBookId], X_validation.rating),\n",
    "                   verbose=0)    \n",
    "    \n",
    "\n",
    "\n",
    "    return history"
   ]
  },
  {
   "cell_type": "markdown",
   "metadata": {},
   "source": [
    "### One Latent Factor"
   ]
  },
  {
   "cell_type": "code",
   "execution_count": 32,
   "metadata": {},
   "outputs": [
    {
     "name": "stderr",
     "output_type": "stream",
     "text": [
      "/Library/Frameworks/Python.framework/Versions/3.7/lib/python3.7/site-packages/tensorflow_core/python/framework/indexed_slices.py:424: UserWarning: Converting sparse IndexedSlices to a dense Tensor of unknown shape. This may consume a large amount of memory.\n",
      "  \"Converting sparse IndexedSlices to a dense Tensor of unknown shape. \"\n"
     ]
    }
   ],
   "source": [
    "# Calling perform_MF function to perform a matrix factorization with 1 latent factor\n",
    "history = perform_MF(1)"
   ]
  },
  {
   "cell_type": "code",
   "execution_count": 33,
   "metadata": {},
   "outputs": [
    {
     "name": "stdout",
     "output_type": "stream",
     "text": [
      "Minimum MSE:  0.7554898454987\n"
     ]
    },
    {
     "data": {
      "image/png": "[encoded data removed]",
      "text/plain": [
       "<Figure size 432x288 with 1 Axes>"
      ]
     },
     "metadata": {
      "needs_background": "light"
     },
     "output_type": "display_data"
    }
   ],
   "source": [
    "pd.Series(history.history['val_loss'][10:]).plot(logy=False)\n",
    "plt.xlabel('Epoch')\n",
    "plt.ylabel('Validation Error')\n",
    "plt.title('Three Latent Factors')\n",
    "\n",
    "print('Minimum MSE: ',min(history.history['val_loss']))"
   ]
  },
  {
   "cell_type": "markdown",
   "metadata": {},
   "source": [
    "### Three Latent Factor"
   ]
  },
  {
   "cell_type": "code",
   "execution_count": 34,
   "metadata": {},
   "outputs": [
    {
     "name": "stderr",
     "output_type": "stream",
     "text": [
      "/Library/Frameworks/Python.framework/Versions/3.7/lib/python3.7/site-packages/tensorflow_core/python/framework/indexed_slices.py:424: UserWarning: Converting sparse IndexedSlices to a dense Tensor of unknown shape. This may consume a large amount of memory.\n",
      "  \"Converting sparse IndexedSlices to a dense Tensor of unknown shape. \"\n"
     ]
    }
   ],
   "source": [
    "# Calling perform_MF function to perform a matrix factorization with 1 latent factor\n",
    "\n",
    "history = perform_MF(3)"
   ]
  },
  {
   "cell_type": "code",
   "execution_count": 35,
   "metadata": {},
   "outputs": [
    {
     "name": "stdout",
     "output_type": "stream",
     "text": [
      "Minimum MSE:  0.6948812167828835\n"
     ]
    },
    {
     "data": {
      "image/png": "[encoded data removed]",
      "text/plain": [
       "<Figure size 432x288 with 1 Axes>"
      ]
     },
     "metadata": {
      "needs_background": "light"
     },
     "output_type": "display_data"
    }
   ],
   "source": [
    "# PLotting results\n",
    "\n",
    "pd.Series(history.history['val_loss'][10:]).plot(logy=False)\n",
    "plt.xlabel('Epoch')\n",
    "plt.ylabel('Validation Error')\n",
    "plt.title('Three Latent Factors')\n",
    "\n",
    "print('Minimum MSE: ',min(history.history['val_loss']))"
   ]
  },
  {
   "cell_type": "markdown",
   "metadata": {},
   "source": [
    "### Five Latent Factors"
   ]
  },
  {
   "cell_type": "code",
   "execution_count": 36,
   "metadata": {},
   "outputs": [
    {
     "name": "stderr",
     "output_type": "stream",
     "text": [
      "/Library/Frameworks/Python.framework/Versions/3.7/lib/python3.7/site-packages/tensorflow_core/python/framework/indexed_slices.py:424: UserWarning: Converting sparse IndexedSlices to a dense Tensor of unknown shape. This may consume a large amount of memory.\n",
      "  \"Converting sparse IndexedSlices to a dense Tensor of unknown shape. \"\n"
     ]
    }
   ],
   "source": [
    "# Calling perform_MF function to perform a matrix factorization with 1 latent factor\n",
    "\n",
    "history = perform_MF(5)\n"
   ]
  },
  {
   "cell_type": "code",
   "execution_count": 37,
   "metadata": {},
   "outputs": [
    {
     "name": "stdout",
     "output_type": "stream",
     "text": [
      "Minimum MSE:  0.6083783697150172\n"
     ]
    },
    {
     "data": {
      "image/png": "[encoded data removed]",
      "text/plain": [
       "<Figure size 432x288 with 1 Axes>"
      ]
     },
     "metadata": {
      "needs_background": "light"
     },
     "output_type": "display_data"
    }
   ],
   "source": [
    "# PLotting results\n",
    "\n",
    "pd.Series(history.history['val_loss'][10:]).plot(logy=False)\n",
    "plt.xlabel('Epoch')\n",
    "plt.ylabel('Validation Error')\n",
    "plt.title('Five Latent Factors')\n",
    "\n",
    "print('Minimum MSE: ',min(history.history['val_loss']))"
   ]
  },
  {
   "cell_type": "markdown",
   "metadata": {},
   "source": [
    "### Ten Factors Latent\n"
   ]
  },
  {
   "cell_type": "code",
   "execution_count": 38,
   "metadata": {},
   "outputs": [
    {
     "name": "stderr",
     "output_type": "stream",
     "text": [
      "/Library/Frameworks/Python.framework/Versions/3.7/lib/python3.7/site-packages/tensorflow_core/python/framework/indexed_slices.py:424: UserWarning: Converting sparse IndexedSlices to a dense Tensor of unknown shape. This may consume a large amount of memory.\n",
      "  \"Converting sparse IndexedSlices to a dense Tensor of unknown shape. \"\n"
     ]
    }
   ],
   "source": [
    "# Calling perform_MF function to perform a matrix factorization with 1 latent factor\n",
    "\n",
    "history = perform_MF(10)"
   ]
  },
  {
   "cell_type": "code",
   "execution_count": 39,
   "metadata": {},
   "outputs": [
    {
     "name": "stdout",
     "output_type": "stream",
     "text": [
      "Minimum MSE:  0.4090529900693043\n"
     ]
    },
    {
     "data": {
      "image/png": "[encoded data removed]",
      "text/plain": [
       "<Figure size 432x288 with 1 Axes>"
      ]
     },
     "metadata": {
      "needs_background": "light"
     },
     "output_type": "display_data"
    }
   ],
   "source": [
    "# PLotting results\n",
    "\n",
    "pd.Series(history.history['val_loss'][10:]).plot(logy=False)\n",
    "plt.xlabel('Epoch')\n",
    "plt.ylabel('Validation Error')\n",
    "plt.title('Ten Latent Factors')\n",
    "\n",
    "print('Minimum MSE: ',min(history.history['val_loss']))"
   ]
  },
  {
   "cell_type": "markdown",
   "metadata": {},
   "source": [
    "## Creating Matrix Factorization or Embedding Model (using Keras)"
   ]
  },
  {
   "cell_type": "code",
   "execution_count": 41,
   "metadata": {},
   "outputs": [
    {
     "name": "stderr",
     "output_type": "stream",
     "text": [
      "/Library/Frameworks/Python.framework/Versions/3.7/lib/python3.7/site-packages/tensorflow_core/python/framework/indexed_slices.py:424: UserWarning: Converting sparse IndexedSlices to a dense Tensor of unknown shape. This may consume a large amount of memory.\n",
      "  \"Converting sparse IndexedSlices to a dense Tensor of unknown shape. \"\n"
     ]
    },
    {
     "name": "stdout",
     "output_type": "stream",
     "text": [
      "Model: \"model_5\"\n",
      "__________________________________________________________________________________________________\n",
      "Layer (type)                    Output Shape         Param #     Connected to                     \n",
      "==================================================================================================\n",
      "user (InputLayer)               (None, 1)            0                                            \n",
      "__________________________________________________________________________________________________\n",
      "books (InputLayer)              (None, 1)            0                                            \n",
      "__________________________________________________________________________________________________\n",
      "user_embedding (Embedding)      (None, 1, 10)        10010       user[0][0]                       \n",
      "__________________________________________________________________________________________________\n",
      "book_embedding (Embedding)      (None, 1, 10)        10010       books[0][0]                      \n",
      "__________________________________________________________________________________________________\n",
      "flatten_users (Flatten)         (None, 10)           0           user_embedding[0][0]             \n",
      "__________________________________________________________________________________________________\n",
      "flatten_books (Flatten)         (None, 10)           0           book_embedding[0][0]             \n",
      "__________________________________________________________________________________________________\n",
      "dot_5 (Dot)                     (None, 1)            0           flatten_users[0][0]              \n",
      "                                                                 flatten_books[0][0]              \n",
      "==================================================================================================\n",
      "Total params: 20,020\n",
      "Trainable params: 20,020\n",
      "Non-trainable params: 0\n",
      "__________________________________________________________________________________________________\n"
     ]
    }
   ],
   "source": [
    "# Creating the model with ten factor latent\n",
    "\n",
    "n_latent_factors = 10\n",
    "\n",
    "# User vector\n",
    "user_input = Input(shape=[1],name='user')\n",
    "user_embedding = Embedding(input_dim=n_users + 1, output_dim=n_latent_factors, \n",
    "                           name='user_embedding')(user_input)\n",
    "user_vector = Flatten(name='flatten_users')(user_embedding)\n",
    "\n",
    "\n",
    "# Book vector\n",
    "book_input = Input(shape=[1],name='books')\n",
    "book_embedding = Embedding(input_dim=n_books + 1, output_dim=n_latent_factors,\n",
    "                          name='book_embedding')(book_input)\n",
    "book_vector = Flatten(name='flatten_books')(book_embedding)\n",
    "\n",
    "\n",
    "# Generating the output vector to take the dot product of book vector and user vector\n",
    "product = dot([user_vector,book_vector], axes=1)\n",
    "\n",
    "# Creating the model\n",
    "model = Model(inputs=[user_input,book_input], outputs=product)\n",
    "model.compile('adam','mean_squared_error', metrics=['accuracy'])\n",
    "\n",
    "# Training the model\n",
    "history = model.fit(x=[X_train.newUserId, X_train.newBookId],\n",
    "               y=X_train.rating, \n",
    "               epochs=100,\n",
    "               validation_data=([X_validation.newUserId, X_validation.newBookId], \n",
    "               X_validation.rating),\n",
    "               verbose=0)    \n",
    "\n",
    "model.summary()"
   ]
  },
  {
   "cell_type": "code",
   "execution_count": 42,
   "metadata": {},
   "outputs": [
    {
     "data": {
      "image/png": "[encoded data removed]",
      "text/plain": [
       "<Figure size 576x360 with 1 Axes>"
      ]
     },
     "metadata": {
      "needs_background": "light"
     },
     "output_type": "display_data"
    },
    {
     "data": {
      "image/png": "[encoded data removed]",
      "text/plain": [
       "<Figure size 576x360 with 1 Axes>"
      ]
     },
     "metadata": {
      "needs_background": "light"
     },
     "output_type": "display_data"
    }
   ],
   "source": [
    "#Plotting training vs validation accuracy and loss\n",
    "\n",
    "acc = history.history['accuracy']\n",
    "val_acc = history.history['val_accuracy']\n",
    "loss = history.history['loss']\n",
    "val_loss = history.history['val_loss']\n",
    "\n",
    "plt.figure(figsize=(8,5))\n",
    "epochs   = range(1,len(acc)+1,1)\n",
    "\n",
    "plt.plot(epochs,acc, 'r--', label='Training acc'  )\n",
    "plt.plot(epochs, val_acc,  'b', label='Validation acc')\n",
    "plt.title('Training and validation accuracy')\n",
    "plt.ylabel('Accuracy')\n",
    "plt.xlabel('Epochs')\n",
    "plt.show()\n",
    "\n",
    "\n",
    "plt.figure(figsize=(8,5))\n",
    "plt.plot(epochs,loss,'r--')\n",
    "plt.plot(epochs, val_loss,'b')\n",
    "plt.title('Training and validation loss')\n",
    "plt.ylabel('Accuracy')\n",
    "plt.xlabel('Epochs')\n",
    "plt.show()"
   ]
  },
  {
   "cell_type": "code",
   "execution_count": 43,
   "metadata": {},
   "outputs": [
    {
     "name": "stdout",
     "output_type": "stream",
     "text": [
      "Minimum MSE:  0.33\n"
     ]
    },
    {
     "data": {
      "image/png": "[encoded data removed]",
      "text/plain": [
       "<Figure size 432x288 with 1 Axes>"
      ]
     },
     "metadata": {
      "needs_background": "light"
     },
     "output_type": "display_data"
    }
   ],
   "source": [
    "# PLotting results\n",
    "\n",
    "pd.Series(history.history['val_loss'][10:]).plot(logy=False)\n",
    "plt.xlabel('Epoch')\n",
    "plt.ylabel('Validation Error')\n",
    "plt.title('Ten Latent Factors')\n",
    "\n",
    "print('Minimum MSE: ',round(min(history.history['val_loss']),2))\n",
    "mse_embedding = min(history.history['val_loss'])\n",
    "\n"
   ]
  },
  {
   "cell_type": "code",
   "execution_count": 44,
   "metadata": {},
   "outputs": [],
   "source": [
    "# Creating a DataFrame for saving results from models\n",
    "results = pd.DataFrame(columns = ['Model' , 'MSE'])\n",
    "\n",
    "# Adding result to results dataframe\n",
    "results = results.append({'Model': 'Matrix Factorization', \n",
    "                          'MSE': mse_embedding},\n",
    "                         ignore_index=True)\n"
   ]
  },
  {
   "cell_type": "markdown",
   "metadata": {},
   "source": [
    "### Executing the model and create recommendations for a mock user "
   ]
  },
  {
   "cell_type": "code",
   "execution_count": 46,
   "metadata": {},
   "outputs": [
    {
     "name": "stdout",
     "output_type": "stream",
     "text": [
      "Recommended books for user: 200\n",
      "             original_title                                            authors\n",
      "347           We Were Liars                                        E. Lockhart\n",
      "350        Clockwork Prince                                    Cassandra Clare\n",
      "380      Where the Heart Is                                       Billie Letts\n",
      "464            In Her Shoes                                    Jennifer Weiner\n",
      "838  The Merchant of Venice  William Shakespeare, Robert          Jackson, ...\n"
     ]
    }
   ],
   "source": [
    "# Creating a dataset for making recommendations from user from 1 to 2000\n",
    "\n",
    "user_number = 200\n",
    "\n",
    "book_data = np.array(list(set(reducedRatings.newBookId)))\n",
    "user_data = np.array([user_number for i in range(len(book_data))])\n",
    "\n",
    "predictions = model.predict([user_data, book_data])\n",
    "predictions = np.array([a[0] for a in predictions])\n",
    "recommended_newbookids = (-predictions).argsort()[:5]\n",
    "recommendedBookIds = reducedRatings[reducedRatings['newBookId'].isin(recommended_newbookids)]['book_id'].unique()\n",
    "\n",
    "\n",
    "print('Recommended books for user: {}'.format(user_number))\n",
    "print(books[books['book_id'].isin(recommendedBookIds)][['original_title','authors']])"
   ]
  },
  {
   "cell_type": "markdown",
   "metadata": {},
   "source": [
    "## Approach 2: Restricted Boltzmann Machines"
   ]
  },
  {
   "cell_type": "markdown",
   "metadata": {},
   "source": [
    "**Restricted Boltzmann Machines (RBM)** consists of a neural network with an input layer (also referred to as the visible layer) and a single hidden layer. The connections among neurons in the same layer are restricted. Neurons in the visible layer communicate with the hidden layer, and then the hidden layer passes back information to the visible layer, going back and forth several times.\n",
    "\n",
    "The code below is the definition of the RBM class and its functions."
   ]
  },
  {
   "cell_type": "code",
   "execution_count": 48,
   "metadata": {},
   "outputs": [],
   "source": [
    "import tensorflow as tf\n",
    "import tensorflow.compat.v1 as tf\n",
    "tf.disable_v2_behavior()\n",
    "\n",
    "\n",
    "# Defining RBM Class\n",
    "\n",
    "class RBM(object):\n",
    "    \n",
    "    def __init__(self, input_size, output_size, learning_rate,epochs, batchsize):\n",
    "    \n",
    "        '''\n",
    "        Receives input size (number of books) of the RBM, output size, learning rate, \n",
    "        number of iterations and the batch size \n",
    "\n",
    "        '''\n",
    "    \n",
    "        #Defining hyperparameters        \n",
    "        self._input_size = input_size\n",
    "        self._output_size = output_size\n",
    "        self.learning_rate = learning_rate\n",
    "        self.epochs = epochs\n",
    "        self.batchsize = batchsize\n",
    "        \n",
    "        #Initializing weights and biases using zero matrices\n",
    "        self.w = np.zeros([input_size,output_size],'float')\n",
    "        self.hb = np.zeros([output_size], 'float')\n",
    "        self.vb = np.zeros([input_size], 'float')   \n",
    "    \n",
    "        \n",
    "    # Forward pass\n",
    "    # hb is a bias vector added at the hidden layer to ensure \n",
    "    # at least some of the neurons fire\n",
    "    \n",
    "    def prob_h_given_v(self, visible, w, hb):\n",
    "        return tf.nn.sigmoid(tf.matmul(visible, w) + hb)\n",
    "\n",
    "\n",
    "    # Backward pass\n",
    "    # vb is a bias vector added at the visible layer to ensure \n",
    "    # at least some of the neurons fire\n",
    "    \n",
    "    def prob_v_given_h(self, hidden, w, vb):\n",
    "        vb = tf.cast(vb, tf.float32)\n",
    "        return tf.nn.sigmoid(tf.matmul(hidden, tf.transpose(w)) + vb)\n",
    "\n",
    "    \n",
    "    # Sampling Function (Gibss Sampling)\n",
    "    def sample_prob(self, probs):\n",
    "        return tf.nn.relu(tf.sign(probs - tf.random_uniform(tf.shape(probs))))\n",
    "    \n",
    "    \n",
    "    # Output Function\n",
    "    def rbm_output(self, X):\n",
    "        \n",
    "        input_X = tf.constant(X)\n",
    "        _w = tf.constant(self.w)\n",
    "        _hb = tf.constant(self.hb)\n",
    "        _vb = tf.constant(self.vb)\n",
    "        out = tf.nn.sigmoid(tf.matmul(input_X, _w) + _hb)\n",
    "        hiddenGen = self.sample_prob(self.prob_h_given_v(input_X, _w, _hb))        \n",
    "        visibleGen = self.sample_prob(self.prob_v_given_h(hiddenGen, _w, _vb))\n",
    "        \n",
    "        with tf.Session() as sess:\n",
    "            sess.run(tf.global_variables_initializer())\n",
    "            return sess.run(out),sess.run(visibleGen),sess.run(hiddenGen)\n",
    "        \n",
    "\n",
    "\n",
    "    # Train function    \n",
    "    def train(self, X, user=1):\n",
    "    \n",
    "        # Creating placeholders for weight matrix, hidden bias vector and visible bias vector\n",
    "        _w = tf.placeholder('float', [self._input_size, self._output_size])\n",
    "        _hb = tf.placeholder('float',[self._output_size])\n",
    "        _vb = tf.placeholder('float',[self._input_size])\n",
    "\n",
    "        # Initializing values in zeros for variables above, to hold previous values\n",
    "        prv_w = np.zeros([self._input_size,self._output_size], 'float')\n",
    "        prv_hb = np.zeros([self._output_size],'float')\n",
    "        prv_vb = np.zeros([self._input_size],float)\n",
    "\n",
    "        # Initializing values in zeros for variables above, to hold current values\n",
    "        cur_w = np.zeros([self._input_size,self._output_size], 'float')\n",
    "        cur_hb = np.zeros([self._output_size],'float')\n",
    "        cur_vb = np.zeros([self._input_size],float)\n",
    "\n",
    "        # Creating placeholder for visible layer\n",
    "        v0 = tf.placeholder('float',[None, self._input_size])\n",
    "        h0 = self.sample_prob(self.prob_h_given_v(v0, _w, _hb))\n",
    "\n",
    "        # Setting the output forward pass (v1) and adding the visible bias vector\n",
    "        v1 = self.sample_prob(self.prob_v_given_h(h0, _w, _vb))\n",
    "        h1 = self.prob_h_given_v(v1, _w, _hb)\n",
    "\n",
    "        # Defining the error as MSE\n",
    "        positive_grad = tf.matmul(tf.transpose(v0), h0)\n",
    "        negative_grad = tf.matmul(tf.transpose(v1), h1)\n",
    "\n",
    "\n",
    "        # Create methods to update the weights and biases\n",
    "        update_w = _w + self.learning_rate * (positive_grad - negative_grad)/tf.to_float(tf.shape(v0)[0])\n",
    "        update_vb = _vb + self.learning_rate * tf.reduce_mean(v0 - v1,0)\n",
    "        update_hb = _hb + self.learning_rate * tf.reduce_mean(h0 - h1,0)\n",
    "        \n",
    "        \n",
    "        err = tf.reduce_mean(tf.square(v0 - v1))        \n",
    "        error_list = []\n",
    "        \n",
    "        \n",
    "        # Initializing the TensorFlow Session with defined variables \n",
    "        with tf.Session() as sess:\n",
    "            sess.run(tf.global_variables_initializer())\n",
    "            for epoch in range(self.epochs):\n",
    "\n",
    "                for start, end in zip(range(0, len(X),\n",
    "                    self.batchsize),range(self.batchsize,len(X), self.batchsize)):\n",
    "\n",
    "                    batch = X[start:end]\n",
    "                    \n",
    "                    cur_w = sess.run(update_w, feed_dict={\n",
    "                        v0 : batch,\n",
    "                        _w : prv_w,\n",
    "                        _hb : prv_hb,\n",
    "                        _vb : prv_vb})\n",
    "                    \n",
    "                    cur_hb = sess.run(update_hb, feed_dict={\n",
    "                        v0 : batch,\n",
    "                        _w : prv_w,\n",
    "                        _hb : prv_hb,\n",
    "                        _vb : prv_vb})\n",
    "                    \n",
    "                    cur_vb = sess.run(update_vb, feed_dict={\n",
    "                        v0 : batch,\n",
    "                        _w : prv_w,\n",
    "                        _hb : prv_hb,\n",
    "                        _vb : prv_vb})\n",
    "                    \n",
    "                    prv_w = cur_w\n",
    "                    prv_hb = cur_hb\n",
    "                    prv_vb = cur_vb\n",
    "                    \n",
    "                    error = sess.run(err, feed_dict={v0:X, _w:cur_w, _vb:cur_vb, _hb: cur_hb})\n",
    "                    error_list.append(error)\n",
    "                    \n",
    "                    print('Epoch: {} ,reconstruction error: {} '.format(epoch, error))\n",
    "\n",
    "           \n",
    "            \n",
    "            # Feeding the User\n",
    "            \n",
    "            inputUser = [X[user]]\n",
    "            hh0 = tf.nn.sigmoid(tf.matmul(v0,_w) + _hb)\n",
    "            vv1 = tf.nn.sigmoid(tf.matmul(hh0, tf.transpose(_w)) + _vb)\n",
    "            feed = sess.run(hh0, feed_dict={v0: inputUser, _w: prv_w, _hb: prv_hb})\n",
    "            rec = sess.run(vv1, feed_dict={hh0: feed, _w: prv_w, _vb: prv_vb})\n",
    "\n",
    "            self.w = prv_w\n",
    "            self.hb = prv_hb\n",
    "            self_vb = prv_vb  \n",
    "            \n",
    "            return error_list,rec\n",
    "\n",
    "\n",
    "    # Obtaining recommendation for an user    \n",
    "    def calculate_scores(self, ratings, books, to_read, rec, user):\n",
    "        \n",
    "        \n",
    "        # Creating recommendation score for books in our data\n",
    "        num_rows = records\n",
    "        temp = ratings.sort_values(by=['user_id'], ascending=True)\n",
    "        ratings = temp.iloc[:num_rows, :]\n",
    "        ratings['Recommendation_Score'] = rec[0]\n",
    "\n",
    "        \n",
    "        # Finding mock user's user_id from the data\n",
    "        cur_user_id = ratings.iloc[user]['user_id']\n",
    "\n",
    "        # Finding books the user has read before\n",
    "        read_books = ratings[ratings['user_id'] == cur_user_id]['book_id']\n",
    "        read_books\n",
    "\n",
    "        # Converting the pandas object into a list\n",
    "        read_books_id = read_books.tolist()\n",
    "\n",
    "        # Getting book names and authors for the books already read by the user\n",
    "        read_books_names = []\n",
    "        read_books_authors = []\n",
    "        for book in read_books_id:\n",
    "            read_books_names.append(\n",
    "                books[books['book_id'] == book]['original_title'].tolist()[0])\n",
    "            read_books_authors.append(\n",
    "                books[books['book_id'] == book]['authors'].tolist()[0])\n",
    "\n",
    "        # Finding all books the mock user has 'not' read before using the to_read data\n",
    "        unread_books = to_read[to_read['user_id'] == cur_user_id]['book_id']\n",
    "        unread_books_id = unread_books.tolist()\n",
    "\n",
    "        # Extracting  ratings of all the unread books from ratings dataframe\n",
    "        unread_with_score = ratings[ratings['book_id'].isin(unread_books_id)]\n",
    "\n",
    "        # Grouping the unread data on book id and taking the mean of the recommendation scores for each book_id\n",
    "        grouped_unread = unread_with_score.groupby('book_id', as_index=False)[\n",
    "            'Recommendation_Score'].mean()\n",
    "\n",
    "        # Getting the names and authors of the unread books\n",
    "        unread_books_names = []\n",
    "        unread_books_authors = []\n",
    "        unread_books_scores = []\n",
    "        for book in grouped_unread['book_id']:\n",
    "            unread_books_names.append(\n",
    "                books[books['book_id'] == book]['original_title'].tolist()[0])\n",
    "            unread_books_authors.append(\n",
    "                books[books['book_id'] == book]['authors'].tolist()[0])\n",
    "            unread_books_scores.append(\n",
    "                grouped_unread[grouped_unread['book_id'] == book]['Recommendation_Score'].tolist()[0])\n",
    "\n",
    "        # Creating a data frame for unread books with their names, authors and recommendation scores\n",
    "        unread_books_with_scores = pd.DataFrame({\n",
    "            'book_name': unread_books_names,\n",
    "            'book_authors': unread_books_authors,\n",
    "            'score': unread_books_scores\n",
    "        })\n",
    "\n",
    "        # Creating a data frame for read books with the names and authors\n",
    "        read_books_with_names = pd.DataFrame({\n",
    "            'book_name': read_books_names,\n",
    "            'book_authors': read_books_authors\n",
    "        })\n",
    "\n",
    "        return unread_books_with_scores, read_books_with_names"
   ]
  },
  {
   "cell_type": "code",
   "execution_count": 58,
   "metadata": {},
   "outputs": [],
   "source": [
    "# Training the model\n",
    "\n",
    "inputX = ratings_train\n",
    "inputX = inputX.astype(np.float32)\n",
    "\n",
    "#Parameters: input_size, output_size, learning_rate, epochs, batchsize\n",
    "#records variable was set above at the moment dataset were reduced to 2000 unique books and 2000 unique users\n",
    "\n",
    "rbm = RBM(records,records,0.3,230,200)"
   ]
  },
  {
   "cell_type": "code",
   "execution_count": 59,
   "metadata": {},
   "outputs": [
    {
     "name": "stdout",
     "output_type": "stream",
     "text": [
      "Epoch: 0 ,reconstruction error: 0.890736997127533 \n",
      "Epoch: 0 ,reconstruction error: 0.9622439742088318 \n",
      "Epoch: 0 ,reconstruction error: 0.9571250081062317 \n",
      "Epoch: 0 ,reconstruction error: 0.9165940284729004 \n",
      "Epoch: 1 ,reconstruction error: 0.8986480236053467 \n",
      "Epoch: 1 ,reconstruction error: 0.8948749899864197 \n",
      "Epoch: 1 ,reconstruction error: 0.8898599743843079 \n",
      "Epoch: 1 ,reconstruction error: 0.881072998046875 \n",
      "Epoch: 2 ,reconstruction error: 0.8851730227470398 \n",
      "Epoch: 2 ,reconstruction error: 0.8750560283660889 \n",
      "Epoch: 2 ,reconstruction error: 0.8649100065231323 \n",
      "Epoch: 2 ,reconstruction error: 0.8630250096321106 \n",
      "Epoch: 3 ,reconstruction error: 0.8678629994392395 \n",
      "Epoch: 3 ,reconstruction error: 0.8639730215072632 \n",
      "Epoch: 3 ,reconstruction error: 0.8547559976577759 \n",
      "Epoch: 3 ,reconstruction error: 0.855430006980896 \n",
      "Epoch: 4 ,reconstruction error: 0.8603100180625916 \n",
      "Epoch: 4 ,reconstruction error: 0.8607180118560791 \n",
      "Epoch: 4 ,reconstruction error: 0.8550509810447693 \n",
      "Epoch: 4 ,reconstruction error: 0.8538240194320679 \n",
      "Epoch: 5 ,reconstruction error: 0.8581900000572205 \n",
      "Epoch: 5 ,reconstruction error: 0.8580390214920044 \n",
      "Epoch: 5 ,reconstruction error: 0.8510500192642212 \n",
      "Epoch: 5 ,reconstruction error: 0.8538810014724731 \n",
      "Epoch: 6 ,reconstruction error: 0.8556209802627563 \n",
      "Epoch: 6 ,reconstruction error: 0.8562059998512268 \n",
      "Epoch: 6 ,reconstruction error: 0.8497859835624695 \n",
      "Epoch: 6 ,reconstruction error: 0.85104900598526 \n",
      "Epoch: 7 ,reconstruction error: 0.8544800281524658 \n",
      "Epoch: 7 ,reconstruction error: 0.8535749912261963 \n",
      "Epoch: 7 ,reconstruction error: 0.8477380275726318 \n",
      "Epoch: 7 ,reconstruction error: 0.8508689999580383 \n",
      "Epoch: 8 ,reconstruction error: 0.8520119786262512 \n",
      "Epoch: 8 ,reconstruction error: 0.8512309789657593 \n",
      "Epoch: 8 ,reconstruction error: 0.8468610048294067 \n",
      "Epoch: 8 ,reconstruction error: 0.8481559753417969 \n",
      "Epoch: 9 ,reconstruction error: 0.8498650193214417 \n",
      "Epoch: 9 ,reconstruction error: 0.848164975643158 \n",
      "Epoch: 9 ,reconstruction error: 0.8446230292320251 \n",
      "Epoch: 9 ,reconstruction error: 0.8488159775733948 \n",
      "Epoch: 10 ,reconstruction error: 0.8510379791259766 \n",
      "Epoch: 10 ,reconstruction error: 0.8473960161209106 \n",
      "Epoch: 10 ,reconstruction error: 0.8425880074501038 \n",
      "Epoch: 10 ,reconstruction error: 0.8446630239486694 \n",
      "Epoch: 11 ,reconstruction error: 0.8498839735984802 \n",
      "Epoch: 11 ,reconstruction error: 0.8467720150947571 \n",
      "Epoch: 11 ,reconstruction error: 0.8418139815330505 \n",
      "Epoch: 11 ,reconstruction error: 0.8452960252761841 \n",
      "Epoch: 12 ,reconstruction error: 0.8475250005722046 \n",
      "Epoch: 12 ,reconstruction error: 0.8455129861831665 \n",
      "Epoch: 12 ,reconstruction error: 0.8390460014343262 \n",
      "Epoch: 12 ,reconstruction error: 0.8436009883880615 \n",
      "Epoch: 13 ,reconstruction error: 0.8466839790344238 \n",
      "Epoch: 13 ,reconstruction error: 0.8423519730567932 \n",
      "Epoch: 13 ,reconstruction error: 0.8387550115585327 \n",
      "Epoch: 13 ,reconstruction error: 0.8420519828796387 \n",
      "Epoch: 14 ,reconstruction error: 0.8465179800987244 \n",
      "Epoch: 14 ,reconstruction error: 0.8440279960632324 \n",
      "Epoch: 14 ,reconstruction error: 0.8366349935531616 \n",
      "Epoch: 14 ,reconstruction error: 0.8399909734725952 \n",
      "Epoch: 15 ,reconstruction error: 0.8445590138435364 \n",
      "Epoch: 15 ,reconstruction error: 0.8402310013771057 \n",
      "Epoch: 15 ,reconstruction error: 0.8375030159950256 \n",
      "Epoch: 15 ,reconstruction error: 0.8393480181694031 \n",
      "Epoch: 16 ,reconstruction error: 0.843966007232666 \n",
      "Epoch: 16 ,reconstruction error: 0.839821994304657 \n",
      "Epoch: 16 ,reconstruction error: 0.8338059782981873 \n",
      "Epoch: 16 ,reconstruction error: 0.837382972240448 \n",
      "Epoch: 17 ,reconstruction error: 0.8417530059814453 \n",
      "Epoch: 17 ,reconstruction error: 0.8382400274276733 \n",
      "Epoch: 17 ,reconstruction error: 0.8339629769325256 \n",
      "Epoch: 17 ,reconstruction error: 0.8373559713363647 \n",
      "Epoch: 18 ,reconstruction error: 0.8396279811859131 \n",
      "Epoch: 18 ,reconstruction error: 0.8376759886741638 \n",
      "Epoch: 18 ,reconstruction error: 0.8325390219688416 \n",
      "Epoch: 18 ,reconstruction error: 0.8345069885253906 \n",
      "Epoch: 19 ,reconstruction error: 0.8389220237731934 \n",
      "Epoch: 19 ,reconstruction error: 0.8352890014648438 \n",
      "Epoch: 19 ,reconstruction error: 0.8313810229301453 \n",
      "Epoch: 19 ,reconstruction error: 0.8334239721298218 \n",
      "Epoch: 20 ,reconstruction error: 0.837689995765686 \n",
      "Epoch: 20 ,reconstruction error: 0.8349789977073669 \n",
      "Epoch: 20 ,reconstruction error: 0.8288519978523254 \n",
      "Epoch: 20 ,reconstruction error: 0.832377016544342 \n",
      "Epoch: 21 ,reconstruction error: 0.837037980556488 \n",
      "Epoch: 21 ,reconstruction error: 0.8328620195388794 \n",
      "Epoch: 21 ,reconstruction error: 0.8298299908638 \n",
      "Epoch: 21 ,reconstruction error: 0.8324689865112305 \n",
      "Epoch: 22 ,reconstruction error: 0.8359230160713196 \n",
      "Epoch: 22 ,reconstruction error: 0.8327609896659851 \n",
      "Epoch: 22 ,reconstruction error: 0.8258500099182129 \n",
      "Epoch: 22 ,reconstruction error: 0.8304759860038757 \n",
      "Epoch: 23 ,reconstruction error: 0.8325139880180359 \n",
      "Epoch: 23 ,reconstruction error: 0.831991970539093 \n",
      "Epoch: 23 ,reconstruction error: 0.8260570168495178 \n",
      "Epoch: 23 ,reconstruction error: 0.8284059762954712 \n",
      "Epoch: 24 ,reconstruction error: 0.8317000269889832 \n",
      "Epoch: 24 ,reconstruction error: 0.8306159973144531 \n",
      "Epoch: 24 ,reconstruction error: 0.8243280053138733 \n",
      "Epoch: 24 ,reconstruction error: 0.8289409875869751 \n",
      "Epoch: 25 ,reconstruction error: 0.8302459716796875 \n",
      "Epoch: 25 ,reconstruction error: 0.8302189707756042 \n",
      "Epoch: 25 ,reconstruction error: 0.8230590224266052 \n",
      "Epoch: 25 ,reconstruction error: 0.8281940221786499 \n",
      "Epoch: 26 ,reconstruction error: 0.8281289935112 \n",
      "Epoch: 26 ,reconstruction error: 0.8283429741859436 \n",
      "Epoch: 26 ,reconstruction error: 0.8228510022163391 \n",
      "Epoch: 26 ,reconstruction error: 0.8262320160865784 \n",
      "Epoch: 27 ,reconstruction error: 0.8271939754486084 \n",
      "Epoch: 27 ,reconstruction error: 0.82778000831604 \n",
      "Epoch: 27 ,reconstruction error: 0.8209630250930786 \n",
      "Epoch: 27 ,reconstruction error: 0.8255509734153748 \n",
      "Epoch: 28 ,reconstruction error: 0.8247789740562439 \n",
      "Epoch: 28 ,reconstruction error: 0.8252130150794983 \n",
      "Epoch: 28 ,reconstruction error: 0.818901002407074 \n",
      "Epoch: 28 ,reconstruction error: 0.8236470222473145 \n",
      "Epoch: 29 ,reconstruction error: 0.8241199851036072 \n",
      "Epoch: 29 ,reconstruction error: 0.8241230249404907 \n",
      "Epoch: 29 ,reconstruction error: 0.8182290196418762 \n",
      "Epoch: 29 ,reconstruction error: 0.8215019702911377 \n",
      "Epoch: 30 ,reconstruction error: 0.8220999836921692 \n",
      "Epoch: 30 ,reconstruction error: 0.8230109810829163 \n",
      "Epoch: 30 ,reconstruction error: 0.8152199983596802 \n",
      "Epoch: 30 ,reconstruction error: 0.8209360241889954 \n",
      "Epoch: 31 ,reconstruction error: 0.8228110074996948 \n",
      "Epoch: 31 ,reconstruction error: 0.8216180205345154 \n",
      "Epoch: 31 ,reconstruction error: 0.8136469721794128 \n",
      "Epoch: 31 ,reconstruction error: 0.8184049725532532 \n",
      "Epoch: 32 ,reconstruction error: 0.8199470043182373 \n",
      "Epoch: 32 ,reconstruction error: 0.8210620284080505 \n",
      "Epoch: 32 ,reconstruction error: 0.8123340010643005 \n",
      "Epoch: 32 ,reconstruction error: 0.817438006401062 \n",
      "Epoch: 33 ,reconstruction error: 0.8186879754066467 \n",
      "Epoch: 33 ,reconstruction error: 0.8187289834022522 \n",
      "Epoch: 33 ,reconstruction error: 0.8109840154647827 \n",
      "Epoch: 33 ,reconstruction error: 0.816241979598999 \n",
      "Epoch: 34 ,reconstruction error: 0.8172850012779236 \n",
      "Epoch: 34 ,reconstruction error: 0.8179739713668823 \n",
      "Epoch: 34 ,reconstruction error: 0.8079410195350647 \n",
      "Epoch: 34 ,reconstruction error: 0.8150249719619751 \n",
      "Epoch: 35 ,reconstruction error: 0.8160610198974609 \n",
      "Epoch: 35 ,reconstruction error: 0.814486026763916 \n",
      "Epoch: 35 ,reconstruction error: 0.8074790239334106 \n",
      "Epoch: 35 ,reconstruction error: 0.8126029968261719 \n",
      "Epoch: 36 ,reconstruction error: 0.8154420256614685 \n",
      "Epoch: 36 ,reconstruction error: 0.8137320280075073 \n",
      "Epoch: 36 ,reconstruction error: 0.8046079874038696 \n",
      "Epoch: 36 ,reconstruction error: 0.8098689913749695 \n",
      "Epoch: 37 ,reconstruction error: 0.8139190077781677 \n",
      "Epoch: 37 ,reconstruction error: 0.8110979795455933 \n",
      "Epoch: 37 ,reconstruction error: 0.8041560053825378 \n",
      "Epoch: 37 ,reconstruction error: 0.8079000115394592 \n",
      "Epoch: 38 ,reconstruction error: 0.8129109740257263 \n",
      "Epoch: 38 ,reconstruction error: 0.8101800084114075 \n",
      "Epoch: 38 ,reconstruction error: 0.8002409934997559 \n",
      "Epoch: 38 ,reconstruction error: 0.8072400093078613 \n",
      "Epoch: 39 ,reconstruction error: 0.8100969791412354 \n"
     ]
    },
    {
     "name": "stdout",
     "output_type": "stream",
     "text": [
      "Epoch: 39 ,reconstruction error: 0.8092349767684937 \n",
      "Epoch: 39 ,reconstruction error: 0.7996399998664856 \n",
      "Epoch: 39 ,reconstruction error: 0.8064209818840027 \n",
      "Epoch: 40 ,reconstruction error: 0.8095600008964539 \n",
      "Epoch: 40 ,reconstruction error: 0.8057039976119995 \n",
      "Epoch: 40 ,reconstruction error: 0.7977290153503418 \n",
      "Epoch: 40 ,reconstruction error: 0.8032820224761963 \n",
      "Epoch: 41 ,reconstruction error: 0.806676983833313 \n",
      "Epoch: 41 ,reconstruction error: 0.8052629828453064 \n",
      "Epoch: 41 ,reconstruction error: 0.7958099842071533 \n",
      "Epoch: 41 ,reconstruction error: 0.8028659820556641 \n",
      "Epoch: 42 ,reconstruction error: 0.8062989711761475 \n",
      "Epoch: 42 ,reconstruction error: 0.8020970225334167 \n",
      "Epoch: 42 ,reconstruction error: 0.796405017375946 \n",
      "Epoch: 42 ,reconstruction error: 0.8005719780921936 \n",
      "Epoch: 43 ,reconstruction error: 0.8055559992790222 \n",
      "Epoch: 43 ,reconstruction error: 0.800931990146637 \n",
      "Epoch: 43 ,reconstruction error: 0.7951549887657166 \n",
      "Epoch: 43 ,reconstruction error: 0.7996169924736023 \n",
      "Epoch: 44 ,reconstruction error: 0.8060550093650818 \n",
      "Epoch: 44 ,reconstruction error: 0.7999299764633179 \n",
      "Epoch: 44 ,reconstruction error: 0.7946410179138184 \n",
      "Epoch: 44 ,reconstruction error: 0.7979450225830078 \n",
      "Epoch: 45 ,reconstruction error: 0.8037509918212891 \n",
      "Epoch: 45 ,reconstruction error: 0.7999449968338013 \n",
      "Epoch: 45 ,reconstruction error: 0.7924349904060364 \n",
      "Epoch: 45 ,reconstruction error: 0.7967650294303894 \n",
      "Epoch: 46 ,reconstruction error: 0.8045399785041809 \n",
      "Epoch: 46 ,reconstruction error: 0.7966020107269287 \n",
      "Epoch: 46 ,reconstruction error: 0.7916619777679443 \n",
      "Epoch: 46 ,reconstruction error: 0.7955819964408875 \n",
      "Epoch: 47 ,reconstruction error: 0.8036699891090393 \n",
      "Epoch: 47 ,reconstruction error: 0.7994809746742249 \n",
      "Epoch: 47 ,reconstruction error: 0.7900000214576721 \n",
      "Epoch: 47 ,reconstruction error: 0.7941849827766418 \n",
      "Epoch: 48 ,reconstruction error: 0.8025450110435486 \n",
      "Epoch: 48 ,reconstruction error: 0.7978100180625916 \n",
      "Epoch: 48 ,reconstruction error: 0.790913999080658 \n",
      "Epoch: 48 ,reconstruction error: 0.7941949963569641 \n",
      "Epoch: 49 ,reconstruction error: 0.801006019115448 \n",
      "Epoch: 49 ,reconstruction error: 0.7987790107727051 \n",
      "Epoch: 49 ,reconstruction error: 0.7891179919242859 \n",
      "Epoch: 49 ,reconstruction error: 0.7941489815711975 \n",
      "Epoch: 50 ,reconstruction error: 0.80274498462677 \n",
      "Epoch: 50 ,reconstruction error: 0.7955020070075989 \n",
      "Epoch: 50 ,reconstruction error: 0.7895979881286621 \n",
      "Epoch: 50 ,reconstruction error: 0.7925940155982971 \n",
      "Epoch: 51 ,reconstruction error: 0.8004180192947388 \n",
      "Epoch: 51 ,reconstruction error: 0.7968389987945557 \n",
      "Epoch: 51 ,reconstruction error: 0.788112998008728 \n",
      "Epoch: 51 ,reconstruction error: 0.7920820116996765 \n",
      "Epoch: 52 ,reconstruction error: 0.8008229732513428 \n",
      "Epoch: 52 ,reconstruction error: 0.7973390221595764 \n",
      "Epoch: 52 ,reconstruction error: 0.7894089818000793 \n",
      "Epoch: 52 ,reconstruction error: 0.7914130091667175 \n",
      "Epoch: 53 ,reconstruction error: 0.8001739978790283 \n",
      "Epoch: 53 ,reconstruction error: 0.7967290282249451 \n",
      "Epoch: 53 ,reconstruction error: 0.788195013999939 \n",
      "Epoch: 53 ,reconstruction error: 0.7913690209388733 \n",
      "Epoch: 54 ,reconstruction error: 0.8011940121650696 \n",
      "Epoch: 54 ,reconstruction error: 0.7961300015449524 \n",
      "Epoch: 54 ,reconstruction error: 0.7882729768753052 \n",
      "Epoch: 54 ,reconstruction error: 0.7906010150909424 \n",
      "Epoch: 55 ,reconstruction error: 0.8005459904670715 \n",
      "Epoch: 55 ,reconstruction error: 0.7968519926071167 \n",
      "Epoch: 55 ,reconstruction error: 0.7879340052604675 \n",
      "Epoch: 55 ,reconstruction error: 0.7908080220222473 \n",
      "Epoch: 56 ,reconstruction error: 0.8018249869346619 \n",
      "Epoch: 56 ,reconstruction error: 0.7954729795455933 \n",
      "Epoch: 56 ,reconstruction error: 0.7885879874229431 \n",
      "Epoch: 56 ,reconstruction error: 0.7902100086212158 \n",
      "Epoch: 57 ,reconstruction error: 0.8002930283546448 \n",
      "Epoch: 57 ,reconstruction error: 0.7970420122146606 \n",
      "Epoch: 57 ,reconstruction error: 0.7876759767532349 \n",
      "Epoch: 57 ,reconstruction error: 0.7902269959449768 \n",
      "Epoch: 58 ,reconstruction error: 0.8008760213851929 \n",
      "Epoch: 58 ,reconstruction error: 0.7965310215950012 \n",
      "Epoch: 58 ,reconstruction error: 0.7873579859733582 \n",
      "Epoch: 58 ,reconstruction error: 0.7895870208740234 \n",
      "Epoch: 59 ,reconstruction error: 0.8001530170440674 \n",
      "Epoch: 59 ,reconstruction error: 0.7967960238456726 \n",
      "Epoch: 59 ,reconstruction error: 0.7882599830627441 \n",
      "Epoch: 59 ,reconstruction error: 0.7909029722213745 \n",
      "Epoch: 60 ,reconstruction error: 0.80103600025177 \n",
      "Epoch: 60 ,reconstruction error: 0.7958019971847534 \n",
      "Epoch: 60 ,reconstruction error: 0.7873629927635193 \n",
      "Epoch: 60 ,reconstruction error: 0.7892760038375854 \n",
      "Epoch: 61 ,reconstruction error: 0.7991939783096313 \n",
      "Epoch: 61 ,reconstruction error: 0.7964509725570679 \n",
      "Epoch: 61 ,reconstruction error: 0.7870420217514038 \n",
      "Epoch: 61 ,reconstruction error: 0.7889559864997864 \n",
      "Epoch: 62 ,reconstruction error: 0.7998949885368347 \n",
      "Epoch: 62 ,reconstruction error: 0.7975339889526367 \n",
      "Epoch: 62 ,reconstruction error: 0.7876189947128296 \n",
      "Epoch: 62 ,reconstruction error: 0.7893819808959961 \n",
      "Epoch: 63 ,reconstruction error: 0.7993190288543701 \n",
      "Epoch: 63 ,reconstruction error: 0.7975860238075256 \n",
      "Epoch: 63 ,reconstruction error: 0.7875609993934631 \n",
      "Epoch: 63 ,reconstruction error: 0.7886329889297485 \n",
      "Epoch: 64 ,reconstruction error: 0.7985439896583557 \n",
      "Epoch: 64 ,reconstruction error: 0.7965660095214844 \n",
      "Epoch: 64 ,reconstruction error: 0.7874259948730469 \n",
      "Epoch: 64 ,reconstruction error: 0.7887730002403259 \n",
      "Epoch: 65 ,reconstruction error: 0.7991840243339539 \n",
      "Epoch: 65 ,reconstruction error: 0.7965980172157288 \n",
      "Epoch: 65 ,reconstruction error: 0.7874209880828857 \n",
      "Epoch: 65 ,reconstruction error: 0.7884290218353271 \n",
      "Epoch: 66 ,reconstruction error: 0.7988790273666382 \n",
      "Epoch: 66 ,reconstruction error: 0.7960579991340637 \n",
      "Epoch: 66 ,reconstruction error: 0.7875540256500244 \n",
      "Epoch: 66 ,reconstruction error: 0.7882189750671387 \n",
      "Epoch: 67 ,reconstruction error: 0.7987040281295776 \n",
      "Epoch: 67 ,reconstruction error: 0.7965329885482788 \n",
      "Epoch: 67 ,reconstruction error: 0.7873250246047974 \n",
      "Epoch: 67 ,reconstruction error: 0.7886019945144653 \n",
      "Epoch: 68 ,reconstruction error: 0.7978209853172302 \n",
      "Epoch: 68 ,reconstruction error: 0.795566976070404 \n",
      "Epoch: 68 ,reconstruction error: 0.7875009775161743 \n",
      "Epoch: 68 ,reconstruction error: 0.7875210046768188 \n",
      "Epoch: 69 ,reconstruction error: 0.7976019978523254 \n",
      "Epoch: 69 ,reconstruction error: 0.7974140048027039 \n",
      "Epoch: 69 ,reconstruction error: 0.7868819832801819 \n",
      "Epoch: 69 ,reconstruction error: 0.7878329753875732 \n",
      "Epoch: 70 ,reconstruction error: 0.7970160245895386 \n",
      "Epoch: 70 ,reconstruction error: 0.7963169813156128 \n",
      "Epoch: 70 ,reconstruction error: 0.786791980266571 \n",
      "Epoch: 70 ,reconstruction error: 0.7879319787025452 \n",
      "Epoch: 71 ,reconstruction error: 0.7975040078163147 \n",
      "Epoch: 71 ,reconstruction error: 0.7965229749679565 \n",
      "Epoch: 71 ,reconstruction error: 0.7874780297279358 \n",
      "Epoch: 71 ,reconstruction error: 0.788112998008728 \n",
      "Epoch: 72 ,reconstruction error: 0.7970150113105774 \n",
      "Epoch: 72 ,reconstruction error: 0.796576976776123 \n",
      "Epoch: 72 ,reconstruction error: 0.7877659797668457 \n",
      "Epoch: 72 ,reconstruction error: 0.7879279851913452 \n",
      "Epoch: 73 ,reconstruction error: 0.7970200181007385 \n",
      "Epoch: 73 ,reconstruction error: 0.7965360283851624 \n",
      "Epoch: 73 ,reconstruction error: 0.7874079942703247 \n",
      "Epoch: 73 ,reconstruction error: 0.7876889705657959 \n",
      "Epoch: 74 ,reconstruction error: 0.7960339784622192 \n",
      "Epoch: 74 ,reconstruction error: 0.7961680293083191 \n",
      "Epoch: 74 ,reconstruction error: 0.7879199981689453 \n",
      "Epoch: 74 ,reconstruction error: 0.7876070141792297 \n",
      "Epoch: 75 ,reconstruction error: 0.796347975730896 \n",
      "Epoch: 75 ,reconstruction error: 0.7957810163497925 \n",
      "Epoch: 75 ,reconstruction error: 0.7872359752655029 \n",
      "Epoch: 75 ,reconstruction error: 0.7878080010414124 \n",
      "Epoch: 76 ,reconstruction error: 0.7956629991531372 \n",
      "Epoch: 76 ,reconstruction error: 0.7961879968643188 \n",
      "Epoch: 76 ,reconstruction error: 0.7877169847488403 \n",
      "Epoch: 76 ,reconstruction error: 0.7883430123329163 \n",
      "Epoch: 77 ,reconstruction error: 0.7955210208892822 \n",
      "Epoch: 77 ,reconstruction error: 0.7955729961395264 \n",
      "Epoch: 77 ,reconstruction error: 0.7873079776763916 \n",
      "Epoch: 77 ,reconstruction error: 0.7874780297279358 \n"
     ]
    },
    {
     "name": "stdout",
     "output_type": "stream",
     "text": [
      "Epoch: 78 ,reconstruction error: 0.7952749729156494 \n",
      "Epoch: 78 ,reconstruction error: 0.7959949970245361 \n",
      "Epoch: 78 ,reconstruction error: 0.7877820134162903 \n",
      "Epoch: 78 ,reconstruction error: 0.787738025188446 \n",
      "Epoch: 79 ,reconstruction error: 0.7948570251464844 \n",
      "Epoch: 79 ,reconstruction error: 0.7953799962997437 \n",
      "Epoch: 79 ,reconstruction error: 0.7875049710273743 \n",
      "Epoch: 79 ,reconstruction error: 0.7879970073699951 \n",
      "Epoch: 80 ,reconstruction error: 0.7948560118675232 \n",
      "Epoch: 80 ,reconstruction error: 0.7954699993133545 \n",
      "Epoch: 80 ,reconstruction error: 0.7875440120697021 \n",
      "Epoch: 80 ,reconstruction error: 0.7880839705467224 \n",
      "Epoch: 81 ,reconstruction error: 0.7937639951705933 \n",
      "Epoch: 81 ,reconstruction error: 0.7946509718894958 \n",
      "Epoch: 81 ,reconstruction error: 0.7876290082931519 \n",
      "Epoch: 81 ,reconstruction error: 0.7875199913978577 \n",
      "Epoch: 82 ,reconstruction error: 0.7948399782180786 \n",
      "Epoch: 82 ,reconstruction error: 0.7943140268325806 \n",
      "Epoch: 82 ,reconstruction error: 0.7875930070877075 \n",
      "Epoch: 82 ,reconstruction error: 0.7873730063438416 \n",
      "Epoch: 83 ,reconstruction error: 0.7939990162849426 \n",
      "Epoch: 83 ,reconstruction error: 0.794219970703125 \n",
      "Epoch: 83 ,reconstruction error: 0.7874889969825745 \n",
      "Epoch: 83 ,reconstruction error: 0.786628007888794 \n",
      "Epoch: 84 ,reconstruction error: 0.7937530279159546 \n",
      "Epoch: 84 ,reconstruction error: 0.7947559952735901 \n",
      "Epoch: 84 ,reconstruction error: 0.7871000170707703 \n",
      "Epoch: 84 ,reconstruction error: 0.7867289781570435 \n",
      "Epoch: 85 ,reconstruction error: 0.7935969829559326 \n",
      "Epoch: 85 ,reconstruction error: 0.7942180037498474 \n",
      "Epoch: 85 ,reconstruction error: 0.7871080040931702 \n",
      "Epoch: 85 ,reconstruction error: 0.786728024482727 \n",
      "Epoch: 86 ,reconstruction error: 0.7934960126876831 \n",
      "Epoch: 86 ,reconstruction error: 0.793865978717804 \n",
      "Epoch: 86 ,reconstruction error: 0.7867180109024048 \n",
      "Epoch: 86 ,reconstruction error: 0.7864590287208557 \n",
      "Epoch: 87 ,reconstruction error: 0.7928599715232849 \n",
      "Epoch: 87 ,reconstruction error: 0.7931209802627563 \n",
      "Epoch: 87 ,reconstruction error: 0.7871130108833313 \n",
      "Epoch: 87 ,reconstruction error: 0.7864410281181335 \n",
      "Epoch: 88 ,reconstruction error: 0.7932069897651672 \n",
      "Epoch: 88 ,reconstruction error: 0.7933290004730225 \n",
      "Epoch: 88 ,reconstruction error: 0.7863810062408447 \n",
      "Epoch: 88 ,reconstruction error: 0.7865520119667053 \n",
      "Epoch: 89 ,reconstruction error: 0.7931079864501953 \n",
      "Epoch: 89 ,reconstruction error: 0.7927259802818298 \n",
      "Epoch: 89 ,reconstruction error: 0.7867529988288879 \n",
      "Epoch: 89 ,reconstruction error: 0.7864540219306946 \n",
      "Epoch: 90 ,reconstruction error: 0.7928439974784851 \n",
      "Epoch: 90 ,reconstruction error: 0.793008029460907 \n",
      "Epoch: 90 ,reconstruction error: 0.7870399951934814 \n",
      "Epoch: 90 ,reconstruction error: 0.7864720225334167 \n",
      "Epoch: 91 ,reconstruction error: 0.7924649715423584 \n",
      "Epoch: 91 ,reconstruction error: 0.7931699752807617 \n",
      "Epoch: 91 ,reconstruction error: 0.7868890166282654 \n",
      "Epoch: 91 ,reconstruction error: 0.7861649990081787 \n",
      "Epoch: 92 ,reconstruction error: 0.7924910187721252 \n",
      "Epoch: 92 ,reconstruction error: 0.793258011341095 \n",
      "Epoch: 92 ,reconstruction error: 0.7867069840431213 \n",
      "Epoch: 92 ,reconstruction error: 0.7863029837608337 \n",
      "Epoch: 93 ,reconstruction error: 0.7917739748954773 \n",
      "Epoch: 93 ,reconstruction error: 0.7930269837379456 \n",
      "Epoch: 93 ,reconstruction error: 0.7864289879798889 \n",
      "Epoch: 93 ,reconstruction error: 0.7861030101776123 \n",
      "Epoch: 94 ,reconstruction error: 0.7916600108146667 \n",
      "Epoch: 94 ,reconstruction error: 0.7929090261459351 \n",
      "Epoch: 94 ,reconstruction error: 0.786312997341156 \n",
      "Epoch: 94 ,reconstruction error: 0.7865229845046997 \n",
      "Epoch: 95 ,reconstruction error: 0.7920160293579102 \n",
      "Epoch: 95 ,reconstruction error: 0.7921479940414429 \n",
      "Epoch: 95 ,reconstruction error: 0.7863360047340393 \n",
      "Epoch: 95 ,reconstruction error: 0.7854350209236145 \n",
      "Epoch: 96 ,reconstruction error: 0.7914850115776062 \n",
      "Epoch: 96 ,reconstruction error: 0.7921980023384094 \n",
      "Epoch: 96 ,reconstruction error: 0.7868829965591431 \n",
      "Epoch: 96 ,reconstruction error: 0.7860590219497681 \n",
      "Epoch: 97 ,reconstruction error: 0.7917500138282776 \n",
      "Epoch: 97 ,reconstruction error: 0.7916629910469055 \n",
      "Epoch: 97 ,reconstruction error: 0.7862619757652283 \n",
      "Epoch: 97 ,reconstruction error: 0.7859039902687073 \n",
      "Epoch: 98 ,reconstruction error: 0.7909910082817078 \n",
      "Epoch: 98 ,reconstruction error: 0.791858971118927 \n",
      "Epoch: 98 ,reconstruction error: 0.7866320013999939 \n",
      "Epoch: 98 ,reconstruction error: 0.7863010168075562 \n",
      "Epoch: 99 ,reconstruction error: 0.7907459735870361 \n",
      "Epoch: 99 ,reconstruction error: 0.7919740080833435 \n",
      "Epoch: 99 ,reconstruction error: 0.7864019870758057 \n",
      "Epoch: 99 ,reconstruction error: 0.7858560085296631 \n",
      "Epoch: 100 ,reconstruction error: 0.7907379865646362 \n",
      "Epoch: 100 ,reconstruction error: 0.7920359969139099 \n",
      "Epoch: 100 ,reconstruction error: 0.786666989326477 \n",
      "Epoch: 100 ,reconstruction error: 0.7853040099143982 \n",
      "Epoch: 101 ,reconstruction error: 0.7910850048065186 \n",
      "Epoch: 101 ,reconstruction error: 0.791703999042511 \n",
      "Epoch: 101 ,reconstruction error: 0.7865560054779053 \n",
      "Epoch: 101 ,reconstruction error: 0.7854369878768921 \n",
      "Epoch: 102 ,reconstruction error: 0.7900630235671997 \n",
      "Epoch: 102 ,reconstruction error: 0.7917910218238831 \n",
      "Epoch: 102 ,reconstruction error: 0.7864590287208557 \n",
      "Epoch: 102 ,reconstruction error: 0.7850949764251709 \n",
      "Epoch: 103 ,reconstruction error: 0.7906550168991089 \n",
      "Epoch: 103 ,reconstruction error: 0.7911790013313293 \n",
      "Epoch: 103 ,reconstruction error: 0.7865830063819885 \n",
      "Epoch: 103 ,reconstruction error: 0.785627007484436 \n",
      "Epoch: 104 ,reconstruction error: 0.790166974067688 \n",
      "Epoch: 104 ,reconstruction error: 0.7911689877510071 \n",
      "Epoch: 104 ,reconstruction error: 0.7860860228538513 \n",
      "Epoch: 104 ,reconstruction error: 0.7852640151977539 \n",
      "Epoch: 105 ,reconstruction error: 0.7905600070953369 \n",
      "Epoch: 105 ,reconstruction error: 0.7915970087051392 \n",
      "Epoch: 105 ,reconstruction error: 0.7865560054779053 \n",
      "Epoch: 105 ,reconstruction error: 0.7852789759635925 \n",
      "Epoch: 106 ,reconstruction error: 0.7896339893341064 \n",
      "Epoch: 106 ,reconstruction error: 0.7910609841346741 \n",
      "Epoch: 106 ,reconstruction error: 0.7863420248031616 \n",
      "Epoch: 106 ,reconstruction error: 0.7847679853439331 \n",
      "Epoch: 107 ,reconstruction error: 0.7902089953422546 \n",
      "Epoch: 107 ,reconstruction error: 0.7909700274467468 \n",
      "Epoch: 107 ,reconstruction error: 0.785772979259491 \n",
      "Epoch: 107 ,reconstruction error: 0.7849289774894714 \n",
      "Epoch: 108 ,reconstruction error: 0.7895810008049011 \n",
      "Epoch: 108 ,reconstruction error: 0.79134601354599 \n",
      "Epoch: 108 ,reconstruction error: 0.7859029769897461 \n",
      "Epoch: 108 ,reconstruction error: 0.7853789925575256 \n",
      "Epoch: 109 ,reconstruction error: 0.789563000202179 \n",
      "Epoch: 109 ,reconstruction error: 0.7906129956245422 \n",
      "Epoch: 109 ,reconstruction error: 0.7859020233154297 \n",
      "Epoch: 109 ,reconstruction error: 0.785148024559021 \n",
      "Epoch: 110 ,reconstruction error: 0.7893570065498352 \n",
      "Epoch: 110 ,reconstruction error: 0.7908009886741638 \n",
      "Epoch: 110 ,reconstruction error: 0.7857379913330078 \n",
      "Epoch: 110 ,reconstruction error: 0.7853890061378479 \n",
      "Epoch: 111 ,reconstruction error: 0.7889959812164307 \n",
      "Epoch: 111 ,reconstruction error: 0.7904199957847595 \n",
      "Epoch: 111 ,reconstruction error: 0.7857229709625244 \n",
      "Epoch: 111 ,reconstruction error: 0.7850710153579712 \n",
      "Epoch: 112 ,reconstruction error: 0.7893409729003906 \n",
      "Epoch: 112 ,reconstruction error: 0.7906749844551086 \n",
      "Epoch: 112 ,reconstruction error: 0.7854400277137756 \n",
      "Epoch: 112 ,reconstruction error: 0.7850099802017212 \n",
      "Epoch: 113 ,reconstruction error: 0.7889649868011475 \n",
      "Epoch: 113 ,reconstruction error: 0.7907840013504028 \n",
      "Epoch: 113 ,reconstruction error: 0.7857249975204468 \n",
      "Epoch: 113 ,reconstruction error: 0.78473299741745 \n",
      "Epoch: 114 ,reconstruction error: 0.7887009978294373 \n",
      "Epoch: 114 ,reconstruction error: 0.7898859977722168 \n",
      "Epoch: 114 ,reconstruction error: 0.7857509851455688 \n",
      "Epoch: 114 ,reconstruction error: 0.7849130034446716 \n",
      "Epoch: 115 ,reconstruction error: 0.7887579798698425 \n",
      "Epoch: 115 ,reconstruction error: 0.7905619740486145 \n",
      "Epoch: 115 ,reconstruction error: 0.7855240106582642 \n",
      "Epoch: 115 ,reconstruction error: 0.7847279906272888 \n",
      "Epoch: 116 ,reconstruction error: 0.7884200215339661 \n",
      "Epoch: 116 ,reconstruction error: 0.790556013584137 \n",
      "Epoch: 116 ,reconstruction error: 0.7855110168457031 \n",
      "Epoch: 116 ,reconstruction error: 0.7847470045089722 \n",
      "Epoch: 117 ,reconstruction error: 0.788595974445343 \n"
     ]
    },
    {
     "name": "stdout",
     "output_type": "stream",
     "text": [
      "Epoch: 117 ,reconstruction error: 0.7907090187072754 \n",
      "Epoch: 117 ,reconstruction error: 0.7854200005531311 \n",
      "Epoch: 117 ,reconstruction error: 0.7845010161399841 \n",
      "Epoch: 118 ,reconstruction error: 0.7883250117301941 \n",
      "Epoch: 118 ,reconstruction error: 0.7905139923095703 \n",
      "Epoch: 118 ,reconstruction error: 0.785444974899292 \n",
      "Epoch: 118 ,reconstruction error: 0.7847110033035278 \n",
      "Epoch: 119 ,reconstruction error: 0.7884309887886047 \n",
      "Epoch: 119 ,reconstruction error: 0.7904260158538818 \n",
      "Epoch: 119 ,reconstruction error: 0.7856850028038025 \n",
      "Epoch: 119 ,reconstruction error: 0.7846400141716003 \n",
      "Epoch: 120 ,reconstruction error: 0.7883449792861938 \n",
      "Epoch: 120 ,reconstruction error: 0.7903850078582764 \n",
      "Epoch: 120 ,reconstruction error: 0.7854509949684143 \n",
      "Epoch: 120 ,reconstruction error: 0.7852150201797485 \n",
      "Epoch: 121 ,reconstruction error: 0.7882390022277832 \n",
      "Epoch: 121 ,reconstruction error: 0.7901700139045715 \n",
      "Epoch: 121 ,reconstruction error: 0.7855470180511475 \n",
      "Epoch: 121 ,reconstruction error: 0.7846450209617615 \n",
      "Epoch: 122 ,reconstruction error: 0.7880740165710449 \n",
      "Epoch: 122 ,reconstruction error: 0.7901009917259216 \n",
      "Epoch: 122 ,reconstruction error: 0.785614013671875 \n",
      "Epoch: 122 ,reconstruction error: 0.7850549817085266 \n",
      "Epoch: 123 ,reconstruction error: 0.7879310250282288 \n",
      "Epoch: 123 ,reconstruction error: 0.7903689742088318 \n",
      "Epoch: 123 ,reconstruction error: 0.7857779860496521 \n",
      "Epoch: 123 ,reconstruction error: 0.7850940227508545 \n",
      "Epoch: 124 ,reconstruction error: 0.7885940074920654 \n",
      "Epoch: 124 ,reconstruction error: 0.7901099920272827 \n",
      "Epoch: 124 ,reconstruction error: 0.7851200103759766 \n",
      "Epoch: 124 ,reconstruction error: 0.784965991973877 \n",
      "Epoch: 125 ,reconstruction error: 0.7880449891090393 \n",
      "Epoch: 125 ,reconstruction error: 0.7900159955024719 \n",
      "Epoch: 125 ,reconstruction error: 0.7851889729499817 \n",
      "Epoch: 125 ,reconstruction error: 0.7849400043487549 \n",
      "Epoch: 126 ,reconstruction error: 0.7880520224571228 \n",
      "Epoch: 126 ,reconstruction error: 0.7900000214576721 \n",
      "Epoch: 126 ,reconstruction error: 0.785489022731781 \n",
      "Epoch: 126 ,reconstruction error: 0.7846720218658447 \n",
      "Epoch: 127 ,reconstruction error: 0.7878929972648621 \n",
      "Epoch: 127 ,reconstruction error: 0.7898160219192505 \n",
      "Epoch: 127 ,reconstruction error: 0.7853459715843201 \n",
      "Epoch: 127 ,reconstruction error: 0.7845289707183838 \n",
      "Epoch: 128 ,reconstruction error: 0.7875499725341797 \n",
      "Epoch: 128 ,reconstruction error: 0.7899479866027832 \n",
      "Epoch: 128 ,reconstruction error: 0.7853429913520813 \n",
      "Epoch: 128 ,reconstruction error: 0.7845609784126282 \n",
      "Epoch: 129 ,reconstruction error: 0.7874910235404968 \n",
      "Epoch: 129 ,reconstruction error: 0.7896450161933899 \n",
      "Epoch: 129 ,reconstruction error: 0.7852460145950317 \n",
      "Epoch: 129 ,reconstruction error: 0.7842580080032349 \n",
      "Epoch: 130 ,reconstruction error: 0.7873179912567139 \n",
      "Epoch: 130 ,reconstruction error: 0.7897689938545227 \n",
      "Epoch: 130 ,reconstruction error: 0.7849180102348328 \n",
      "Epoch: 130 ,reconstruction error: 0.7847139835357666 \n",
      "Epoch: 131 ,reconstruction error: 0.7875279784202576 \n",
      "Epoch: 131 ,reconstruction error: 0.7891110181808472 \n",
      "Epoch: 131 ,reconstruction error: 0.7852320075035095 \n",
      "Epoch: 131 ,reconstruction error: 0.7843800187110901 \n",
      "Epoch: 132 ,reconstruction error: 0.7871699929237366 \n",
      "Epoch: 132 ,reconstruction error: 0.7893940210342407 \n",
      "Epoch: 132 ,reconstruction error: 0.7850949764251709 \n",
      "Epoch: 132 ,reconstruction error: 0.7845600247383118 \n",
      "Epoch: 133 ,reconstruction error: 0.7873089909553528 \n",
      "Epoch: 133 ,reconstruction error: 0.7893159985542297 \n",
      "Epoch: 133 ,reconstruction error: 0.7848309874534607 \n",
      "Epoch: 133 ,reconstruction error: 0.7838780283927917 \n",
      "Epoch: 134 ,reconstruction error: 0.787060022354126 \n",
      "Epoch: 134 ,reconstruction error: 0.789156973361969 \n",
      "Epoch: 134 ,reconstruction error: 0.7851030230522156 \n",
      "Epoch: 134 ,reconstruction error: 0.7845590114593506 \n",
      "Epoch: 135 ,reconstruction error: 0.7872999906539917 \n",
      "Epoch: 135 ,reconstruction error: 0.7893009781837463 \n",
      "Epoch: 135 ,reconstruction error: 0.7849360108375549 \n",
      "Epoch: 135 ,reconstruction error: 0.7845280170440674 \n",
      "Epoch: 136 ,reconstruction error: 0.7868379950523376 \n",
      "Epoch: 136 ,reconstruction error: 0.7893009781837463 \n",
      "Epoch: 136 ,reconstruction error: 0.7848359942436218 \n",
      "Epoch: 136 ,reconstruction error: 0.7840669751167297 \n",
      "Epoch: 137 ,reconstruction error: 0.7872610092163086 \n",
      "Epoch: 137 ,reconstruction error: 0.78923499584198 \n",
      "Epoch: 137 ,reconstruction error: 0.7847089767456055 \n",
      "Epoch: 137 ,reconstruction error: 0.7837340235710144 \n",
      "Epoch: 138 ,reconstruction error: 0.7872689962387085 \n",
      "Epoch: 138 ,reconstruction error: 0.7891240119934082 \n",
      "Epoch: 138 ,reconstruction error: 0.7850180268287659 \n",
      "Epoch: 138 ,reconstruction error: 0.7839499711990356 \n",
      "Epoch: 139 ,reconstruction error: 0.7867410182952881 \n",
      "Epoch: 139 ,reconstruction error: 0.788864016532898 \n",
      "Epoch: 139 ,reconstruction error: 0.7846840023994446 \n",
      "Epoch: 139 ,reconstruction error: 0.7839769721031189 \n",
      "Epoch: 140 ,reconstruction error: 0.7871400117874146 \n",
      "Epoch: 140 ,reconstruction error: 0.7888540029525757 \n",
      "Epoch: 140 ,reconstruction error: 0.7846440076828003 \n",
      "Epoch: 140 ,reconstruction error: 0.7839999794960022 \n",
      "Epoch: 141 ,reconstruction error: 0.7870720028877258 \n",
      "Epoch: 141 ,reconstruction error: 0.789218008518219 \n",
      "Epoch: 141 ,reconstruction error: 0.7846940159797668 \n",
      "Epoch: 141 ,reconstruction error: 0.7839000225067139 \n",
      "Epoch: 142 ,reconstruction error: 0.7869560122489929 \n",
      "Epoch: 142 ,reconstruction error: 0.7891160249710083 \n",
      "Epoch: 142 ,reconstruction error: 0.7848770022392273 \n",
      "Epoch: 142 ,reconstruction error: 0.7839170098304749 \n",
      "Epoch: 143 ,reconstruction error: 0.7872679829597473 \n",
      "Epoch: 143 ,reconstruction error: 0.7890650033950806 \n",
      "Epoch: 143 ,reconstruction error: 0.784853994846344 \n",
      "Epoch: 143 ,reconstruction error: 0.7841590046882629 \n",
      "Epoch: 144 ,reconstruction error: 0.7872300148010254 \n",
      "Epoch: 144 ,reconstruction error: 0.788811981678009 \n",
      "Epoch: 144 ,reconstruction error: 0.7845929861068726 \n",
      "Epoch: 144 ,reconstruction error: 0.783814013004303 \n",
      "Epoch: 145 ,reconstruction error: 0.7868520021438599 \n",
      "Epoch: 145 ,reconstruction error: 0.7888010144233704 \n",
      "Epoch: 145 ,reconstruction error: 0.7848299741744995 \n",
      "Epoch: 145 ,reconstruction error: 0.7839040160179138 \n",
      "Epoch: 146 ,reconstruction error: 0.7868649959564209 \n",
      "Epoch: 146 ,reconstruction error: 0.7885550260543823 \n",
      "Epoch: 146 ,reconstruction error: 0.7845770120620728 \n",
      "Epoch: 146 ,reconstruction error: 0.7839409708976746 \n",
      "Epoch: 147 ,reconstruction error: 0.7867680191993713 \n",
      "Epoch: 147 ,reconstruction error: 0.7885640263557434 \n",
      "Epoch: 147 ,reconstruction error: 0.784824013710022 \n",
      "Epoch: 147 ,reconstruction error: 0.7840530276298523 \n",
      "Epoch: 148 ,reconstruction error: 0.7867119908332825 \n",
      "Epoch: 148 ,reconstruction error: 0.7885469794273376 \n",
      "Epoch: 148 ,reconstruction error: 0.784762978553772 \n",
      "Epoch: 148 ,reconstruction error: 0.7837899923324585 \n",
      "Epoch: 149 ,reconstruction error: 0.7867649793624878 \n",
      "Epoch: 149 ,reconstruction error: 0.7885169982910156 \n",
      "Epoch: 149 ,reconstruction error: 0.7849239706993103 \n",
      "Epoch: 149 ,reconstruction error: 0.7840960025787354 \n",
      "Epoch: 150 ,reconstruction error: 0.7864009737968445 \n",
      "Epoch: 150 ,reconstruction error: 0.7888699769973755 \n",
      "Epoch: 150 ,reconstruction error: 0.7845510244369507 \n",
      "Epoch: 150 ,reconstruction error: 0.7841560244560242 \n",
      "Epoch: 151 ,reconstruction error: 0.7865319848060608 \n",
      "Epoch: 151 ,reconstruction error: 0.7887910008430481 \n",
      "Epoch: 151 ,reconstruction error: 0.7844989895820618 \n",
      "Epoch: 151 ,reconstruction error: 0.7836800217628479 \n",
      "Epoch: 152 ,reconstruction error: 0.7865039706230164 \n",
      "Epoch: 152 ,reconstruction error: 0.7887009978294373 \n",
      "Epoch: 152 ,reconstruction error: 0.7846940159797668 \n",
      "Epoch: 152 ,reconstruction error: 0.784168004989624 \n",
      "Epoch: 153 ,reconstruction error: 0.7864279747009277 \n",
      "Epoch: 153 ,reconstruction error: 0.7883660197257996 \n",
      "Epoch: 153 ,reconstruction error: 0.784529983997345 \n",
      "Epoch: 153 ,reconstruction error: 0.7837250232696533 \n",
      "Epoch: 154 ,reconstruction error: 0.7857210040092468 \n",
      "Epoch: 154 ,reconstruction error: 0.7882490158081055 \n",
      "Epoch: 154 ,reconstruction error: 0.7846930027008057 \n",
      "Epoch: 154 ,reconstruction error: 0.7837619781494141 \n",
      "Epoch: 155 ,reconstruction error: 0.7863579988479614 \n",
      "Epoch: 155 ,reconstruction error: 0.7884590029716492 \n",
      "Epoch: 155 ,reconstruction error: 0.7844640016555786 \n",
      "Epoch: 155 ,reconstruction error: 0.7840949892997742 \n",
      "Epoch: 156 ,reconstruction error: 0.7860090136528015 \n",
      "Epoch: 156 ,reconstruction error: 0.7881870269775391 \n"
     ]
    },
    {
     "name": "stdout",
     "output_type": "stream",
     "text": [
      "Epoch: 156 ,reconstruction error: 0.7849060297012329 \n",
      "Epoch: 156 ,reconstruction error: 0.7839540243148804 \n",
      "Epoch: 157 ,reconstruction error: 0.7861549854278564 \n",
      "Epoch: 157 ,reconstruction error: 0.7882829904556274 \n",
      "Epoch: 157 ,reconstruction error: 0.7847170233726501 \n",
      "Epoch: 157 ,reconstruction error: 0.78398597240448 \n",
      "Epoch: 158 ,reconstruction error: 0.7860360145568848 \n",
      "Epoch: 158 ,reconstruction error: 0.7880070209503174 \n",
      "Epoch: 158 ,reconstruction error: 0.784604012966156 \n",
      "Epoch: 158 ,reconstruction error: 0.7839000225067139 \n",
      "Epoch: 159 ,reconstruction error: 0.7858009934425354 \n",
      "Epoch: 159 ,reconstruction error: 0.7879649996757507 \n",
      "Epoch: 159 ,reconstruction error: 0.7844629883766174 \n",
      "Epoch: 159 ,reconstruction error: 0.7840560078620911 \n",
      "Epoch: 160 ,reconstruction error: 0.7858740091323853 \n",
      "Epoch: 160 ,reconstruction error: 0.7883110046386719 \n",
      "Epoch: 160 ,reconstruction error: 0.7845630049705505 \n",
      "Epoch: 160 ,reconstruction error: 0.7836329936981201 \n",
      "Epoch: 161 ,reconstruction error: 0.7857940196990967 \n",
      "Epoch: 161 ,reconstruction error: 0.7879559993743896 \n",
      "Epoch: 161 ,reconstruction error: 0.7846230268478394 \n",
      "Epoch: 161 ,reconstruction error: 0.7841100096702576 \n",
      "Epoch: 162 ,reconstruction error: 0.7858960032463074 \n",
      "Epoch: 162 ,reconstruction error: 0.7879070043563843 \n",
      "Epoch: 162 ,reconstruction error: 0.7847489714622498 \n",
      "Epoch: 162 ,reconstruction error: 0.7843949794769287 \n",
      "Epoch: 163 ,reconstruction error: 0.7856630086898804 \n",
      "Epoch: 163 ,reconstruction error: 0.7885310053825378 \n",
      "Epoch: 163 ,reconstruction error: 0.785099983215332 \n",
      "Epoch: 163 ,reconstruction error: 0.7840179800987244 \n",
      "Epoch: 164 ,reconstruction error: 0.7858579754829407 \n",
      "Epoch: 164 ,reconstruction error: 0.788424015045166 \n",
      "Epoch: 164 ,reconstruction error: 0.7843490242958069 \n",
      "Epoch: 164 ,reconstruction error: 0.7841730117797852 \n",
      "Epoch: 165 ,reconstruction error: 0.7858160138130188 \n",
      "Epoch: 165 ,reconstruction error: 0.7881230115890503 \n",
      "Epoch: 165 ,reconstruction error: 0.7845510244369507 \n",
      "Epoch: 165 ,reconstruction error: 0.7842950224876404 \n",
      "Epoch: 166 ,reconstruction error: 0.7858060002326965 \n",
      "Epoch: 166 ,reconstruction error: 0.7881709933280945 \n",
      "Epoch: 166 ,reconstruction error: 0.7845079898834229 \n",
      "Epoch: 166 ,reconstruction error: 0.7839760184288025 \n",
      "Epoch: 167 ,reconstruction error: 0.7856969833374023 \n",
      "Epoch: 167 ,reconstruction error: 0.7881510257720947 \n",
      "Epoch: 167 ,reconstruction error: 0.7843769788742065 \n",
      "Epoch: 167 ,reconstruction error: 0.7842789888381958 \n",
      "Epoch: 168 ,reconstruction error: 0.7859799861907959 \n",
      "Epoch: 168 ,reconstruction error: 0.7882879972457886 \n",
      "Epoch: 168 ,reconstruction error: 0.7842419743537903 \n",
      "Epoch: 168 ,reconstruction error: 0.7839999794960022 \n",
      "Epoch: 169 ,reconstruction error: 0.7856760025024414 \n",
      "Epoch: 169 ,reconstruction error: 0.78848797082901 \n",
      "Epoch: 169 ,reconstruction error: 0.7844390273094177 \n",
      "Epoch: 169 ,reconstruction error: 0.7842320203781128 \n",
      "Epoch: 170 ,reconstruction error: 0.785556972026825 \n",
      "Epoch: 170 ,reconstruction error: 0.7881979942321777 \n",
      "Epoch: 170 ,reconstruction error: 0.7845039963722229 \n",
      "Epoch: 170 ,reconstruction error: 0.7843369841575623 \n",
      "Epoch: 171 ,reconstruction error: 0.7858729958534241 \n",
      "Epoch: 171 ,reconstruction error: 0.7884889841079712 \n",
      "Epoch: 171 ,reconstruction error: 0.7844840288162231 \n",
      "Epoch: 171 ,reconstruction error: 0.7840920090675354 \n",
      "Epoch: 172 ,reconstruction error: 0.7854920029640198 \n",
      "Epoch: 172 ,reconstruction error: 0.7881230115890503 \n",
      "Epoch: 172 ,reconstruction error: 0.7845770120620728 \n",
      "Epoch: 172 ,reconstruction error: 0.7844060063362122 \n",
      "Epoch: 173 ,reconstruction error: 0.7859020233154297 \n",
      "Epoch: 173 ,reconstruction error: 0.7881889939308167 \n",
      "Epoch: 173 ,reconstruction error: 0.7850340008735657 \n",
      "Epoch: 173 ,reconstruction error: 0.7842280268669128 \n",
      "Epoch: 174 ,reconstruction error: 0.7860730290412903 \n",
      "Epoch: 174 ,reconstruction error: 0.7884119749069214 \n",
      "Epoch: 174 ,reconstruction error: 0.7846159934997559 \n",
      "Epoch: 174 ,reconstruction error: 0.784496009349823 \n",
      "Epoch: 175 ,reconstruction error: 0.7860159873962402 \n",
      "Epoch: 175 ,reconstruction error: 0.7879530191421509 \n",
      "Epoch: 175 ,reconstruction error: 0.7847989797592163 \n",
      "Epoch: 175 ,reconstruction error: 0.7843779921531677 \n",
      "Epoch: 176 ,reconstruction error: 0.7858459949493408 \n",
      "Epoch: 176 ,reconstruction error: 0.7879959940910339 \n",
      "Epoch: 176 ,reconstruction error: 0.7847449779510498 \n",
      "Epoch: 176 ,reconstruction error: 0.784309983253479 \n",
      "Epoch: 177 ,reconstruction error: 0.7858560085296631 \n",
      "Epoch: 177 ,reconstruction error: 0.7876060009002686 \n",
      "Epoch: 177 ,reconstruction error: 0.7844120264053345 \n",
      "Epoch: 177 ,reconstruction error: 0.7841659784317017 \n",
      "Epoch: 178 ,reconstruction error: 0.7855839729309082 \n",
      "Epoch: 178 ,reconstruction error: 0.787788987159729 \n",
      "Epoch: 178 ,reconstruction error: 0.7847750186920166 \n",
      "Epoch: 178 ,reconstruction error: 0.7841799855232239 \n",
      "Epoch: 179 ,reconstruction error: 0.7855910062789917 \n",
      "Epoch: 179 ,reconstruction error: 0.7880970239639282 \n",
      "Epoch: 179 ,reconstruction error: 0.7846310138702393 \n",
      "Epoch: 179 ,reconstruction error: 0.7840960025787354 \n",
      "Epoch: 180 ,reconstruction error: 0.7856370210647583 \n",
      "Epoch: 180 ,reconstruction error: 0.787880003452301 \n",
      "Epoch: 180 ,reconstruction error: 0.7842940092086792 \n",
      "Epoch: 180 ,reconstruction error: 0.7842180132865906 \n",
      "Epoch: 181 ,reconstruction error: 0.78581702709198 \n",
      "Epoch: 181 ,reconstruction error: 0.7876999974250793 \n",
      "Epoch: 181 ,reconstruction error: 0.7841789722442627 \n",
      "Epoch: 181 ,reconstruction error: 0.7840980291366577 \n",
      "Epoch: 182 ,reconstruction error: 0.7856839895248413 \n",
      "Epoch: 182 ,reconstruction error: 0.7877410054206848 \n",
      "Epoch: 182 ,reconstruction error: 0.7844300270080566 \n",
      "Epoch: 182 ,reconstruction error: 0.7841259837150574 \n",
      "Epoch: 183 ,reconstruction error: 0.7855460047721863 \n",
      "Epoch: 183 ,reconstruction error: 0.7879120111465454 \n",
      "Epoch: 183 ,reconstruction error: 0.784745991230011 \n",
      "Epoch: 183 ,reconstruction error: 0.7841389775276184 \n",
      "Epoch: 184 ,reconstruction error: 0.7860540151596069 \n",
      "Epoch: 184 ,reconstruction error: 0.7877399921417236 \n",
      "Epoch: 184 ,reconstruction error: 0.7845919728279114 \n",
      "Epoch: 184 ,reconstruction error: 0.784417986869812 \n",
      "Epoch: 185 ,reconstruction error: 0.7856559753417969 \n",
      "Epoch: 185 ,reconstruction error: 0.7874690294265747 \n",
      "Epoch: 185 ,reconstruction error: 0.7844060063362122 \n",
      "Epoch: 185 ,reconstruction error: 0.7842469811439514 \n",
      "Epoch: 186 ,reconstruction error: 0.7856429815292358 \n",
      "Epoch: 186 ,reconstruction error: 0.7881690263748169 \n",
      "Epoch: 186 ,reconstruction error: 0.7843400239944458 \n",
      "Epoch: 186 ,reconstruction error: 0.7840780019760132 \n",
      "Epoch: 187 ,reconstruction error: 0.7855619788169861 \n",
      "Epoch: 187 ,reconstruction error: 0.7876480221748352 \n",
      "Epoch: 187 ,reconstruction error: 0.7845699787139893 \n",
      "Epoch: 187 ,reconstruction error: 0.7840840220451355 \n",
      "Epoch: 188 ,reconstruction error: 0.7856360077857971 \n",
      "Epoch: 188 ,reconstruction error: 0.787854015827179 \n",
      "Epoch: 188 ,reconstruction error: 0.784608006477356 \n",
      "Epoch: 188 ,reconstruction error: 0.7842810153961182 \n",
      "Epoch: 189 ,reconstruction error: 0.7856680154800415 \n",
      "Epoch: 189 ,reconstruction error: 0.7876089811325073 \n",
      "Epoch: 189 ,reconstruction error: 0.7844250202178955 \n",
      "Epoch: 189 ,reconstruction error: 0.7844139933586121 \n",
      "Epoch: 190 ,reconstruction error: 0.7857459783554077 \n",
      "Epoch: 190 ,reconstruction error: 0.7877020239830017 \n",
      "Epoch: 190 ,reconstruction error: 0.7846400141716003 \n",
      "Epoch: 190 ,reconstruction error: 0.7843030095100403 \n",
      "Epoch: 191 ,reconstruction error: 0.7859159708023071 \n",
      "Epoch: 191 ,reconstruction error: 0.7876350283622742 \n",
      "Epoch: 191 ,reconstruction error: 0.7847210168838501 \n",
      "Epoch: 191 ,reconstruction error: 0.7840650081634521 \n",
      "Epoch: 192 ,reconstruction error: 0.7856780290603638 \n",
      "Epoch: 192 ,reconstruction error: 0.7875660061836243 \n",
      "Epoch: 192 ,reconstruction error: 0.784654974937439 \n",
      "Epoch: 192 ,reconstruction error: 0.7842230200767517 \n",
      "Epoch: 193 ,reconstruction error: 0.7857419848442078 \n",
      "Epoch: 193 ,reconstruction error: 0.787617027759552 \n",
      "Epoch: 193 ,reconstruction error: 0.7847610116004944 \n",
      "Epoch: 193 ,reconstruction error: 0.78404700756073 \n",
      "Epoch: 194 ,reconstruction error: 0.7857099771499634 \n",
      "Epoch: 194 ,reconstruction error: 0.7879109978675842 \n",
      "Epoch: 194 ,reconstruction error: 0.7847620248794556 \n",
      "Epoch: 194 ,reconstruction error: 0.7840099930763245 \n",
      "Epoch: 195 ,reconstruction error: 0.7855619788169861 \n",
      "Epoch: 195 ,reconstruction error: 0.787647008895874 \n"
     ]
    },
    {
     "name": "stdout",
     "output_type": "stream",
     "text": [
      "Epoch: 195 ,reconstruction error: 0.7847790122032166 \n",
      "Epoch: 195 ,reconstruction error: 0.7841100096702576 \n",
      "Epoch: 196 ,reconstruction error: 0.7855920195579529 \n",
      "Epoch: 196 ,reconstruction error: 0.7876729965209961 \n",
      "Epoch: 196 ,reconstruction error: 0.7846450209617615 \n",
      "Epoch: 196 ,reconstruction error: 0.7845640182495117 \n",
      "Epoch: 197 ,reconstruction error: 0.7860599756240845 \n",
      "Epoch: 197 ,reconstruction error: 0.7878069877624512 \n",
      "Epoch: 197 ,reconstruction error: 0.7847840189933777 \n",
      "Epoch: 197 ,reconstruction error: 0.7843480110168457 \n",
      "Epoch: 198 ,reconstruction error: 0.7857469916343689 \n",
      "Epoch: 198 ,reconstruction error: 0.7875930070877075 \n",
      "Epoch: 198 ,reconstruction error: 0.7848150134086609 \n",
      "Epoch: 198 ,reconstruction error: 0.7841860055923462 \n",
      "Epoch: 199 ,reconstruction error: 0.7855910062789917 \n",
      "Epoch: 199 ,reconstruction error: 0.7875549793243408 \n",
      "Epoch: 199 ,reconstruction error: 0.784600019454956 \n",
      "Epoch: 199 ,reconstruction error: 0.7842190265655518 \n",
      "Epoch: 200 ,reconstruction error: 0.7856029868125916 \n",
      "Epoch: 200 ,reconstruction error: 0.7875630259513855 \n",
      "Epoch: 200 ,reconstruction error: 0.7848590016365051 \n",
      "Epoch: 200 ,reconstruction error: 0.7843570113182068 \n",
      "Epoch: 201 ,reconstruction error: 0.7856320142745972 \n",
      "Epoch: 201 ,reconstruction error: 0.7874699831008911 \n",
      "Epoch: 201 ,reconstruction error: 0.7845699787139893 \n",
      "Epoch: 201 ,reconstruction error: 0.7841910123825073 \n",
      "Epoch: 202 ,reconstruction error: 0.7856720089912415 \n",
      "Epoch: 202 ,reconstruction error: 0.7875999808311462 \n",
      "Epoch: 202 ,reconstruction error: 0.7847809791564941 \n",
      "Epoch: 202 ,reconstruction error: 0.7841809988021851 \n",
      "Epoch: 203 ,reconstruction error: 0.7856780290603638 \n",
      "Epoch: 203 ,reconstruction error: 0.7876740097999573 \n",
      "Epoch: 203 ,reconstruction error: 0.7847610116004944 \n",
      "Epoch: 203 ,reconstruction error: 0.7843539714813232 \n",
      "Epoch: 204 ,reconstruction error: 0.7858800292015076 \n",
      "Epoch: 204 ,reconstruction error: 0.7878249883651733 \n",
      "Epoch: 204 ,reconstruction error: 0.7851639986038208 \n",
      "Epoch: 204 ,reconstruction error: 0.784375011920929 \n",
      "Epoch: 205 ,reconstruction error: 0.7857040166854858 \n",
      "Epoch: 205 ,reconstruction error: 0.7877029776573181 \n",
      "Epoch: 205 ,reconstruction error: 0.7849010229110718 \n",
      "Epoch: 205 ,reconstruction error: 0.7842890024185181 \n",
      "Epoch: 206 ,reconstruction error: 0.7858070135116577 \n",
      "Epoch: 206 ,reconstruction error: 0.787850022315979 \n",
      "Epoch: 206 ,reconstruction error: 0.7848640084266663 \n",
      "Epoch: 206 ,reconstruction error: 0.784555971622467 \n",
      "Epoch: 207 ,reconstruction error: 0.7858759760856628 \n",
      "Epoch: 207 ,reconstruction error: 0.7873070240020752 \n",
      "Epoch: 207 ,reconstruction error: 0.7851309776306152 \n",
      "Epoch: 207 ,reconstruction error: 0.7844430208206177 \n",
      "Epoch: 208 ,reconstruction error: 0.7862060070037842 \n",
      "Epoch: 208 ,reconstruction error: 0.787289023399353 \n",
      "Epoch: 208 ,reconstruction error: 0.7849590182304382 \n",
      "Epoch: 208 ,reconstruction error: 0.7845370173454285 \n",
      "Epoch: 209 ,reconstruction error: 0.7861260175704956 \n",
      "Epoch: 209 ,reconstruction error: 0.78752201795578 \n",
      "Epoch: 209 ,reconstruction error: 0.7850949764251709 \n",
      "Epoch: 209 ,reconstruction error: 0.7845839858055115 \n",
      "Epoch: 210 ,reconstruction error: 0.7860479950904846 \n",
      "Epoch: 210 ,reconstruction error: 0.7878199815750122 \n",
      "Epoch: 210 ,reconstruction error: 0.7848910093307495 \n",
      "Epoch: 210 ,reconstruction error: 0.7846140265464783 \n",
      "Epoch: 211 ,reconstruction error: 0.7859879732131958 \n",
      "Epoch: 211 ,reconstruction error: 0.7876729965209961 \n",
      "Epoch: 211 ,reconstruction error: 0.7851809859275818 \n",
      "Epoch: 211 ,reconstruction error: 0.784400999546051 \n",
      "Epoch: 212 ,reconstruction error: 0.785971999168396 \n",
      "Epoch: 212 ,reconstruction error: 0.7874619960784912 \n",
      "Epoch: 212 ,reconstruction error: 0.7849519848823547 \n",
      "Epoch: 212 ,reconstruction error: 0.7841609716415405 \n",
      "Epoch: 213 ,reconstruction error: 0.7857789993286133 \n",
      "Epoch: 213 ,reconstruction error: 0.7876279950141907 \n",
      "Epoch: 213 ,reconstruction error: 0.7850080132484436 \n",
      "Epoch: 213 ,reconstruction error: 0.7843490242958069 \n",
      "Epoch: 214 ,reconstruction error: 0.7858650088310242 \n",
      "Epoch: 214 ,reconstruction error: 0.7877280116081238 \n",
      "Epoch: 214 ,reconstruction error: 0.7849109768867493 \n",
      "Epoch: 214 ,reconstruction error: 0.7842069864273071 \n",
      "Epoch: 215 ,reconstruction error: 0.7858409881591797 \n",
      "Epoch: 215 ,reconstruction error: 0.7874580025672913 \n",
      "Epoch: 215 ,reconstruction error: 0.7849460244178772 \n",
      "Epoch: 215 ,reconstruction error: 0.7840369939804077 \n",
      "Epoch: 216 ,reconstruction error: 0.7859330177307129 \n",
      "Epoch: 216 ,reconstruction error: 0.7874450087547302 \n",
      "Epoch: 216 ,reconstruction error: 0.7850660085678101 \n",
      "Epoch: 216 ,reconstruction error: 0.7843030095100403 \n",
      "Epoch: 217 ,reconstruction error: 0.785618007183075 \n",
      "Epoch: 217 ,reconstruction error: 0.7876030206680298 \n",
      "Epoch: 217 ,reconstruction error: 0.7849419713020325 \n",
      "Epoch: 217 ,reconstruction error: 0.7842270135879517 \n",
      "Epoch: 218 ,reconstruction error: 0.7858859896659851 \n",
      "Epoch: 218 ,reconstruction error: 0.7877150177955627 \n",
      "Epoch: 218 ,reconstruction error: 0.7849370241165161 \n",
      "Epoch: 218 ,reconstruction error: 0.7843210101127625 \n",
      "Epoch: 219 ,reconstruction error: 0.7858930230140686 \n",
      "Epoch: 219 ,reconstruction error: 0.7874330282211304 \n",
      "Epoch: 219 ,reconstruction error: 0.7848230004310608 \n",
      "Epoch: 219 ,reconstruction error: 0.7842299938201904 \n",
      "Epoch: 220 ,reconstruction error: 0.7855010032653809 \n",
      "Epoch: 220 ,reconstruction error: 0.7872989773750305 \n",
      "Epoch: 220 ,reconstruction error: 0.78507399559021 \n",
      "Epoch: 220 ,reconstruction error: 0.7844690084457397 \n",
      "Epoch: 221 ,reconstruction error: 0.7858949899673462 \n",
      "Epoch: 221 ,reconstruction error: 0.7873070240020752 \n",
      "Epoch: 221 ,reconstruction error: 0.7849199771881104 \n",
      "Epoch: 221 ,reconstruction error: 0.7843719720840454 \n",
      "Epoch: 222 ,reconstruction error: 0.7856019735336304 \n",
      "Epoch: 222 ,reconstruction error: 0.787289023399353 \n",
      "Epoch: 222 ,reconstruction error: 0.7850109934806824 \n",
      "Epoch: 222 ,reconstruction error: 0.7841650247573853 \n",
      "Epoch: 223 ,reconstruction error: 0.7859669923782349 \n",
      "Epoch: 223 ,reconstruction error: 0.7871800065040588 \n",
      "Epoch: 223 ,reconstruction error: 0.7849050164222717 \n",
      "Epoch: 223 ,reconstruction error: 0.7844690084457397 \n",
      "Epoch: 224 ,reconstruction error: 0.7857459783554077 \n",
      "Epoch: 224 ,reconstruction error: 0.7872260212898254 \n",
      "Epoch: 224 ,reconstruction error: 0.7849400043487549 \n",
      "Epoch: 224 ,reconstruction error: 0.7842159867286682 \n",
      "Epoch: 225 ,reconstruction error: 0.7858830094337463 \n",
      "Epoch: 225 ,reconstruction error: 0.7871590256690979 \n",
      "Epoch: 225 ,reconstruction error: 0.7849990129470825 \n",
      "Epoch: 225 ,reconstruction error: 0.784600019454956 \n",
      "Epoch: 226 ,reconstruction error: 0.7859179973602295 \n",
      "Epoch: 226 ,reconstruction error: 0.7872049808502197 \n",
      "Epoch: 226 ,reconstruction error: 0.7849900126457214 \n",
      "Epoch: 226 ,reconstruction error: 0.7844910025596619 \n",
      "Epoch: 227 ,reconstruction error: 0.7857249975204468 \n",
      "Epoch: 227 ,reconstruction error: 0.7870219945907593 \n",
      "Epoch: 227 ,reconstruction error: 0.7849479913711548 \n",
      "Epoch: 227 ,reconstruction error: 0.784633994102478 \n",
      "Epoch: 228 ,reconstruction error: 0.7856720089912415 \n",
      "Epoch: 228 ,reconstruction error: 0.7871900200843811 \n",
      "Epoch: 228 ,reconstruction error: 0.7850210070610046 \n",
      "Epoch: 228 ,reconstruction error: 0.7843869924545288 \n",
      "Epoch: 229 ,reconstruction error: 0.7855299711227417 \n",
      "Epoch: 229 ,reconstruction error: 0.7870839834213257 \n",
      "Epoch: 229 ,reconstruction error: 0.7849640250205994 \n",
      "Epoch: 229 ,reconstruction error: 0.7844889760017395 \n"
     ]
    }
   ],
   "source": [
    "# Train RBM model\n",
    "err,rec = rbm.train(inputX,1)\n",
    "outputX, reconstructedX, hiddenX = rbm.rbm_output(inputX)"
   ]
  },
  {
   "cell_type": "code",
   "execution_count": 60,
   "metadata": {},
   "outputs": [
    {
     "data": {
      "image/png": "[encoded data removed]",
      "text/plain": [
       "<Figure size 576x360 with 1 Axes>"
      ]
     },
     "metadata": {
      "needs_background": "light"
     },
     "output_type": "display_data"
    }
   ],
   "source": [
    "# Plot reconstruction errors\n",
    "\n",
    "plt.figure(figsize=(8,5))\n",
    "pd.Series(err).plot(logy=False)\n",
    "plt.xlabel('Epoch')\n",
    "plt.ylabel('Reconstruction Error')\n",
    "plt.title('Reconstruction Errors')\n",
    "plt.show()"
   ]
  },
  {
   "cell_type": "code",
   "execution_count": 61,
   "metadata": {},
   "outputs": [
    {
     "name": "stdout",
     "output_type": "stream",
     "text": [
      "Mean squared error using RBM prediction: 12.15\n"
     ]
    }
   ],
   "source": [
    "# Predicting ratings for validation set\n",
    "\n",
    "inputValidation = ratings_validation\n",
    "inputValidation = inputValidation.astype(np.float32)\n",
    "\n",
    "finalOutput_validation, reconstructedOutput_validation, _ = rbm.rbm_output(inputValidation)\n",
    "\n",
    "# Calculating MSE for validation set\n",
    "\n",
    "predictionsArray = reconstructedOutput_validation\n",
    "pred_validation = predictionsArray[ratings_validation.nonzero()].flatten()\n",
    "actual_validation = ratings_validation[ratings_validation.nonzero()].flatten()\n",
    "\n",
    "rbm_prediction = mean_squared_error(pred_validation, actual_validation)\n",
    "\n",
    "# Adding results to results dataframe\n",
    "results = results.append({'Model': 'Restricted Boltzmann Machine', \n",
    "                          'MSE': rbm_prediction}, ignore_index=True)\n",
    "\n",
    "print('Mean squared error using RBM prediction:', round(rbm_prediction,2))"
   ]
  },
  {
   "cell_type": "markdown",
   "metadata": {},
   "source": [
    "### Recommendations for a mock user"
   ]
  },
  {
   "cell_type": "code",
   "execution_count": 70,
   "metadata": {},
   "outputs": [
    {
     "name": "stderr",
     "output_type": "stream",
     "text": [
      "/Library/Frameworks/Python.framework/Versions/3.7/lib/python3.7/site-packages/ipykernel_launcher.py:173: SettingWithCopyWarning: \n",
      "A value is trying to be set on a copy of a slice from a DataFrame.\n",
      "Try using .loc[row_indexer,col_indexer] = value instead\n",
      "\n",
      "See the caveats in the documentation: http://pandas.pydata.org/pandas-docs/stable/user_guide/indexing.html#returning-a-view-versus-a-copy\n"
     ]
    },
    {
     "data": {
      "text/html": [
       "<div>\n",
       "<style scoped>\n",
       "    .dataframe tbody tr th:only-of-type {\n",
       "        vertical-align: middle;\n",
       "    }\n",
       "\n",
       "    .dataframe tbody tr th {\n",
       "        vertical-align: top;\n",
       "    }\n",
       "\n",
       "    .dataframe thead th {\n",
       "        text-align: right;\n",
       "    }\n",
       "</style>\n",
       "<table border=\"1\" class=\"dataframe\">\n",
       "  <thead>\n",
       "    <tr style=\"text-align: right;\">\n",
       "      <th></th>\n",
       "      <th>book_name</th>\n",
       "      <th>book_authors</th>\n",
       "    </tr>\n",
       "  </thead>\n",
       "  <tbody>\n",
       "    <tr>\n",
       "      <th>0</th>\n",
       "      <td>The Girl on the Train</td>\n",
       "      <td>Paula Hawkins</td>\n",
       "    </tr>\n",
       "    <tr>\n",
       "      <th>1</th>\n",
       "      <td>The Road</td>\n",
       "      <td>Cormac McCarthy</td>\n",
       "    </tr>\n",
       "    <tr>\n",
       "      <th>2</th>\n",
       "      <td>ねじまき鳥クロニクル [Nejimakidori kuronikuru]</td>\n",
       "      <td>Haruki Murakami, Jay Rubin</td>\n",
       "    </tr>\n",
       "    <tr>\n",
       "      <th>3</th>\n",
       "      <td>Cloud Atlas</td>\n",
       "      <td>David Mitchell</td>\n",
       "    </tr>\n",
       "  </tbody>\n",
       "</table>\n",
       "</div>"
      ],
      "text/plain": [
       "                              book_name                book_authors\n",
       "0                 The Girl on the Train               Paula Hawkins\n",
       "1                              The Road             Cormac McCarthy\n",
       "2  ねじまき鳥クロニクル [Nejimakidori kuronikuru]  Haruki Murakami, Jay Rubin\n",
       "3                           Cloud Atlas              David Mitchell"
      ]
     },
     "execution_count": 70,
     "metadata": {},
     "output_type": "execute_result"
    }
   ],
   "source": [
    "#mock user id\n",
    "user=987\n",
    "\n",
    "# Getting recommended books for mock user\n",
    "unread, read = rbm.calculate_scores(reducedRatings, books, toread, rec, user)\n",
    "\n",
    "# Listing recommended books for mock user\n",
    "unread[['book_name','book_authors']]"
   ]
  },
  {
   "cell_type": "markdown",
   "metadata": {},
   "source": [
    "## Results"
   ]
  },
  {
   "cell_type": "code",
   "execution_count": 82,
   "metadata": {},
   "outputs": [
    {
     "data": {
      "text/html": [
       "<div>\n",
       "<style scoped>\n",
       "    .dataframe tbody tr th:only-of-type {\n",
       "        vertical-align: middle;\n",
       "    }\n",
       "\n",
       "    .dataframe tbody tr th {\n",
       "        vertical-align: top;\n",
       "    }\n",
       "\n",
       "    .dataframe thead th {\n",
       "        text-align: right;\n",
       "    }\n",
       "</style>\n",
       "<table border=\"1\" class=\"dataframe\">\n",
       "  <thead>\n",
       "    <tr style=\"text-align: right;\">\n",
       "      <th></th>\n",
       "      <th>Model</th>\n",
       "      <th>MSE</th>\n",
       "    </tr>\n",
       "  </thead>\n",
       "  <tbody>\n",
       "    <tr>\n",
       "      <th>0</th>\n",
       "      <td>Matrix Factorization</td>\n",
       "      <td>0.332057</td>\n",
       "    </tr>\n",
       "    <tr>\n",
       "      <th>1</th>\n",
       "      <td>Restricted Boltzmann Machine</td>\n",
       "      <td>12.150620</td>\n",
       "    </tr>\n",
       "  </tbody>\n",
       "</table>\n",
       "</div>"
      ],
      "text/plain": [
       "                          Model        MSE\n",
       "0          Matrix Factorization   0.332057\n",
       "1  Restricted Boltzmann Machine  12.150620"
      ]
     },
     "execution_count": 82,
     "metadata": {},
     "output_type": "execute_result"
    }
   ],
   "source": [
    "results"
   ]
  },
  {
   "cell_type": "markdown",
   "metadata": {},
   "source": [
    "_________________________________________________________\n",
    "\n",
    "By: Wendy Navarrete\n",
    "\n",
    "November 2019"
   ]
  }
 ],
 "metadata": {
  "kernelspec": {
   "display_name": "Python 3",
   "language": "python",
   "name": "python3"
  },
  "language_info": {
   "codemirror_mode": {
    "name": "ipython",
    "version": 3
   },
   "file_extension": ".py",
   "mimetype": "text/x-python",
   "name": "python",
   "nbconvert_exporter": "python",
   "pygments_lexer": "ipython3",
   "version": "3.7.5"
  }
 },
 "nbformat": 4,
 "nbformat_minor": 2
}
